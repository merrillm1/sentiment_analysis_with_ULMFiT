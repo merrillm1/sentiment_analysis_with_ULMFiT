{
  "nbformat": 4,
  "nbformat_minor": 0,
  "metadata": {
    "colab": {
      "name": "Yelp_Sentiment_Analysis_with_ULMFiT.ipynb",
      "provenance": [],
      "authorship_tag": "ABX9TyMzpDgGaNh5qJosVKnw7Cqu",
      "include_colab_link": true
    },
    "kernelspec": {
      "name": "python3",
      "display_name": "Python 3"
    },
    "accelerator": "GPU"
  },
  "cells": [
    {
      "cell_type": "markdown",
      "metadata": {
        "id": "view-in-github",
        "colab_type": "text"
      },
      "source": [
        "<a href=\"https://colab.research.google.com/github/merrillm1/sentiment_analysis_with_ULMFiT/blob/master/Yelp_Sentiment_Analysis_with_ULMFiT.ipynb\" target=\"_parent\"><img src=\"https://colab.research.google.com/assets/colab-badge.svg\" alt=\"Open In Colab\"/></a>"
      ]
    },
    {
      "cell_type": "code",
      "metadata": {
        "colab": {
          "base_uri": "https://localhost:8080/"
        },
        "id": "bRdexGJaDQwP",
        "outputId": "8dbbf479-0640-4fa0-87dc-cc266a886bab"
      },
      "source": [
        "%tensorflow_version 2.x\n",
        "import tensorflow as tf\n",
        "device_name = tf.test.gpu_device_name()\n",
        "if device_name != '/device:GPU:0':\n",
        "  raise SystemError('GPU device not found')\n",
        "print('Found GPU at: {}'.format(device_name))"
      ],
      "execution_count": 1,
      "outputs": [
        {
          "output_type": "stream",
          "text": [
            "Found GPU at: /device:GPU:0\n"
          ],
          "name": "stdout"
        }
      ]
    },
    {
      "cell_type": "code",
      "metadata": {
        "id": "3J2xGRsoD2ej"
      },
      "source": [
        "%tensorflow_version 2.x\n",
        "import tensorflow as tf\n",
        "import timeit"
      ],
      "execution_count": 2,
      "outputs": []
    },
    {
      "cell_type": "code",
      "metadata": {
        "id": "ScnBYUu-EQXH"
      },
      "source": [
        "%matplotlib inline\n",
        "import os\n",
        "import glob\n",
        "import pandas as pd\n",
        "import numpy as np\n",
        "import matplotlib.pyplot as plt\n",
        "import seaborn as sns\n",
        "import tensorflow as tf\n",
        "from fastai.metrics import accuracy\n",
        "from fastai.text import *\n",
        "from fastai import *"
      ],
      "execution_count": 3,
      "outputs": []
    },
    {
      "cell_type": "code",
      "metadata": {
        "id": "0iG53CW0xcJd"
      },
      "source": [
        "from pydrive.auth import GoogleAuth\n",
        "from pydrive.drive import GoogleDrive\n",
        "from google.colab import auth\n",
        "from oauth2client.client import GoogleCredentials\n",
        "# Authenticate and create the PyDrive client.\n",
        "auth.authenticate_user()\n",
        "gauth = GoogleAuth()\n",
        "gauth.credentials = GoogleCredentials.get_application_default()\n",
        "drive = GoogleDrive(gauth)"
      ],
      "execution_count": 4,
      "outputs": []
    },
    {
      "cell_type": "code",
      "metadata": {
        "id": "2aLvpag91dfW"
      },
      "source": [
        "import glob\n",
        "df_names = ['test', 'train']\n",
        "links = ['https://drive.google.com/file/d/1zD8AJ95_LgXZM23S16MSiiXr1IboFlcA', \n",
        "         'https://drive.google.com/file/d/12u0obCxGHe3l1MbeWId08FBQhVcEVMNK']\n",
        "for name, link in zip(df_names, links):\n",
        "  fluff, id = link.split('d/')\n",
        "  downloaded = drive.CreateFile({'id':id}) \n",
        "  downloaded.GetContentFile(name + '.csv')  \n",
        "  globals()[name] = pd.read_csv(name+'.csv', \n",
        "                                header=None, \n",
        "                                names = ['sentiment', 'text'])"
      ],
      "execution_count": 5,
      "outputs": []
    },
    {
      "cell_type": "code",
      "metadata": {
        "colab": {
          "base_uri": "https://localhost:8080/",
          "height": 374
        },
        "id": "xRxNVvCtvubn",
        "outputId": "e06939d2-4315-4055-c39c-969d23a25a1f"
      },
      "source": [
        "print(train.info())\n",
        "train.head()"
      ],
      "execution_count": 6,
      "outputs": [
        {
          "output_type": "stream",
          "text": [
            "<class 'pandas.core.frame.DataFrame'>\n",
            "RangeIndex: 560000 entries, 0 to 559999\n",
            "Data columns (total 2 columns):\n",
            " #   Column     Non-Null Count   Dtype \n",
            "---  ------     --------------   ----- \n",
            " 0   sentiment  560000 non-null  int64 \n",
            " 1   text       560000 non-null  object\n",
            "dtypes: int64(1), object(1)\n",
            "memory usage: 8.5+ MB\n",
            "None\n"
          ],
          "name": "stdout"
        },
        {
          "output_type": "execute_result",
          "data": {
            "text/html": [
              "<div>\n",
              "<style scoped>\n",
              "    .dataframe tbody tr th:only-of-type {\n",
              "        vertical-align: middle;\n",
              "    }\n",
              "\n",
              "    .dataframe tbody tr th {\n",
              "        vertical-align: top;\n",
              "    }\n",
              "\n",
              "    .dataframe thead th {\n",
              "        text-align: right;\n",
              "    }\n",
              "</style>\n",
              "<table border=\"1\" class=\"dataframe\">\n",
              "  <thead>\n",
              "    <tr style=\"text-align: right;\">\n",
              "      <th></th>\n",
              "      <th>sentiment</th>\n",
              "      <th>text</th>\n",
              "    </tr>\n",
              "  </thead>\n",
              "  <tbody>\n",
              "    <tr>\n",
              "      <th>0</th>\n",
              "      <td>1</td>\n",
              "      <td>Unfortunately, the frustration of being Dr. Go...</td>\n",
              "    </tr>\n",
              "    <tr>\n",
              "      <th>1</th>\n",
              "      <td>2</td>\n",
              "      <td>Been going to Dr. Goldberg for over 10 years. ...</td>\n",
              "    </tr>\n",
              "    <tr>\n",
              "      <th>2</th>\n",
              "      <td>1</td>\n",
              "      <td>I don't know what Dr. Goldberg was like before...</td>\n",
              "    </tr>\n",
              "    <tr>\n",
              "      <th>3</th>\n",
              "      <td>1</td>\n",
              "      <td>I'm writing this review to give you a heads up...</td>\n",
              "    </tr>\n",
              "    <tr>\n",
              "      <th>4</th>\n",
              "      <td>2</td>\n",
              "      <td>All the food is great here. But the best thing...</td>\n",
              "    </tr>\n",
              "  </tbody>\n",
              "</table>\n",
              "</div>"
            ],
            "text/plain": [
              "   sentiment                                               text\n",
              "0          1  Unfortunately, the frustration of being Dr. Go...\n",
              "1          2  Been going to Dr. Goldberg for over 10 years. ...\n",
              "2          1  I don't know what Dr. Goldberg was like before...\n",
              "3          1  I'm writing this review to give you a heads up...\n",
              "4          2  All the food is great here. But the best thing..."
            ]
          },
          "metadata": {
            "tags": []
          },
          "execution_count": 6
        }
      ]
    },
    {
      "cell_type": "code",
      "metadata": {
        "colab": {
          "base_uri": "https://localhost:8080/",
          "height": 374
        },
        "id": "1W9SX7ztv3lT",
        "outputId": "4c8265db-39db-437d-d71e-9eb0b13fb709"
      },
      "source": [
        "print(test.info())\n",
        "test.head()"
      ],
      "execution_count": 7,
      "outputs": [
        {
          "output_type": "stream",
          "text": [
            "<class 'pandas.core.frame.DataFrame'>\n",
            "RangeIndex: 38000 entries, 0 to 37999\n",
            "Data columns (total 2 columns):\n",
            " #   Column     Non-Null Count  Dtype \n",
            "---  ------     --------------  ----- \n",
            " 0   sentiment  38000 non-null  int64 \n",
            " 1   text       38000 non-null  object\n",
            "dtypes: int64(1), object(1)\n",
            "memory usage: 593.9+ KB\n",
            "None\n"
          ],
          "name": "stdout"
        },
        {
          "output_type": "execute_result",
          "data": {
            "text/html": [
              "<div>\n",
              "<style scoped>\n",
              "    .dataframe tbody tr th:only-of-type {\n",
              "        vertical-align: middle;\n",
              "    }\n",
              "\n",
              "    .dataframe tbody tr th {\n",
              "        vertical-align: top;\n",
              "    }\n",
              "\n",
              "    .dataframe thead th {\n",
              "        text-align: right;\n",
              "    }\n",
              "</style>\n",
              "<table border=\"1\" class=\"dataframe\">\n",
              "  <thead>\n",
              "    <tr style=\"text-align: right;\">\n",
              "      <th></th>\n",
              "      <th>sentiment</th>\n",
              "      <th>text</th>\n",
              "    </tr>\n",
              "  </thead>\n",
              "  <tbody>\n",
              "    <tr>\n",
              "      <th>0</th>\n",
              "      <td>2</td>\n",
              "      <td>Contrary to other reviews, I have zero complai...</td>\n",
              "    </tr>\n",
              "    <tr>\n",
              "      <th>1</th>\n",
              "      <td>1</td>\n",
              "      <td>Last summer I had an appointment to get new ti...</td>\n",
              "    </tr>\n",
              "    <tr>\n",
              "      <th>2</th>\n",
              "      <td>2</td>\n",
              "      <td>Friendly staff, same starbucks fair you get an...</td>\n",
              "    </tr>\n",
              "    <tr>\n",
              "      <th>3</th>\n",
              "      <td>1</td>\n",
              "      <td>The food is good. Unfortunately the service is...</td>\n",
              "    </tr>\n",
              "    <tr>\n",
              "      <th>4</th>\n",
              "      <td>2</td>\n",
              "      <td>Even when we didn't have a car Filene's Baseme...</td>\n",
              "    </tr>\n",
              "  </tbody>\n",
              "</table>\n",
              "</div>"
            ],
            "text/plain": [
              "   sentiment                                               text\n",
              "0          2  Contrary to other reviews, I have zero complai...\n",
              "1          1  Last summer I had an appointment to get new ti...\n",
              "2          2  Friendly staff, same starbucks fair you get an...\n",
              "3          1  The food is good. Unfortunately the service is...\n",
              "4          2  Even when we didn't have a car Filene's Baseme..."
            ]
          },
          "metadata": {
            "tags": []
          },
          "execution_count": 7
        }
      ]
    },
    {
      "cell_type": "code",
      "metadata": {
        "id": "-Qnk7xHZwQvm"
      },
      "source": [
        "sample_size = 10000\n",
        "train_sample = train.groupby('sentiment').apply(lambda x: x.sample(sample_size))[['sentiment', 'text']]\\\n",
        "                                         .reset_index(drop=True)"
      ],
      "execution_count": 8,
      "outputs": []
    },
    {
      "cell_type": "markdown",
      "metadata": {
        "id": "nkYvSeSNwr1F"
      },
      "source": [
        "## Fellowship ai Challenge Description\n",
        "\n",
        "Perform Sentiment analysis using ULMFiT on Yelp reviews - Polarity and apply the EDA augmentation. Report the performance metrics for before and after augmentation? show examples of data augmentaion?"
      ]
    },
    {
      "cell_type": "markdown",
      "metadata": {
        "id": "YVSQS_xPwxFp"
      },
      "source": [
        "## Exploratory Analysis\n",
        "\n",
        "Before processing with ULMFiT let's perform some expoloratory analysis to find out most common words, in the process we will also clean the text of urls and lower the case of all words to avoid unnecessary repeats. "
      ]
    },
    {
      "cell_type": "code",
      "metadata": {
        "id": "wSb6N9n-wtQ3"
      },
      "source": [
        "import itertools\n",
        "import collections\n",
        "\n",
        "import nltk\n",
        "from nltk.corpus import stopwords\n",
        "import re\n",
        "import networkx\n",
        "\n",
        "import warnings\n",
        "warnings.filterwarnings(\"ignore\")\n",
        "\n",
        "sns.set(font_scale=1.5)\n",
        "sns.set_style(\"whitegrid\")"
      ],
      "execution_count": 9,
      "outputs": []
    },
    {
      "cell_type": "code",
      "metadata": {
        "id": "dyY8QynBw0qi"
      },
      "source": [
        "all_reviews = [text for text in train_sample.text]"
      ],
      "execution_count": 10,
      "outputs": []
    },
    {
      "cell_type": "code",
      "metadata": {
        "colab": {
          "base_uri": "https://localhost:8080/"
        },
        "id": "rbyXfHgaw22F",
        "outputId": "e25120bf-ef3d-4ca1-a44f-09dfc7a0a065"
      },
      "source": [
        "all_reviews[:2]"
      ],
      "execution_count": 11,
      "outputs": [
        {
          "output_type": "execute_result",
          "data": {
            "text/plain": [
              "[\"One of the worst HOB I have been to.  My wife and I went here on a weekday and it wasn't too crowded. Decent looking place. My waitress was nice, but she reminded me of the gal that was on Seinfeld, a low talker.  I could barely hear anything she was saying.  I hoped I didn't misunderstand anything she said and ended up with a meal I didn't order.\\\\nI ordered a shrimp po' boy.  The shrimp was just okay, no spiceyness to it, but the bread it travelled in was bad.  It literally fell apart when I tried to pick it up. For the price, not even remotely worth it.\\\\nMy wife ordered a salad.  It was lettuce with a small chunk of blue cheese on the top and dressing on the side.  For nine bucks. And though this is no fault of HOB, my wife didn't like the lettuce offered and she asked for another kind.  They did not offer anything else.\\\\nVery disappointing meal.  Lots of waitresses and waiters standing around.  It seems like this place is going on it's rock and roll reputation. We will not be back, at least not this location.\",\n",
              " 'At first I thought it was a great idea to eliminate putting mascara every day so I went and have my lash extensions and yes look beautiful and I continue doing them for about 8 months until I starting to have I some gaps on the lashes the lash artist told me that I had those gaps in my own lashes so she could not attached the extensions. In their website they say that it will not hurt your own lashes but it does,  so I stop doing it. Do not buy into it IT DOES MAKE YOUR LASHES FALL. So do not do it. It is a false statement. \\\\nMaria from Vegas.']"
            ]
          },
          "metadata": {
            "tags": []
          },
          "execution_count": 11
        }
      ]
    },
    {
      "cell_type": "code",
      "metadata": {
        "id": "BABqbsXCw4du"
      },
      "source": [
        "def remove_url(txt):\n",
        "    \"\"\"Replace URLs found in a text string with nothing \n",
        "    (i.e. it will remove the URL from the string).\n",
        "\n",
        "    Parameters\n",
        "    ----------\n",
        "    txt : string\n",
        "        A text string that you want to parse and remove urls.\n",
        "\n",
        "    Returns\n",
        "    -------\n",
        "    The same txt string with url's removed.\n",
        "    \"\"\"\n",
        "\n",
        "    return \" \".join(re.sub(\"([^0-9A-Za-z \\t])|(\\w+:\\/\\/\\S+)\", \"\", txt).split())"
      ],
      "execution_count": 12,
      "outputs": []
    },
    {
      "cell_type": "code",
      "metadata": {
        "colab": {
          "base_uri": "https://localhost:8080/"
        },
        "id": "2FzcftLbw_bM",
        "outputId": "b44ed916-4e45-4016-ebe0-6b0b31cac0ff"
      },
      "source": [
        "all_reviews_no_urls = [remove_url(text) for text in all_reviews]\n",
        "all_reviews_no_urls[:2]"
      ],
      "execution_count": 13,
      "outputs": [
        {
          "output_type": "execute_result",
          "data": {
            "text/plain": [
              "['One of the worst HOB I have been to My wife and I went here on a weekday and it wasnt too crowded Decent looking place My waitress was nice but she reminded me of the gal that was on Seinfeld a low talker I could barely hear anything she was saying I hoped I didnt misunderstand anything she said and ended up with a meal I didnt ordernI ordered a shrimp po boy The shrimp was just okay no spiceyness to it but the bread it travelled in was bad It literally fell apart when I tried to pick it up For the price not even remotely worth itnMy wife ordered a salad It was lettuce with a small chunk of blue cheese on the top and dressing on the side For nine bucks And though this is no fault of HOB my wife didnt like the lettuce offered and she asked for another kind They did not offer anything elsenVery disappointing meal Lots of waitresses and waiters standing around It seems like this place is going on its rock and roll reputation We will not be back at least not this location',\n",
              " 'At first I thought it was a great idea to eliminate putting mascara every day so I went and have my lash extensions and yes look beautiful and I continue doing them for about 8 months until I starting to have I some gaps on the lashes the lash artist told me that I had those gaps in my own lashes so she could not attached the extensions In their website they say that it will not hurt your own lashes but it does so I stop doing it Do not buy into it IT DOES MAKE YOUR LASHES FALL So do not do it It is a false statement nMaria from Vegas']"
            ]
          },
          "metadata": {
            "tags": []
          },
          "execution_count": 13
        }
      ]
    },
    {
      "cell_type": "code",
      "metadata": {
        "id": "3X2ww_x1xBPg"
      },
      "source": [
        "# Create a list of lists containing lowercase words for each tweet\n",
        "words_in_review = [review.lower().split() for review in all_reviews_no_urls]\n",
        "all_reviews_lower = [review.lower() for review in all_reviews_no_urls]"
      ],
      "execution_count": 14,
      "outputs": []
    },
    {
      "cell_type": "code",
      "metadata": {
        "id": "NuuB0pxOxDuR"
      },
      "source": [
        "# List of all words across tweets\n",
        "all_words_no_urls = list(itertools.chain(*words_in_review))"
      ],
      "execution_count": 15,
      "outputs": []
    },
    {
      "cell_type": "code",
      "metadata": {
        "colab": {
          "base_uri": "https://localhost:8080/"
        },
        "id": "MjKg947RxFOn",
        "outputId": "3af26614-d049-4f14-d460-6f4f3b3961aa"
      },
      "source": [
        "# Collections library for python includes the counter function, which we will use here to count the frequency of words\n",
        "counts_no_urls = collections.Counter(all_words_no_urls)\n",
        "counts_no_urls.most_common(15)"
      ],
      "execution_count": 16,
      "outputs": [
        {
          "output_type": "execute_result",
          "data": {
            "text/plain": [
              "[('the', 131039),\n",
              " ('and', 86371),\n",
              " ('i', 68580),\n",
              " ('to', 67016),\n",
              " ('a', 66898),\n",
              " ('was', 47248),\n",
              " ('of', 39575),\n",
              " ('it', 33660),\n",
              " ('for', 30719),\n",
              " ('in', 29764),\n",
              " ('is', 29493),\n",
              " ('that', 24884),\n",
              " ('my', 23974),\n",
              " ('we', 21286),\n",
              " ('this', 21166)]"
            ]
          },
          "metadata": {
            "tags": []
          },
          "execution_count": 16
        }
      ]
    },
    {
      "cell_type": "markdown",
      "metadata": {
        "id": "nFQkyWPlxJCQ"
      },
      "source": [
        "> Let's remove the stop words and analyze the top words again. This may give us more insight into the text."
      ]
    },
    {
      "cell_type": "code",
      "metadata": {
        "colab": {
          "base_uri": "https://localhost:8080/"
        },
        "id": "99ItovpjxGqW",
        "outputId": "dcd236a6-ee82-4f26-d188-23e6c7c186ce"
      },
      "source": [
        "nltk.download('stopwords')"
      ],
      "execution_count": 17,
      "outputs": [
        {
          "output_type": "stream",
          "text": [
            "[nltk_data] Downloading package stopwords to /root/nltk_data...\n",
            "[nltk_data]   Unzipping corpora/stopwords.zip.\n"
          ],
          "name": "stdout"
        },
        {
          "output_type": "execute_result",
          "data": {
            "text/plain": [
              "True"
            ]
          },
          "metadata": {
            "tags": []
          },
          "execution_count": 17
        }
      ]
    },
    {
      "cell_type": "code",
      "metadata": {
        "id": "6-EB7VDYxLMH"
      },
      "source": [
        "stop_words = set(stopwords.words('english'))"
      ],
      "execution_count": 18,
      "outputs": []
    },
    {
      "cell_type": "code",
      "metadata": {
        "id": "l02HMnwyxNaD"
      },
      "source": [
        "# Remove stop words from each review list of words\n",
        "reviews_nsw = [[word for word in review_words if not word in stop_words]\n",
        "              for review_words in words_in_review]"
      ],
      "execution_count": 19,
      "outputs": []
    },
    {
      "cell_type": "code",
      "metadata": {
        "colab": {
          "base_uri": "https://localhost:8080/"
        },
        "id": "di3Osfe2xO5U",
        "outputId": "572472d1-12ea-4ec1-b14a-dacd7f3dcd92"
      },
      "source": [
        "# let's take a look again at the most common words\n",
        "all_words_nsw = list(itertools.chain(*reviews_nsw))\n",
        "\n",
        "counts_nsw = collections.Counter(all_words_nsw)\n",
        "\n",
        "counts_nsw.most_common(15)"
      ],
      "execution_count": 20,
      "outputs": [
        {
          "output_type": "execute_result",
          "data": {
            "text/plain": [
              "[('food', 11422),\n",
              " ('place', 11329),\n",
              " ('good', 10170),\n",
              " ('like', 9144),\n",
              " ('one', 8304),\n",
              " ('get', 8297),\n",
              " ('great', 7442),\n",
              " ('service', 7416),\n",
              " ('time', 7385),\n",
              " ('would', 7334),\n",
              " ('back', 6886),\n",
              " ('go', 6239),\n",
              " ('really', 5944),\n",
              " ('us', 5425),\n",
              " ('dont', 5036)]"
            ]
          },
          "metadata": {
            "tags": []
          },
          "execution_count": 20
        }
      ]
    },
    {
      "cell_type": "code",
      "metadata": {
        "colab": {
          "base_uri": "https://localhost:8080/",
          "height": 513
        },
        "id": "Nesw_b_CxQVi",
        "outputId": "2a9bc9d0-dec5-493e-a647-d3c16c32952b"
      },
      "source": [
        "clean_reviews_nsw = pd.DataFrame(counts_nsw.most_common(15),\n",
        "                             columns=['words', 'count'])\n",
        "\n",
        "fig, ax = plt.subplots(figsize=(8, 8))\n",
        "\n",
        "# Plot horizontal bar graph\n",
        "clean_reviews_nsw.sort_values(by='count').plot.barh(x='words',\n",
        "                      y='count',\n",
        "                      ax=ax,\n",
        "                      color=\"purple\")\n",
        "\n",
        "ax.set_title(\"Common Words Found in Reviews (Without Stop Words)\")\n",
        "\n",
        "plt.show()"
      ],
      "execution_count": 21,
      "outputs": [
        {
          "output_type": "display_data",
          "data": {
            "image/png": "[encoded data removed]",
            "text/plain": [
              "<Figure size 576x576 with 1 Axes>"
            ]
          },
          "metadata": {
            "tags": []
          }
        }
      ]
    },
    {
      "cell_type": "code",
      "metadata": {
        "colab": {
          "base_uri": "https://localhost:8080/"
        },
        "id": "rKTGtApQxSL5",
        "outputId": "abeae148-3517-48f3-c091-6d9134d19ded"
      },
      "source": [
        "all_reviews_lower[:2]"
      ],
      "execution_count": 22,
      "outputs": [
        {
          "output_type": "execute_result",
          "data": {
            "text/plain": [
              "['one of the worst hob i have been to my wife and i went here on a weekday and it wasnt too crowded decent looking place my waitress was nice but she reminded me of the gal that was on seinfeld a low talker i could barely hear anything she was saying i hoped i didnt misunderstand anything she said and ended up with a meal i didnt orderni ordered a shrimp po boy the shrimp was just okay no spiceyness to it but the bread it travelled in was bad it literally fell apart when i tried to pick it up for the price not even remotely worth itnmy wife ordered a salad it was lettuce with a small chunk of blue cheese on the top and dressing on the side for nine bucks and though this is no fault of hob my wife didnt like the lettuce offered and she asked for another kind they did not offer anything elsenvery disappointing meal lots of waitresses and waiters standing around it seems like this place is going on its rock and roll reputation we will not be back at least not this location',\n",
              " 'at first i thought it was a great idea to eliminate putting mascara every day so i went and have my lash extensions and yes look beautiful and i continue doing them for about 8 months until i starting to have i some gaps on the lashes the lash artist told me that i had those gaps in my own lashes so she could not attached the extensions in their website they say that it will not hurt your own lashes but it does so i stop doing it do not buy into it it does make your lashes fall so do not do it it is a false statement nmaria from vegas']"
            ]
          },
          "metadata": {
            "tags": []
          },
          "execution_count": 22
        }
      ]
    },
    {
      "cell_type": "code",
      "metadata": {
        "id": "Oq6gOj6axTyU"
      },
      "source": [
        "train_sample['clean_text'] = all_reviews_lower"
      ],
      "execution_count": 23,
      "outputs": []
    },
    {
      "cell_type": "code",
      "metadata": {
        "id": "g1mA5y1kxVRk"
      },
      "source": [
        "train_unprocessed = train_sample[['sentiment', 'text']]\n",
        "train_processed = train_sample[['sentiment', 'clean_text']]"
      ],
      "execution_count": 24,
      "outputs": []
    },
    {
      "cell_type": "code",
      "metadata": {
        "id": "88HP9pTdxWo6"
      },
      "source": [
        "from sklearn.model_selection import train_test_split\n",
        "\n",
        "# Split into training and test\n",
        "train_raw, test_raw = train_test_split(train_unprocessed,test_size=0.2,random_state=3)\n",
        "train_clean, test_clean = train_test_split(train_processed,test_size=0.2,random_state=3)"
      ],
      "execution_count": 25,
      "outputs": []
    },
    {
      "cell_type": "code",
      "metadata": {
        "id": "Mpxz1OnexYPQ"
      },
      "source": [
        "train_raw.to_csv('train_raw.csv', index=0)\n",
        "test_raw.to_csv('test_raw.csv', index=0)\n",
        "train_clean.to_csv('train_clean.csv', index=0)\n",
        "test_clean.to_csv('test_clean.csv', index=0)"
      ],
      "execution_count": 26,
      "outputs": []
    },
    {
      "cell_type": "code",
      "metadata": {
        "colab": {
          "base_uri": "https://localhost:8080/",
          "height": 17
        },
        "id": "Ic_iYHM5xZqo",
        "outputId": "e7d4362f-d451-475a-f006-a04a55c6f927"
      },
      "source": [
        "from fastai.text import *\n",
        "#dls = data.TextDataLoaders.from_df(df, path='', text_col='text', is_lm=True, label_col='sentiment')\n",
        "review_raw = TextLMDataBunch.from_csv(path='',csv_name='train_raw.csv',valid_pct=0.1)"
      ],
      "execution_count": 27,
      "outputs": [
        {
          "output_type": "display_data",
          "data": {
            "text/html": [
              ""
            ],
            "text/plain": [
              "<IPython.core.display.HTML object>"
            ]
          },
          "metadata": {
            "tags": []
          }
        },
        {
          "output_type": "display_data",
          "data": {
            "text/html": [
              ""
            ],
            "text/plain": [
              "<IPython.core.display.HTML object>"
            ]
          },
          "metadata": {
            "tags": []
          }
        }
      ]
    },
    {
      "cell_type": "code",
      "metadata": {
        "colab": {
          "base_uri": "https://localhost:8080/",
          "height": 374
        },
        "id": "KpJODf6DxbsC",
        "outputId": "ac6e0cc6-e27b-41ec-bfb4-6f1e52ce9b2b"
      },
      "source": [
        "review_raw.show_batch()"
      ],
      "execution_count": 28,
      "outputs": [
        {
          "output_type": "display_data",
          "data": {
            "text/html": [
              "<table border=\"1\" class=\"dataframe\">\n",
              "  <thead>\n",
              "    <tr style=\"text-align: right;\">\n",
              "      <th>idx</th>\n",
              "      <th>text</th>\n",
              "    </tr>\n",
              "  </thead>\n",
              "  <tbody>\n",
              "    <tr>\n",
              "      <td>0</td>\n",
              "      <td>wrong . xxmaj the hot peppers were not xxunk but just marinated jalape \\ u00f1os . \" xxmaj dipped \" here apparently means just xxunk some jus onto the beef . xxmaj regardless , had it been actually dipped , the jus would have made it way too salty . \\n \\n  xxmaj saw them making burgers on the grill . xxmaj not hand - formed , looked frozen</td>\n",
              "    </tr>\n",
              "    <tr>\n",
              "      <td>1</td>\n",
              "      <td>'s has some serious issues that they need to work on . i wo n't be returning anytime soon as there are too many good options in xxmaj cave xxmaj creek that have their act together . xxbos xxmaj probably my least favorite club in xxmaj vegas . xxmaj even with a table it becomes too crowded and when xxmaj vegas is over 110 a small over crowded club becomes</td>\n",
              "    </tr>\n",
              "    <tr>\n",
              "      <td>2</td>\n",
              "      <td>upset over the fact that i was not fully informed of their ticket purchasing policy , and how inflexible every single person was . xxmaj not one person had any compassion about my xxunk and just kept telling me , it 's their policy . xxmaj yes i understand the merits of policies and you have to have them to have structure and order especially running a huge establishment ,</td>\n",
              "    </tr>\n",
              "    <tr>\n",
              "      <td>3</td>\n",
              "      <td>has had and is consistently well trimmed and has had good flavor each time he 's ordered it . \\n \\n  a few other things worthy of mention : \\n  xxmaj maryland crab cakes ( full of crab and the apple relish served with it is fresh and a really good xxunk ) , and the creamy chicken noodle soup ( only served one day a week but</td>\n",
              "    </tr>\n",
              "    <tr>\n",
              "      <td>4</td>\n",
              "      <td>factory , but we think it 's better . xxmaj the portions are xxunk and the prices are cheap . xxup this xxup is a xxup bad xxup place xxup for a xxup diet ! xxmaj we were in xxmaj las xxmaj vegas over xxmaj thanksgiving and ate here the on xxmaj thanksgiving xxmaj eve . xxmaj like xxmaj the xxmaj cheesecake xxmaj factory , they have a large variety</td>\n",
              "    </tr>\n",
              "  </tbody>\n",
              "</table>"
            ],
            "text/plain": [
              "<IPython.core.display.HTML object>"
            ]
          },
          "metadata": {
            "tags": []
          }
        }
      ]
    },
    {
      "cell_type": "code",
      "metadata": {
        "colab": {
          "base_uri": "https://localhost:8080/",
          "height": 34
        },
        "id": "p3raODx4xdgZ",
        "outputId": "e49557fd-5748-4995-b786-1336149ba6da"
      },
      "source": [
        "raw_model = language_model_learner(review_raw, AWD_LSTM, drop_mult=0.3)"
      ],
      "execution_count": 29,
      "outputs": [
        {
          "output_type": "stream",
          "text": [
            "Downloading https://s3.amazonaws.com/fast-ai-modelzoo/wt103-fwd.tgz\n"
          ],
          "name": "stdout"
        },
        {
          "output_type": "display_data",
          "data": {
            "text/html": [
              ""
            ],
            "text/plain": [
              "<IPython.core.display.HTML object>"
            ]
          },
          "metadata": {
            "tags": []
          }
        }
      ]
    },
    {
      "cell_type": "code",
      "metadata": {
        "colab": {
          "base_uri": "https://localhost:8080/"
        },
        "id": "CzQ30MU5xfHM",
        "outputId": "abd943ea-9036-412b-f273-cb2a20e6994b"
      },
      "source": [
        "raw_model.model"
      ],
      "execution_count": 30,
      "outputs": [
        {
          "output_type": "execute_result",
          "data": {
            "text/plain": [
              "SequentialRNN(\n",
              "  (0): AWD_LSTM(\n",
              "    (encoder): Embedding(21376, 400, padding_idx=1)\n",
              "    (encoder_dp): EmbeddingDropout(\n",
              "      (emb): Embedding(21376, 400, padding_idx=1)\n",
              "    )\n",
              "    (rnns): ModuleList(\n",
              "      (0): WeightDropout(\n",
              "        (module): LSTM(400, 1152, batch_first=True)\n",
              "      )\n",
              "      (1): WeightDropout(\n",
              "        (module): LSTM(1152, 1152, batch_first=True)\n",
              "      )\n",
              "      (2): WeightDropout(\n",
              "        (module): LSTM(1152, 400, batch_first=True)\n",
              "      )\n",
              "    )\n",
              "    (input_dp): RNNDropout()\n",
              "    (hidden_dps): ModuleList(\n",
              "      (0): RNNDropout()\n",
              "      (1): RNNDropout()\n",
              "      (2): RNNDropout()\n",
              "    )\n",
              "  )\n",
              "  (1): LinearDecoder(\n",
              "    (decoder): Linear(in_features=400, out_features=21376, bias=True)\n",
              "    (output_dp): RNNDropout()\n",
              "  )\n",
              ")"
            ]
          },
          "metadata": {
            "tags": []
          },
          "execution_count": 30
        }
      ]
    },
    {
      "cell_type": "code",
      "metadata": {
        "colab": {
          "base_uri": "https://localhost:8080/",
          "height": 112
        },
        "id": "-RG4PTPwxgk3",
        "outputId": "c4d3983f-87ad-4458-ea69-3b628d124c03"
      },
      "source": [
        "raw_model.lr_find()"
      ],
      "execution_count": 31,
      "outputs": [
        {
          "output_type": "display_data",
          "data": {
            "text/html": [
              "\n",
              "    <div>\n",
              "        <style>\n",
              "            /* Turns off some styling */\n",
              "            progress {\n",
              "                /* gets rid of default border in Firefox and Opera. */\n",
              "                border: none;\n",
              "                /* Needs to be in here for Safari polyfill so background images work as expected. */\n",
              "                background-size: auto;\n",
              "            }\n",
              "            .progress-bar-interrupted, .progress-bar-interrupted::-webkit-progress-bar {\n",
              "                background: #F44336;\n",
              "            }\n",
              "        </style>\n",
              "      <progress value='0' class='' max='1' style='width:300px; height:20px; vertical-align: middle;'></progress>\n",
              "      0.00% [0/1 00:00<00:00]\n",
              "    </div>\n",
              "    \n",
              "<table border=\"1\" class=\"dataframe\">\n",
              "  <thead>\n",
              "    <tr style=\"text-align: left;\">\n",
              "      <th>epoch</th>\n",
              "      <th>train_loss</th>\n",
              "      <th>valid_loss</th>\n",
              "      <th>accuracy</th>\n",
              "      <th>time</th>\n",
              "    </tr>\n",
              "  </thead>\n",
              "  <tbody>\n",
              "  </tbody>\n",
              "</table><p>\n",
              "\n",
              "    <div>\n",
              "        <style>\n",
              "            /* Turns off some styling */\n",
              "            progress {\n",
              "                /* gets rid of default border in Firefox and Opera. */\n",
              "                border: none;\n",
              "                /* Needs to be in here for Safari polyfill so background images work as expected. */\n",
              "                background-size: auto;\n",
              "            }\n",
              "            .progress-bar-interrupted, .progress-bar-interrupted::-webkit-progress-bar {\n",
              "                background: #F44336;\n",
              "            }\n",
              "        </style>\n",
              "      <progress value='99' class='' max='552' style='width:300px; height:20px; vertical-align: middle;'></progress>\n",
              "      17.93% [99/552 00:22<01:42 10.9775]\n",
              "    </div>\n",
              "    "
            ],
            "text/plain": [
              "<IPython.core.display.HTML object>"
            ]
          },
          "metadata": {
            "tags": []
          }
        },
        {
          "output_type": "stream",
          "text": [
            "LR Finder is complete, type {learner_name}.recorder.plot() to see the graph.\n"
          ],
          "name": "stdout"
        }
      ]
    },
    {
      "cell_type": "code",
      "metadata": {
        "colab": {
          "base_uri": "https://localhost:8080/",
          "height": 332
        },
        "id": "Z0l8QsITxiIq",
        "outputId": "ac9a0221-35c7-4f12-b7c6-bc5911039cbb"
      },
      "source": [
        "raw_model.recorder.plot(show_grid=True, suggestion=True)"
      ],
      "execution_count": 32,
      "outputs": [
        {
          "output_type": "stream",
          "text": [
            "Min numerical gradient: 3.98E-02\n",
            "Min loss divided by 10: 1.45E-02\n"
          ],
          "name": "stdout"
        },
        {
          "output_type": "display_data",
          "data": {
            "image/png": "[encoded data removed]",
            "text/plain": [
              "<Figure size 432x288 with 1 Axes>"
            ]
          },
          "metadata": {
            "tags": []
          }
        }
      ]
    },
    {
      "cell_type": "code",
      "metadata": {
        "colab": {
          "base_uri": "https://localhost:8080/",
          "height": 80
        },
        "id": "1FRt141hxkQc",
        "outputId": "a7341eee-7821-4d9d-9aa1-725933b5edfd"
      },
      "source": [
        "raw_model.fit_one_cycle(cyc_len=1,max_lr=3.98E-02,moms=(0.85,0.75))"
      ],
      "execution_count": 33,
      "outputs": [
        {
          "output_type": "display_data",
          "data": {
            "text/html": [
              "<table border=\"1\" class=\"dataframe\">\n",
              "  <thead>\n",
              "    <tr style=\"text-align: left;\">\n",
              "      <th>epoch</th>\n",
              "      <th>train_loss</th>\n",
              "      <th>valid_loss</th>\n",
              "      <th>accuracy</th>\n",
              "      <th>time</th>\n",
              "    </tr>\n",
              "  </thead>\n",
              "  <tbody>\n",
              "    <tr>\n",
              "      <td>0</td>\n",
              "      <td>4.208251</td>\n",
              "      <td>4.025140</td>\n",
              "      <td>0.270467</td>\n",
              "      <td>02:04</td>\n",
              "    </tr>\n",
              "  </tbody>\n",
              "</table>"
            ],
            "text/plain": [
              "<IPython.core.display.HTML object>"
            ]
          },
          "metadata": {
            "tags": []
          }
        }
      ]
    },
    {
      "cell_type": "code",
      "metadata": {
        "id": "eEiH8JwKxmMX"
      },
      "source": [
        "raw_model.unfreeze()"
      ],
      "execution_count": 34,
      "outputs": []
    },
    {
      "cell_type": "code",
      "metadata": {
        "colab": {
          "base_uri": "https://localhost:8080/",
          "height": 204
        },
        "id": "L7o7bb3Kxn7u",
        "outputId": "075c83a0-2ff9-4299-e15f-765dea37a97c"
      },
      "source": [
        "raw_model.fit_one_cycle(cyc_len=5, max_lr=slice(3.98E-02/(2.6**4),3.98E-02), moms=(0.85, 0.75))"
      ],
      "execution_count": 35,
      "outputs": [
        {
          "output_type": "display_data",
          "data": {
            "text/html": [
              "<table border=\"1\" class=\"dataframe\">\n",
              "  <thead>\n",
              "    <tr style=\"text-align: left;\">\n",
              "      <th>epoch</th>\n",
              "      <th>train_loss</th>\n",
              "      <th>valid_loss</th>\n",
              "      <th>accuracy</th>\n",
              "      <th>time</th>\n",
              "    </tr>\n",
              "  </thead>\n",
              "  <tbody>\n",
              "    <tr>\n",
              "      <td>0</td>\n",
              "      <td>3.963167</td>\n",
              "      <td>3.962052</td>\n",
              "      <td>0.276487</td>\n",
              "      <td>02:37</td>\n",
              "    </tr>\n",
              "    <tr>\n",
              "      <td>1</td>\n",
              "      <td>3.907503</td>\n",
              "      <td>3.892173</td>\n",
              "      <td>0.283918</td>\n",
              "      <td>02:37</td>\n",
              "    </tr>\n",
              "    <tr>\n",
              "      <td>2</td>\n",
              "      <td>3.648359</td>\n",
              "      <td>3.789534</td>\n",
              "      <td>0.296000</td>\n",
              "      <td>02:37</td>\n",
              "    </tr>\n",
              "    <tr>\n",
              "      <td>3</td>\n",
              "      <td>3.273543</td>\n",
              "      <td>3.749079</td>\n",
              "      <td>0.302261</td>\n",
              "      <td>02:37</td>\n",
              "    </tr>\n",
              "    <tr>\n",
              "      <td>4</td>\n",
              "      <td>2.867759</td>\n",
              "      <td>3.841619</td>\n",
              "      <td>0.299140</td>\n",
              "      <td>02:36</td>\n",
              "    </tr>\n",
              "  </tbody>\n",
              "</table>"
            ],
            "text/plain": [
              "<IPython.core.display.HTML object>"
            ]
          },
          "metadata": {
            "tags": []
          }
        }
      ]
    },
    {
      "cell_type": "code",
      "metadata": {
        "id": "jbT_tPlex0ge"
      },
      "source": [
        "raw_model.save_encoder('encoder')"
      ],
      "execution_count": 36,
      "outputs": []
    },
    {
      "cell_type": "code",
      "metadata": {
        "colab": {
          "base_uri": "https://localhost:8080/",
          "height": 17
        },
        "id": "XcUUkHhTx2v7",
        "outputId": "64f8ce7d-c8d0-4877-a6da-dfd55fde5765"
      },
      "source": [
        "raw_class = TextClasDataBunch.from_csv(path='',csv_name='train_raw.csv',\n",
        "                              vocab=review_raw.train_ds.vocab,bs=32,text_cols='text',label_cols='sentiment')"
      ],
      "execution_count": 37,
      "outputs": [
        {
          "output_type": "display_data",
          "data": {
            "text/html": [
              ""
            ],
            "text/plain": [
              "<IPython.core.display.HTML object>"
            ]
          },
          "metadata": {
            "tags": []
          }
        },
        {
          "output_type": "display_data",
          "data": {
            "text/html": [
              ""
            ],
            "text/plain": [
              "<IPython.core.display.HTML object>"
            ]
          },
          "metadata": {
            "tags": []
          }
        }
      ]
    },
    {
      "cell_type": "code",
      "metadata": {
        "colab": {
          "base_uri": "https://localhost:8080/",
          "height": 340
        },
        "id": "SIkB-wbwx4Y3",
        "outputId": "f0f79087-644c-448a-e238-4629f13175e8"
      },
      "source": [
        "raw_class.show_batch()"
      ],
      "execution_count": 38,
      "outputs": [
        {
          "output_type": "display_data",
          "data": {
            "text/html": [
              "<table border=\"1\" class=\"dataframe\">\n",
              "  <thead>\n",
              "    <tr style=\"text-align: right;\">\n",
              "      <th>text</th>\n",
              "      <th>target</th>\n",
              "    </tr>\n",
              "  </thead>\n",
              "  <tbody>\n",
              "    <tr>\n",
              "      <td>xxbos xxup worst hotel experience of my xxup life ! ! \" xxmaj why \" nice people of xxunk ask ? i am not a xxunk to please type person - i can do it \" up \" or i am can be fine in a motel xxup but i am a stickler for nice service ! ! i just think the whole xxup hotel needs a staff makeover !</td>\n",
              "      <td>1</td>\n",
              "    </tr>\n",
              "    <tr>\n",
              "      <td>xxbos i have been a xxmaj harley owner for 10 years , and have owned 3 different xxmaj harley 's . i 've frequented several xxmaj harley shops trying to find the ones that provide the best and most convenient service . i used to be able to say this about xxmaj red xxmaj rock xxmaj harley , however , over the last six months , i 've had nothing</td>\n",
              "      <td>1</td>\n",
              "    </tr>\n",
              "    <tr>\n",
              "      <td>xxbos xxmaj short story : the guy smeared the sole rubber all over the shaft of my boots , said he did n't do it , tried to clean it up and took out some of the leather 's dye instead , and did n't give me a refund ( i 'd already paid ) . xxmaj moral the story : if you risk this dude , only pay him</td>\n",
              "      <td>1</td>\n",
              "    </tr>\n",
              "    <tr>\n",
              "      <td>xxbos xxmaj this school is sort of right down the middle in teaching quality and facilities . xxmaj classes , instructors , xxunk , all seem to fall into the \" xxmaj ok \" rating . \\n \\n  xxmaj at least the student worker staff and faculty are genuinely helpful , likely because xxup unlv usually exceeds all other places in xxmaj hospitality xxmaj management degrees . xxmaj it</td>\n",
              "      <td>1</td>\n",
              "    </tr>\n",
              "    <tr>\n",
              "      <td>xxbos xxmaj so , \\n \\n  xxmaj it 's done , i completed the 4 days on xxmaj friday and it was pretty good . i learned a lot and hopefully am a little smoother and faster now . xxmaj the total cost was xxunk for the 3 day school which i extended to 4 days at xxunk xxup xxunk . i paid 300 dollars for insurance ( still</td>\n",
              "      <td>2</td>\n",
              "    </tr>\n",
              "  </tbody>\n",
              "</table>"
            ],
            "text/plain": [
              "<IPython.core.display.HTML object>"
            ]
          },
          "metadata": {
            "tags": []
          }
        }
      ]
    },
    {
      "cell_type": "code",
      "metadata": {
        "id": "Z3uw3gUex52i"
      },
      "source": [
        "raw_model = text_classifier_learner(raw_class, AWD_LSTM, drop_mult=0.5)"
      ],
      "execution_count": 39,
      "outputs": []
    },
    {
      "cell_type": "code",
      "metadata": {
        "colab": {
          "base_uri": "https://localhost:8080/"
        },
        "id": "i_iCNgwlyHDz",
        "outputId": "489ad3da-5d29-40ac-b02a-974f4d55a42b"
      },
      "source": [
        "raw_model.load_encoder('encoder')"
      ],
      "execution_count": 40,
      "outputs": [
        {
          "output_type": "execute_result",
          "data": {
            "text/plain": [
              "RNNLearner(data=TextClasDataBunch;\n",
              "\n",
              "Train: LabelList (12799 items)\n",
              "x: TextList\n",
              "xxbos xxmaj unique location and amazing food ! xxmaj this little gem is hidden in the corner of the xxmaj antiques xxmaj market . xxmaj they have only been open about 2 weeks but i predict xxunk for this cafe . xxmaj the chef , xxmaj jackie xxmaj lim , is a transplant from xxup nyc and has brought her signature bacon jam to xxmaj vegas . xxmaj rumor on the street that she cooked for xxmaj bill xxmaj clinton ... well there 's also a picture on the wall =) xxmaj the style comes across as comfort food with an xxmaj asian touch , done with a rustic twist . xxmaj the meal starts with complimentary chips and home made garlic hummus . xxmaj after stalking the xxmaj yelp reviews , we settled on the xxup tnb signature burger and the xxmaj the xxmaj ryan ( panini with brisket ) . xxmaj however , other options were quite tantalizing as well , such as the xxmaj chicharron cobb salad ... and i do n't even like salad . xxmaj but hands down , the highlight of the meal was the xxup tnb signature burger . xxmaj one of the best burgers in xxmaj vegas , what is there not to like about a hamburger with bacon jam , mac and cheese , and sriracha mayo inside a brioche bun ? ! xxmaj the rich flavor from the gooey mac and cheese pairs perfectly with the spicy sriracha and the sweet / salty bacon jam . xxmaj the burger comes with a side of greens and fried tater tots tossed in truffle oil . xxmaj my one small complaint was that my tater tots were n't as crispy as my fiances ... noticeably pale compared to his golden ones . xxmaj but minor discrepancy that i 'm sure they will work out . xxmaj the staff is extremely friendly and constantly checks to make sure everything is to your liking with the meal . xxmaj the xxmaj ryan had amazingly tender brisket , but it xxunk in comparison to the xxup tnb burger . xxmaj as we were eating , a food critic happened to walk in , so of course i xxunk on her conversation . xxmaj they apparently have fresh brewed citrus teas , and a collection of fresh made pastries . xxmaj on the weekends , they have different flavors of scones , cakes , and brownies for breakfast / dessert as well . xxmaj these xxunk are created by a baker of xxmaj finnish origin , also a transplant from xxup nyc . xxmaj with the myriad of unique daily specials and a strong base menu , i 'm rooting for this restaurant to survive the xxmaj las xxmaj vegas market . xxmaj the cafe has a quaint feel and after eating to your hearts content , you can browse the peculiar items at the xxmaj antiques xxmaj market , giving your stomach a little time to digest .,xxbos xxmaj as has already been mentioned , the staff at xxmaj granny xxmaj mac is excellent . xxmaj they definitely make the trip worthwhile . xxmaj what makes the place a challenge , especially on a busy morning , is the parking lot . xxmaj it is on the small side , and finding a spot can be tough . xxmaj that is of course a good sign , but it makes things difficult , since unless you happen to live nearby , there is no way you 're going to walk in to pick up your sweets ( and let 's face it - xxmaj charlotte is not a very walkable place ) . \n",
              " \n",
              "  xxmaj once inside , there also is not much room to sit an enjoy your sweets - so prepare to take them with you . xxmaj that 's not altogether bad - just that it would be so much better to see somewhere like this in a location like xxmaj mike 's xxmaj pastry in xxmaj boston , where you could walk in , and perhaps enjoy the sweets on premises . xxmaj of course , at xxmaj mike 's you would probably be xxunk , but that 's another issue entirely . \n",
              " \n",
              "  xxmaj the treats themselves are overwhelmingly worthwhile . xxmaj definitely stop in and try something if you 're in the area - but you 'll want to get there early , as like many bakeries , they tend to run out of some of the favorites early in the day !,xxbos xxmaj summit xxmaj diner has a great menu , and low priced specials all the time . xxmaj the food is reasonably priced , considering the quality . i also like the fact that breakfast menu items are available anytime . xxmaj this business is fairly new , and has improved its service levels significantly , including a full bar , great outdoor seating and staff xxunk , since opening . i would never submit a negative review unless i knew management 's position first . xxmaj from my observation , the owner / xxunk cares very much about customer satisfaction , and values customer opinion . xxmaj they have responded with an extremely generous frequent customer reward certificate program ! xxmaj overall , making xxmaj summit xxmaj diner a routine dining choice , has been a convenient , prudent and positive experience for me .,xxbos xxmaj amazing ice cream but they could go easy with the salt on the pretzel cone . xxmaj the employees were wonderful and entertaining but i wish they were more knowledgeable with the ingredients .,xxbos xxmaj took my gf and gf 's family from out of country to xxmaj vegas . i 'm not so sure they enjoyed the trip much . xxmaj that was until the xxup ka part of the trip . xxmaj they thoroughly enjoyed that part of the trip . xxmaj this was my first xxmaj cirque show in xxmaj vegas and i really enjoyed the details of the whole production . xxmaj we had great seats and a great price as well . xxmaj when my gf and i go back we 'll definitely see another ... there was some knocking on the plot some scene tie ins were strange , but they get 5 stars for the production value !\n",
              "y: CategoryList\n",
              "2,2,2,2,2\n",
              "Path: .;\n",
              "\n",
              "Valid: LabelList (3201 items)\n",
              "x: TextList\n",
              "xxbos xxmaj not xxmaj china xxmaj town , but more like xxmaj china xxmaj oasis \n",
              " \n",
              "  xxmaj this is the closest thing to a xxmaj china xxmaj town in xxmaj phoenix . xxmaj there is not comparison to the ones in xxup la or xxup ny , but there is a lot of character present . i usually come here for xxmaj dim xxmaj sum at xxmaj golden xxmaj buddha and go to the l xxmaj ranch xxmaj supermarket , but it is small and quaint , but does give a fun representation of the xxmaj zen xxmaj chinese in the xxmaj koi xxmaj fish xxmaj pond and garden . xxmaj do n't expect xxup la or xxup ny xxmaj china xxmaj town , but not bad for the desert . \n",
              " \n",
              "  xxmaj if you find this useful , funny or cool , please check below .,xxbos i am a xxmaj hertz xxmaj gold member and the service that i received on my recent trip to xxmaj vegas was terrible .,xxbos xxmaj sit at the bar . \n",
              " \n",
              "  xxup omg delicious ! ! keep in mind this was our 2nd dinner of the night and everything was so appetizing that we still managed to finish everything . xxmaj my wife had the xxunk bowl with the xxunk miso soup while i opted for the $ 48 omakase . xxmaj great staff and best part about sitting at the sushi bar is watching the chefs prepare all the perfect delicious morsels right before your eyes .,xxbos xxmaj not a fan , why they chose to put it right next to westgate is beyond me . xxmaj the parking here is terrible . xxmaj when there 's a game or event going on in westgate do n't even bother . xxmaj no food court which is strange . xxmaj it 's all outdoors with no covered parking . xxmaj during the summer this place is going to be a nightmare . xxmaj they do have pretty good stores so they get 2 stars .,xxbos i stopped in here because it was in the area of another errand i was running . i am not impressed . i think xxmaj charlie did my mani / pedi . xxmaj he took a lot of care in doing my gel color manicure but it was 2 days and they already started chipping on multiple nails . \n",
              "  xxmaj then he forgot i wanted a pedi as well , i had to remind him before he tried to shuffle me out the door . xxmaj he was apologetic and did an alright job on my pedicure . xxmaj was a tad rough with the pumice stone on my feet but i can handle it . xxmaj he also decided to answer his phone in the middle of my pedi , talked back and forth with other workers in their language . xxmaj then made another call . xxmaj he apologized again but by this point i just wanted my experience to be over and never return . \n",
              "  xxmaj the employees were nice enough , the place on the edge of cleanliness . xxmaj prices were competitive . xxmaj polish colors were plentiful . \n",
              "  i had n't gotten a mani / pedi in a while ... i wish i had a better experience .\n",
              "y: CategoryList\n",
              "2,1,2,1,1\n",
              "Path: .;\n",
              "\n",
              "Test: None, model=SequentialRNN(\n",
              "  (0): MultiBatchEncoder(\n",
              "    (module): AWD_LSTM(\n",
              "      (encoder): Embedding(21376, 400, padding_idx=1)\n",
              "      (encoder_dp): EmbeddingDropout(\n",
              "        (emb): Embedding(21376, 400, padding_idx=1)\n",
              "      )\n",
              "      (rnns): ModuleList(\n",
              "        (0): WeightDropout(\n",
              "          (module): LSTM(400, 1152, batch_first=True)\n",
              "        )\n",
              "        (1): WeightDropout(\n",
              "          (module): LSTM(1152, 1152, batch_first=True)\n",
              "        )\n",
              "        (2): WeightDropout(\n",
              "          (module): LSTM(1152, 400, batch_first=True)\n",
              "        )\n",
              "      )\n",
              "      (input_dp): RNNDropout()\n",
              "      (hidden_dps): ModuleList(\n",
              "        (0): RNNDropout()\n",
              "        (1): RNNDropout()\n",
              "        (2): RNNDropout()\n",
              "      )\n",
              "    )\n",
              "  )\n",
              "  (1): PoolingLinearClassifier(\n",
              "    (layers): Sequential(\n",
              "      (0): BatchNorm1d(1200, eps=1e-05, momentum=0.1, affine=True, track_running_stats=True)\n",
              "      (1): Dropout(p=0.2, inplace=False)\n",
              "      (2): Linear(in_features=1200, out_features=50, bias=True)\n",
              "      (3): ReLU(inplace=True)\n",
              "      (4): BatchNorm1d(50, eps=1e-05, momentum=0.1, affine=True, track_running_stats=True)\n",
              "      (5): Dropout(p=0.1, inplace=False)\n",
              "      (6): Linear(in_features=50, out_features=2, bias=True)\n",
              "    )\n",
              "  )\n",
              "), opt_func=functools.partial(<class 'torch.optim.adam.Adam'>, betas=(0.9, 0.99)), loss_func=FlattenedLoss of CrossEntropyLoss(), metrics=[<function accuracy at 0x7f417e1829d8>], true_wd=True, bn_wd=True, wd=0.01, train_bn=True, path=PosixPath('.'), model_dir='models', callback_fns=[functools.partial(<class 'fastai.basic_train.Recorder'>, add_time=True, silent=False)], callbacks=[RNNTrainer\n",
              "learn: RNNLearner(data=TextClasDataBunch;\n",
              "\n",
              "Train: LabelList (12799 items)\n",
              "x: TextList\n",
              "xxbos xxmaj unique location and amazing food ! xxmaj this little gem is hidden in the corner of the xxmaj antiques xxmaj market . xxmaj they have only been open about 2 weeks but i predict xxunk for this cafe . xxmaj the chef , xxmaj jackie xxmaj lim , is a transplant from xxup nyc and has brought her signature bacon jam to xxmaj vegas . xxmaj rumor on the street that she cooked for xxmaj bill xxmaj clinton ... well there 's also a picture on the wall =) xxmaj the style comes across as comfort food with an xxmaj asian touch , done with a rustic twist . xxmaj the meal starts with complimentary chips and home made garlic hummus . xxmaj after stalking the xxmaj yelp reviews , we settled on the xxup tnb signature burger and the xxmaj the xxmaj ryan ( panini with brisket ) . xxmaj however , other options were quite tantalizing as well , such as the xxmaj chicharron cobb salad ... and i do n't even like salad . xxmaj but hands down , the highlight of the meal was the xxup tnb signature burger . xxmaj one of the best burgers in xxmaj vegas , what is there not to like about a hamburger with bacon jam , mac and cheese , and sriracha mayo inside a brioche bun ? ! xxmaj the rich flavor from the gooey mac and cheese pairs perfectly with the spicy sriracha and the sweet / salty bacon jam . xxmaj the burger comes with a side of greens and fried tater tots tossed in truffle oil . xxmaj my one small complaint was that my tater tots were n't as crispy as my fiances ... noticeably pale compared to his golden ones . xxmaj but minor discrepancy that i 'm sure they will work out . xxmaj the staff is extremely friendly and constantly checks to make sure everything is to your liking with the meal . xxmaj the xxmaj ryan had amazingly tender brisket , but it xxunk in comparison to the xxup tnb burger . xxmaj as we were eating , a food critic happened to walk in , so of course i xxunk on her conversation . xxmaj they apparently have fresh brewed citrus teas , and a collection of fresh made pastries . xxmaj on the weekends , they have different flavors of scones , cakes , and brownies for breakfast / dessert as well . xxmaj these xxunk are created by a baker of xxmaj finnish origin , also a transplant from xxup nyc . xxmaj with the myriad of unique daily specials and a strong base menu , i 'm rooting for this restaurant to survive the xxmaj las xxmaj vegas market . xxmaj the cafe has a quaint feel and after eating to your hearts content , you can browse the peculiar items at the xxmaj antiques xxmaj market , giving your stomach a little time to digest .,xxbos xxmaj as has already been mentioned , the staff at xxmaj granny xxmaj mac is excellent . xxmaj they definitely make the trip worthwhile . xxmaj what makes the place a challenge , especially on a busy morning , is the parking lot . xxmaj it is on the small side , and finding a spot can be tough . xxmaj that is of course a good sign , but it makes things difficult , since unless you happen to live nearby , there is no way you 're going to walk in to pick up your sweets ( and let 's face it - xxmaj charlotte is not a very walkable place ) . \n",
              " \n",
              "  xxmaj once inside , there also is not much room to sit an enjoy your sweets - so prepare to take them with you . xxmaj that 's not altogether bad - just that it would be so much better to see somewhere like this in a location like xxmaj mike 's xxmaj pastry in xxmaj boston , where you could walk in , and perhaps enjoy the sweets on premises . xxmaj of course , at xxmaj mike 's you would probably be xxunk , but that 's another issue entirely . \n",
              " \n",
              "  xxmaj the treats themselves are overwhelmingly worthwhile . xxmaj definitely stop in and try something if you 're in the area - but you 'll want to get there early , as like many bakeries , they tend to run out of some of the favorites early in the day !,xxbos xxmaj summit xxmaj diner has a great menu , and low priced specials all the time . xxmaj the food is reasonably priced , considering the quality . i also like the fact that breakfast menu items are available anytime . xxmaj this business is fairly new , and has improved its service levels significantly , including a full bar , great outdoor seating and staff xxunk , since opening . i would never submit a negative review unless i knew management 's position first . xxmaj from my observation , the owner / xxunk cares very much about customer satisfaction , and values customer opinion . xxmaj they have responded with an extremely generous frequent customer reward certificate program ! xxmaj overall , making xxmaj summit xxmaj diner a routine dining choice , has been a convenient , prudent and positive experience for me .,xxbos xxmaj amazing ice cream but they could go easy with the salt on the pretzel cone . xxmaj the employees were wonderful and entertaining but i wish they were more knowledgeable with the ingredients .,xxbos xxmaj took my gf and gf 's family from out of country to xxmaj vegas . i 'm not so sure they enjoyed the trip much . xxmaj that was until the xxup ka part of the trip . xxmaj they thoroughly enjoyed that part of the trip . xxmaj this was my first xxmaj cirque show in xxmaj vegas and i really enjoyed the details of the whole production . xxmaj we had great seats and a great price as well . xxmaj when my gf and i go back we 'll definitely see another ... there was some knocking on the plot some scene tie ins were strange , but they get 5 stars for the production value !\n",
              "y: CategoryList\n",
              "2,2,2,2,2\n",
              "Path: .;\n",
              "\n",
              "Valid: LabelList (3201 items)\n",
              "x: TextList\n",
              "xxbos xxmaj not xxmaj china xxmaj town , but more like xxmaj china xxmaj oasis \n",
              " \n",
              "  xxmaj this is the closest thing to a xxmaj china xxmaj town in xxmaj phoenix . xxmaj there is not comparison to the ones in xxup la or xxup ny , but there is a lot of character present . i usually come here for xxmaj dim xxmaj sum at xxmaj golden xxmaj buddha and go to the l xxmaj ranch xxmaj supermarket , but it is small and quaint , but does give a fun representation of the xxmaj zen xxmaj chinese in the xxmaj koi xxmaj fish xxmaj pond and garden . xxmaj do n't expect xxup la or xxup ny xxmaj china xxmaj town , but not bad for the desert . \n",
              " \n",
              "  xxmaj if you find this useful , funny or cool , please check below .,xxbos i am a xxmaj hertz xxmaj gold member and the service that i received on my recent trip to xxmaj vegas was terrible .,xxbos xxmaj sit at the bar . \n",
              " \n",
              "  xxup omg delicious ! ! keep in mind this was our 2nd dinner of the night and everything was so appetizing that we still managed to finish everything . xxmaj my wife had the xxunk bowl with the xxunk miso soup while i opted for the $ 48 omakase . xxmaj great staff and best part about sitting at the sushi bar is watching the chefs prepare all the perfect delicious morsels right before your eyes .,xxbos xxmaj not a fan , why they chose to put it right next to westgate is beyond me . xxmaj the parking here is terrible . xxmaj when there 's a game or event going on in westgate do n't even bother . xxmaj no food court which is strange . xxmaj it 's all outdoors with no covered parking . xxmaj during the summer this place is going to be a nightmare . xxmaj they do have pretty good stores so they get 2 stars .,xxbos i stopped in here because it was in the area of another errand i was running . i am not impressed . i think xxmaj charlie did my mani / pedi . xxmaj he took a lot of care in doing my gel color manicure but it was 2 days and they already started chipping on multiple nails . \n",
              "  xxmaj then he forgot i wanted a pedi as well , i had to remind him before he tried to shuffle me out the door . xxmaj he was apologetic and did an alright job on my pedicure . xxmaj was a tad rough with the pumice stone on my feet but i can handle it . xxmaj he also decided to answer his phone in the middle of my pedi , talked back and forth with other workers in their language . xxmaj then made another call . xxmaj he apologized again but by this point i just wanted my experience to be over and never return . \n",
              "  xxmaj the employees were nice enough , the place on the edge of cleanliness . xxmaj prices were competitive . xxmaj polish colors were plentiful . \n",
              "  i had n't gotten a mani / pedi in a while ... i wish i had a better experience .\n",
              "y: CategoryList\n",
              "2,1,2,1,1\n",
              "Path: .;\n",
              "\n",
              "Test: None, model=SequentialRNN(\n",
              "  (0): MultiBatchEncoder(\n",
              "    (module): AWD_LSTM(\n",
              "      (encoder): Embedding(21376, 400, padding_idx=1)\n",
              "      (encoder_dp): EmbeddingDropout(\n",
              "        (emb): Embedding(21376, 400, padding_idx=1)\n",
              "      )\n",
              "      (rnns): ModuleList(\n",
              "        (0): WeightDropout(\n",
              "          (module): LSTM(400, 1152, batch_first=True)\n",
              "        )\n",
              "        (1): WeightDropout(\n",
              "          (module): LSTM(1152, 1152, batch_first=True)\n",
              "        )\n",
              "        (2): WeightDropout(\n",
              "          (module): LSTM(1152, 400, batch_first=True)\n",
              "        )\n",
              "      )\n",
              "      (input_dp): RNNDropout()\n",
              "      (hidden_dps): ModuleList(\n",
              "        (0): RNNDropout()\n",
              "        (1): RNNDropout()\n",
              "        (2): RNNDropout()\n",
              "      )\n",
              "    )\n",
              "  )\n",
              "  (1): PoolingLinearClassifier(\n",
              "    (layers): Sequential(\n",
              "      (0): BatchNorm1d(1200, eps=1e-05, momentum=0.1, affine=True, track_running_stats=True)\n",
              "      (1): Dropout(p=0.2, inplace=False)\n",
              "      (2): Linear(in_features=1200, out_features=50, bias=True)\n",
              "      (3): ReLU(inplace=True)\n",
              "      (4): BatchNorm1d(50, eps=1e-05, momentum=0.1, affine=True, track_running_stats=True)\n",
              "      (5): Dropout(p=0.1, inplace=False)\n",
              "      (6): Linear(in_features=50, out_features=2, bias=True)\n",
              "    )\n",
              "  )\n",
              "), opt_func=functools.partial(<class 'torch.optim.adam.Adam'>, betas=(0.9, 0.99)), loss_func=FlattenedLoss of CrossEntropyLoss(), metrics=[<function accuracy at 0x7f417e1829d8>], true_wd=True, bn_wd=True, wd=0.01, train_bn=True, path=PosixPath('.'), model_dir='models', callback_fns=[functools.partial(<class 'fastai.basic_train.Recorder'>, add_time=True, silent=False)], callbacks=[...], layer_groups=[Sequential(\n",
              "  (0): Embedding(21376, 400, padding_idx=1)\n",
              "  (1): EmbeddingDropout(\n",
              "    (emb): Embedding(21376, 400, padding_idx=1)\n",
              "  )\n",
              "), Sequential(\n",
              "  (0): WeightDropout(\n",
              "    (module): LSTM(400, 1152, batch_first=True)\n",
              "  )\n",
              "  (1): RNNDropout()\n",
              "), Sequential(\n",
              "  (0): WeightDropout(\n",
              "    (module): LSTM(1152, 1152, batch_first=True)\n",
              "  )\n",
              "  (1): RNNDropout()\n",
              "), Sequential(\n",
              "  (0): WeightDropout(\n",
              "    (module): LSTM(1152, 400, batch_first=True)\n",
              "  )\n",
              "  (1): RNNDropout()\n",
              "), Sequential(\n",
              "  (0): PoolingLinearClassifier(\n",
              "    (layers): Sequential(\n",
              "      (0): BatchNorm1d(1200, eps=1e-05, momentum=0.1, affine=True, track_running_stats=True)\n",
              "      (1): Dropout(p=0.2, inplace=False)\n",
              "      (2): Linear(in_features=1200, out_features=50, bias=True)\n",
              "      (3): ReLU(inplace=True)\n",
              "      (4): BatchNorm1d(50, eps=1e-05, momentum=0.1, affine=True, track_running_stats=True)\n",
              "      (5): Dropout(p=0.1, inplace=False)\n",
              "      (6): Linear(in_features=50, out_features=2, bias=True)\n",
              "    )\n",
              "  )\n",
              ")], add_time=True, silent=False)\n",
              "alpha: 2.0\n",
              "beta: 1.0], layer_groups=[Sequential(\n",
              "  (0): Embedding(21376, 400, padding_idx=1)\n",
              "  (1): EmbeddingDropout(\n",
              "    (emb): Embedding(21376, 400, padding_idx=1)\n",
              "  )\n",
              "), Sequential(\n",
              "  (0): WeightDropout(\n",
              "    (module): LSTM(400, 1152, batch_first=True)\n",
              "  )\n",
              "  (1): RNNDropout()\n",
              "), Sequential(\n",
              "  (0): WeightDropout(\n",
              "    (module): LSTM(1152, 1152, batch_first=True)\n",
              "  )\n",
              "  (1): RNNDropout()\n",
              "), Sequential(\n",
              "  (0): WeightDropout(\n",
              "    (module): LSTM(1152, 400, batch_first=True)\n",
              "  )\n",
              "  (1): RNNDropout()\n",
              "), Sequential(\n",
              "  (0): PoolingLinearClassifier(\n",
              "    (layers): Sequential(\n",
              "      (0): BatchNorm1d(1200, eps=1e-05, momentum=0.1, affine=True, track_running_stats=True)\n",
              "      (1): Dropout(p=0.2, inplace=False)\n",
              "      (2): Linear(in_features=1200, out_features=50, bias=True)\n",
              "      (3): ReLU(inplace=True)\n",
              "      (4): BatchNorm1d(50, eps=1e-05, momentum=0.1, affine=True, track_running_stats=True)\n",
              "      (5): Dropout(p=0.1, inplace=False)\n",
              "      (6): Linear(in_features=50, out_features=2, bias=True)\n",
              "    )\n",
              "  )\n",
              ")], add_time=True, silent=False)"
            ]
          },
          "metadata": {
            "tags": []
          },
          "execution_count": 40
        }
      ]
    },
    {
      "cell_type": "code",
      "metadata": {
        "colab": {
          "base_uri": "https://localhost:8080/"
        },
        "id": "i4UM9PkbyOQd",
        "outputId": "bf0b665d-075e-4bd9-de39-7ffc3ae994b7"
      },
      "source": [
        "raw_model.model"
      ],
      "execution_count": 41,
      "outputs": [
        {
          "output_type": "execute_result",
          "data": {
            "text/plain": [
              "SequentialRNN(\n",
              "  (0): MultiBatchEncoder(\n",
              "    (module): AWD_LSTM(\n",
              "      (encoder): Embedding(21376, 400, padding_idx=1)\n",
              "      (encoder_dp): EmbeddingDropout(\n",
              "        (emb): Embedding(21376, 400, padding_idx=1)\n",
              "      )\n",
              "      (rnns): ModuleList(\n",
              "        (0): WeightDropout(\n",
              "          (module): LSTM(400, 1152, batch_first=True)\n",
              "        )\n",
              "        (1): WeightDropout(\n",
              "          (module): LSTM(1152, 1152, batch_first=True)\n",
              "        )\n",
              "        (2): WeightDropout(\n",
              "          (module): LSTM(1152, 400, batch_first=True)\n",
              "        )\n",
              "      )\n",
              "      (input_dp): RNNDropout()\n",
              "      (hidden_dps): ModuleList(\n",
              "        (0): RNNDropout()\n",
              "        (1): RNNDropout()\n",
              "        (2): RNNDropout()\n",
              "      )\n",
              "    )\n",
              "  )\n",
              "  (1): PoolingLinearClassifier(\n",
              "    (layers): Sequential(\n",
              "      (0): BatchNorm1d(1200, eps=1e-05, momentum=0.1, affine=True, track_running_stats=True)\n",
              "      (1): Dropout(p=0.2, inplace=False)\n",
              "      (2): Linear(in_features=1200, out_features=50, bias=True)\n",
              "      (3): ReLU(inplace=True)\n",
              "      (4): BatchNorm1d(50, eps=1e-05, momentum=0.1, affine=True, track_running_stats=True)\n",
              "      (5): Dropout(p=0.1, inplace=False)\n",
              "      (6): Linear(in_features=50, out_features=2, bias=True)\n",
              "    )\n",
              "  )\n",
              ")"
            ]
          },
          "metadata": {
            "tags": []
          },
          "execution_count": 41
        }
      ]
    },
    {
      "cell_type": "code",
      "metadata": {
        "colab": {
          "base_uri": "https://localhost:8080/",
          "height": 112
        },
        "id": "P5b7zgQyyPxM",
        "outputId": "5326574c-b336-4c1e-f119-7b8067808645"
      },
      "source": [
        "raw_model.lr_find()"
      ],
      "execution_count": 42,
      "outputs": [
        {
          "output_type": "display_data",
          "data": {
            "text/html": [
              "\n",
              "    <div>\n",
              "        <style>\n",
              "            /* Turns off some styling */\n",
              "            progress {\n",
              "                /* gets rid of default border in Firefox and Opera. */\n",
              "                border: none;\n",
              "                /* Needs to be in here for Safari polyfill so background images work as expected. */\n",
              "                background-size: auto;\n",
              "            }\n",
              "            .progress-bar-interrupted, .progress-bar-interrupted::-webkit-progress-bar {\n",
              "                background: #F44336;\n",
              "            }\n",
              "        </style>\n",
              "      <progress value='0' class='' max='1' style='width:300px; height:20px; vertical-align: middle;'></progress>\n",
              "      0.00% [0/1 00:00<00:00]\n",
              "    </div>\n",
              "    \n",
              "<table border=\"1\" class=\"dataframe\">\n",
              "  <thead>\n",
              "    <tr style=\"text-align: left;\">\n",
              "      <th>epoch</th>\n",
              "      <th>train_loss</th>\n",
              "      <th>valid_loss</th>\n",
              "      <th>accuracy</th>\n",
              "      <th>time</th>\n",
              "    </tr>\n",
              "  </thead>\n",
              "  <tbody>\n",
              "  </tbody>\n",
              "</table><p>\n",
              "\n",
              "    <div>\n",
              "        <style>\n",
              "            /* Turns off some styling */\n",
              "            progress {\n",
              "                /* gets rid of default border in Firefox and Opera. */\n",
              "                border: none;\n",
              "                /* Needs to be in here for Safari polyfill so background images work as expected. */\n",
              "                background-size: auto;\n",
              "            }\n",
              "            .progress-bar-interrupted, .progress-bar-interrupted::-webkit-progress-bar {\n",
              "                background: #F44336;\n",
              "            }\n",
              "        </style>\n",
              "      <progress value='94' class='' max='399' style='width:300px; height:20px; vertical-align: middle;'></progress>\n",
              "      23.56% [94/399 00:11<00:37 1.2647]\n",
              "    </div>\n",
              "    "
            ],
            "text/plain": [
              "<IPython.core.display.HTML object>"
            ]
          },
          "metadata": {
            "tags": []
          }
        },
        {
          "output_type": "stream",
          "text": [
            "LR Finder is complete, type {learner_name}.recorder.plot() to see the graph.\n"
          ],
          "name": "stdout"
        }
      ]
    },
    {
      "cell_type": "code",
      "metadata": {
        "colab": {
          "base_uri": "https://localhost:8080/",
          "height": 332
        },
        "id": "Lv-uXIkwyVPf",
        "outputId": "e670f339-85f5-4179-b0d8-b9140b46ab4d"
      },
      "source": [
        "raw_model.recorder.plot(show_grid=True, suggestion=True)"
      ],
      "execution_count": 43,
      "outputs": [
        {
          "output_type": "stream",
          "text": [
            "Min numerical gradient: 1.74E-03\n",
            "Min loss divided by 10: 2.09E-02\n"
          ],
          "name": "stdout"
        },
        {
          "output_type": "display_data",
          "data": {
            "image/png": "[encoded data removed]",
            "text/plain": [
              "<Figure size 432x288 with 1 Axes>"
            ]
          },
          "metadata": {
            "tags": []
          }
        }
      ]
    },
    {
      "cell_type": "code",
      "metadata": {
        "colab": {
          "base_uri": "https://localhost:8080/",
          "height": 80
        },
        "id": "uQfyDF3GWCP-",
        "outputId": "8d30eb98-2311-4bbd-d9fe-61c3cc98b9cc"
      },
      "source": [
        "raw_model.fit_one_cycle(cyc_len=1,max_lr=1.74E-03,moms=(0.85,0.75))"
      ],
      "execution_count": 44,
      "outputs": [
        {
          "output_type": "display_data",
          "data": {
            "text/html": [
              "<table border=\"1\" class=\"dataframe\">\n",
              "  <thead>\n",
              "    <tr style=\"text-align: left;\">\n",
              "      <th>epoch</th>\n",
              "      <th>train_loss</th>\n",
              "      <th>valid_loss</th>\n",
              "      <th>accuracy</th>\n",
              "      <th>time</th>\n",
              "    </tr>\n",
              "  </thead>\n",
              "  <tbody>\n",
              "    <tr>\n",
              "      <td>0</td>\n",
              "      <td>0.270082</td>\n",
              "      <td>0.190019</td>\n",
              "      <td>0.926898</td>\n",
              "      <td>00:54</td>\n",
              "    </tr>\n",
              "  </tbody>\n",
              "</table>"
            ],
            "text/plain": [
              "<IPython.core.display.HTML object>"
            ]
          },
          "metadata": {
            "tags": []
          }
        }
      ]
    },
    {
      "cell_type": "code",
      "metadata": {
        "id": "x8vFQt-waT79"
      },
      "source": [
        "raw_model.freeze_to(-2)"
      ],
      "execution_count": 45,
      "outputs": []
    },
    {
      "cell_type": "code",
      "metadata": {
        "colab": {
          "base_uri": "https://localhost:8080/",
          "height": 204
        },
        "id": "X6jaSDjk_b34",
        "outputId": "a0d07fdc-afd4-4f63-d70f-592965a3ac96"
      },
      "source": [
        "raw_model.fit_one_cycle(5,slice(1.74E-03/(2.6**4),1.74E-03))"
      ],
      "execution_count": 46,
      "outputs": [
        {
          "output_type": "display_data",
          "data": {
            "text/html": [
              "<table border=\"1\" class=\"dataframe\">\n",
              "  <thead>\n",
              "    <tr style=\"text-align: left;\">\n",
              "      <th>epoch</th>\n",
              "      <th>train_loss</th>\n",
              "      <th>valid_loss</th>\n",
              "      <th>accuracy</th>\n",
              "      <th>time</th>\n",
              "    </tr>\n",
              "  </thead>\n",
              "  <tbody>\n",
              "    <tr>\n",
              "      <td>0</td>\n",
              "      <td>0.253153</td>\n",
              "      <td>0.190775</td>\n",
              "      <td>0.924086</td>\n",
              "      <td>01:21</td>\n",
              "    </tr>\n",
              "    <tr>\n",
              "      <td>1</td>\n",
              "      <td>0.253208</td>\n",
              "      <td>0.163169</td>\n",
              "      <td>0.933146</td>\n",
              "      <td>01:19</td>\n",
              "    </tr>\n",
              "    <tr>\n",
              "      <td>2</td>\n",
              "      <td>0.206931</td>\n",
              "      <td>0.156035</td>\n",
              "      <td>0.936582</td>\n",
              "      <td>01:01</td>\n",
              "    </tr>\n",
              "    <tr>\n",
              "      <td>3</td>\n",
              "      <td>0.207744</td>\n",
              "      <td>0.154875</td>\n",
              "      <td>0.940331</td>\n",
              "      <td>01:12</td>\n",
              "    </tr>\n",
              "    <tr>\n",
              "      <td>4</td>\n",
              "      <td>0.171847</td>\n",
              "      <td>0.152281</td>\n",
              "      <td>0.938144</td>\n",
              "      <td>01:08</td>\n",
              "    </tr>\n",
              "  </tbody>\n",
              "</table>"
            ],
            "text/plain": [
              "<IPython.core.display.HTML object>"
            ]
          },
          "metadata": {
            "tags": []
          }
        }
      ]
    },
    {
      "cell_type": "code",
      "metadata": {
        "colab": {
          "base_uri": "https://localhost:8080/",
          "height": 204
        },
        "id": "v7IaNu2u_j7y",
        "outputId": "6b8a82ec-118a-42e1-dd42-6be6d9480ae5"
      },
      "source": [
        "raw_model.freeze_to(-3)\n",
        "raw_model.fit_one_cycle(5,slice(1.74E-03/(2.6**4),1.74E-03))"
      ],
      "execution_count": 47,
      "outputs": [
        {
          "output_type": "display_data",
          "data": {
            "text/html": [
              "<table border=\"1\" class=\"dataframe\">\n",
              "  <thead>\n",
              "    <tr style=\"text-align: left;\">\n",
              "      <th>epoch</th>\n",
              "      <th>train_loss</th>\n",
              "      <th>valid_loss</th>\n",
              "      <th>accuracy</th>\n",
              "      <th>time</th>\n",
              "    </tr>\n",
              "  </thead>\n",
              "  <tbody>\n",
              "    <tr>\n",
              "      <td>0</td>\n",
              "      <td>0.176959</td>\n",
              "      <td>0.156303</td>\n",
              "      <td>0.940644</td>\n",
              "      <td>01:54</td>\n",
              "    </tr>\n",
              "    <tr>\n",
              "      <td>1</td>\n",
              "      <td>0.183453</td>\n",
              "      <td>0.153435</td>\n",
              "      <td>0.940956</td>\n",
              "      <td>01:52</td>\n",
              "    </tr>\n",
              "    <tr>\n",
              "      <td>2</td>\n",
              "      <td>0.150118</td>\n",
              "      <td>0.150454</td>\n",
              "      <td>0.942830</td>\n",
              "      <td>01:39</td>\n",
              "    </tr>\n",
              "    <tr>\n",
              "      <td>3</td>\n",
              "      <td>0.112493</td>\n",
              "      <td>0.152493</td>\n",
              "      <td>0.945017</td>\n",
              "      <td>01:43</td>\n",
              "    </tr>\n",
              "    <tr>\n",
              "      <td>4</td>\n",
              "      <td>0.093958</td>\n",
              "      <td>0.156285</td>\n",
              "      <td>0.943143</td>\n",
              "      <td>01:50</td>\n",
              "    </tr>\n",
              "  </tbody>\n",
              "</table>"
            ],
            "text/plain": [
              "<IPython.core.display.HTML object>"
            ]
          },
          "metadata": {
            "tags": []
          }
        }
      ]
    },
    {
      "cell_type": "code",
      "metadata": {
        "colab": {
          "base_uri": "https://localhost:8080/",
          "height": 204
        },
        "id": "1W_ZGZ59_yuF",
        "outputId": "b7fd6d60-3448-47ea-bef4-e741bdabce8c"
      },
      "source": [
        "raw_model.unfreeze()\n",
        "raw_model.fit_one_cycle(5,slice(1.74E-03/(2.6**4),1.74E-03))"
      ],
      "execution_count": 48,
      "outputs": [
        {
          "output_type": "display_data",
          "data": {
            "text/html": [
              "<table border=\"1\" class=\"dataframe\">\n",
              "  <thead>\n",
              "    <tr style=\"text-align: left;\">\n",
              "      <th>epoch</th>\n",
              "      <th>train_loss</th>\n",
              "      <th>valid_loss</th>\n",
              "      <th>accuracy</th>\n",
              "      <th>time</th>\n",
              "    </tr>\n",
              "  </thead>\n",
              "  <tbody>\n",
              "    <tr>\n",
              "      <td>0</td>\n",
              "      <td>0.101568</td>\n",
              "      <td>0.156963</td>\n",
              "      <td>0.946267</td>\n",
              "      <td>02:11</td>\n",
              "    </tr>\n",
              "    <tr>\n",
              "      <td>1</td>\n",
              "      <td>0.104633</td>\n",
              "      <td>0.156372</td>\n",
              "      <td>0.945017</td>\n",
              "      <td>02:17</td>\n",
              "    </tr>\n",
              "    <tr>\n",
              "      <td>2</td>\n",
              "      <td>0.088844</td>\n",
              "      <td>0.165443</td>\n",
              "      <td>0.943455</td>\n",
              "      <td>02:36</td>\n",
              "    </tr>\n",
              "    <tr>\n",
              "      <td>3</td>\n",
              "      <td>0.059252</td>\n",
              "      <td>0.173688</td>\n",
              "      <td>0.946267</td>\n",
              "      <td>02:43</td>\n",
              "    </tr>\n",
              "    <tr>\n",
              "      <td>4</td>\n",
              "      <td>0.055275</td>\n",
              "      <td>0.167179</td>\n",
              "      <td>0.948766</td>\n",
              "      <td>02:07</td>\n",
              "    </tr>\n",
              "  </tbody>\n",
              "</table>"
            ],
            "text/plain": [
              "<IPython.core.display.HTML object>"
            ]
          },
          "metadata": {
            "tags": []
          }
        }
      ]
    },
    {
      "cell_type": "code",
      "metadata": {
        "id": "kEOgGMRq_6jP"
      },
      "source": [
        "test_raw['yelp_senti_pred'] = test_raw['text'].apply(lambda row:str(raw_model.predict(row)[0]))"
      ],
      "execution_count": 49,
      "outputs": []
    },
    {
      "cell_type": "code",
      "metadata": {
        "id": "X9Jpr6J38Rlo"
      },
      "source": [
        "test_raw['yelp_senti_pred'] = test_raw['yelp_senti_pred'].astype(str).astype(int)"
      ],
      "execution_count": 55,
      "outputs": []
    },
    {
      "cell_type": "code",
      "metadata": {
        "id": "gHOtyq2kENgP"
      },
      "source": [
        "from sklearn.metrics import accuracy_score\n",
        "from sklearn.metrics import confusion_matrix"
      ],
      "execution_count": 56,
      "outputs": []
    },
    {
      "cell_type": "code",
      "metadata": {
        "colab": {
          "base_uri": "https://localhost:8080/"
        },
        "id": "CbG6sSMnEXhE",
        "outputId": "93394169-088c-47c5-9e33-015c1868b4fd"
      },
      "source": [
        "print(\"Accuracy of Model: {}\".format(accuracy_score(test_raw['sentiment'],test_raw[\n",
        "    'yelp_senti_pred'])))"
      ],
      "execution_count": 57,
      "outputs": [
        {
          "output_type": "stream",
          "text": [
            "Accuracy of Model: 0.95\n"
          ],
          "name": "stdout"
        }
      ]
    },
    {
      "cell_type": "code",
      "metadata": {
        "colab": {
          "base_uri": "https://localhost:8080/"
        },
        "id": "uyme6fx88Bap",
        "outputId": "0a257ff3-9905-48bb-fd2e-b9b02114fde9"
      },
      "source": [
        "test_raw.info()"
      ],
      "execution_count": 53,
      "outputs": [
        {
          "output_type": "stream",
          "text": [
            "<class 'pandas.core.frame.DataFrame'>\n",
            "Int64Index: 4000 entries, 1406 to 16048\n",
            "Data columns (total 3 columns):\n",
            " #   Column           Non-Null Count  Dtype \n",
            "---  ------           --------------  ----- \n",
            " 0   sentiment        4000 non-null   int64 \n",
            " 1   text             4000 non-null   object\n",
            " 2   yelp_senti_pred  4000 non-null   object\n",
            "dtypes: int64(1), object(2)\n",
            "memory usage: 125.0+ KB\n"
          ],
          "name": "stdout"
        }
      ]
    },
    {
      "cell_type": "code",
      "metadata": {
        "colab": {
          "base_uri": "https://localhost:8080/"
        },
        "id": "QS-APjsAMSZg",
        "outputId": "5e5b1672-d659-44cd-daf5-fdaf8396be92"
      },
      "source": [
        "from sklearn.metrics import confusion_matrix\n",
        "cf_matrix = confusion_matrix(test_raw['sentiment'], test_raw['yelp_senti_pred'])\n",
        "print(cf_matrix)"
      ],
      "execution_count": 58,
      "outputs": [
        {
          "output_type": "stream",
          "text": [
            "[[1889  120]\n",
            " [  80 1911]]\n"
          ],
          "name": "stdout"
        }
      ]
    },
    {
      "cell_type": "code",
      "metadata": {
        "id": "DDqSIBfAMdQF"
      },
      "source": [
        ""
      ],
      "execution_count": null,
      "outputs": []
    }
  ]
}