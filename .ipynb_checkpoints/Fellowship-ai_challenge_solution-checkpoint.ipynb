{
 "cells": [
  {
   "cell_type": "markdown",
   "metadata": {},
   "source": [
    "# Fellowship ai Sentiment Analysis Challenge with the Yelp Polarity dataset"
   ]
  },
  {
   "cell_type": "markdown",
   "metadata": {},
   "source": [
    "__Yelp Review Polarity Dataset__\n",
    "\n",
    "Version 1, Updated 09/09/2015\n",
    "\n",
    "ORIGIN\n",
    "\n",
    "The Yelp reviews dataset consists of reviews from Yelp. It is extracted from the Yelp Dataset Challenge 2015 data. For more information, please refer to http://www.yelp.com/dataset_challenge\n",
    "\n",
    "The Yelp reviews polarity dataset is constructed by Xiang Zhang (xiang.zhang@nyu.edu) from the above dataset. It is first used as a text classification benchmark in the following paper: Xiang Zhang, Junbo Zhao, Yann LeCun. Character-level Convolutional Networks for Text Classification. Advances in Neural Information Processing Systems 28 (NIPS 2015).\n",
    "\n",
    "\n",
    "DESCRIPTION\n",
    "\n",
    "The Yelp reviews polarity dataset is constructed by considering stars 1 and 2 negative, and 3 and 4 positive. For each polarity 280,000 training samples and 19,000 testing samples are take randomly. In total there are 560,000 trainig samples and 38,000 testing samples. Negative polarity is class 1, and positive class 2.\n",
    "\n",
    "The files train.csv and test.csv contain all the training samples as comma-sparated values. There are 2 columns in them, corresponding to class index (1 and 2) and review text. The review texts are escaped using double quotes (\"), and any internal double quote is escaped by 2 double quotes (\"\"). New lines are escaped by a backslash followed with an \"n\" character, that is \"\\n\".\n",
    "\n"
   ]
  },
  {
   "cell_type": "code",
   "execution_count": 1,
   "metadata": {},
   "outputs": [],
   "source": [
    "%matplotlib inline\n",
    "import os\n",
    "import glob\n",
    "import pandas as pd\n",
    "import numpy as np\n",
    "import matplotlib.pyplot as plt\n",
    "import seaborn as sns\n",
    "import tensorflow as tf\n",
    "from fastai.metrics import accuracy\n",
    "from fastai.text import *\n",
    "from fastai import *"
   ]
  },
  {
   "cell_type": "code",
   "execution_count": 2,
   "metadata": {},
   "outputs": [],
   "source": [
    "def read_in_data(df_names, directory = './'):\n",
    "    '''Read in data into seperate dataframes'''\n",
    "    \n",
    "    # change directory to data storage location\n",
    "    os.chdir(directory)\n",
    "    \n",
    "    # list of filenames\n",
    "    extension = 'csv'\n",
    "    filenames = [i for i in glob.glob('*.{}'.format(extension))]\n",
    "    \n",
    "    # create global dfs within function\n",
    "    for name, file in zip(df_names, filenames):\n",
    "        globals()[name] = pd.read_csv(file, header=None, names = ['sentiment', 'text'])"
   ]
  },
  {
   "cell_type": "code",
   "execution_count": 3,
   "metadata": {},
   "outputs": [],
   "source": [
    "# list of prefered dataframe names in same order as directory\n",
    "df_names = ['test', 'train']\n",
    "directory = 'data'\n",
    "\n",
    "read_in_data(df_names, directory)"
   ]
  },
  {
   "cell_type": "code",
   "execution_count": 4,
   "metadata": {},
   "outputs": [],
   "source": [
    "os.chdir('..')"
   ]
  },
  {
   "cell_type": "code",
   "execution_count": 5,
   "metadata": {},
   "outputs": [],
   "source": [
    "sample_size = 1000\n",
    "train_sample = train.groupby('sentiment').apply(lambda x: x.sample(sample_size))[['sentiment', 'text']]\\\n",
    "                                         .reset_index(drop=True)"
   ]
  },
  {
   "cell_type": "code",
   "execution_count": 6,
   "metadata": {},
   "outputs": [
    {
     "data": {
      "text/html": [
       "<div>\n",
       "<style scoped>\n",
       "    .dataframe tbody tr th:only-of-type {\n",
       "        vertical-align: middle;\n",
       "    }\n",
       "\n",
       "    .dataframe tbody tr th {\n",
       "        vertical-align: top;\n",
       "    }\n",
       "\n",
       "    .dataframe thead th {\n",
       "        text-align: right;\n",
       "    }\n",
       "</style>\n",
       "<table border=\"1\" class=\"dataframe\">\n",
       "  <thead>\n",
       "    <tr style=\"text-align: right;\">\n",
       "      <th></th>\n",
       "      <th>sentiment</th>\n",
       "      <th>text</th>\n",
       "    </tr>\n",
       "  </thead>\n",
       "  <tbody>\n",
       "    <tr>\n",
       "      <td>0</td>\n",
       "      <td>1</td>\n",
       "      <td>Only giving this two-stars because of the serv...</td>\n",
       "    </tr>\n",
       "    <tr>\n",
       "      <td>1</td>\n",
       "      <td>1</td>\n",
       "      <td>Really wanted this to be a great place.Sure lo...</td>\n",
       "    </tr>\n",
       "    <tr>\n",
       "      <td>2</td>\n",
       "      <td>1</td>\n",
       "      <td>For nightlife Westgate is about as good as it ...</td>\n",
       "    </tr>\n",
       "    <tr>\n",
       "      <td>3</td>\n",
       "      <td>1</td>\n",
       "      <td>I would much rather have tried the Downtown lo...</td>\n",
       "    </tr>\n",
       "    <tr>\n",
       "      <td>4</td>\n",
       "      <td>1</td>\n",
       "      <td>I always go to Ichiza because they serve good ...</td>\n",
       "    </tr>\n",
       "  </tbody>\n",
       "</table>\n",
       "</div>"
      ],
      "text/plain": [
       "   sentiment                                               text\n",
       "0          1  Only giving this two-stars because of the serv...\n",
       "1          1  Really wanted this to be a great place.Sure lo...\n",
       "2          1  For nightlife Westgate is about as good as it ...\n",
       "3          1  I would much rather have tried the Downtown lo...\n",
       "4          1  I always go to Ichiza because they serve good ..."
      ]
     },
     "execution_count": 6,
     "metadata": {},
     "output_type": "execute_result"
    }
   ],
   "source": [
    "train_sample.head()"
   ]
  },
  {
   "cell_type": "code",
   "execution_count": 7,
   "metadata": {},
   "outputs": [
    {
     "data": {
      "text/html": [
       "<div>\n",
       "<style scoped>\n",
       "    .dataframe tbody tr th:only-of-type {\n",
       "        vertical-align: middle;\n",
       "    }\n",
       "\n",
       "    .dataframe tbody tr th {\n",
       "        vertical-align: top;\n",
       "    }\n",
       "\n",
       "    .dataframe thead th {\n",
       "        text-align: right;\n",
       "    }\n",
       "</style>\n",
       "<table border=\"1\" class=\"dataframe\">\n",
       "  <thead>\n",
       "    <tr style=\"text-align: right;\">\n",
       "      <th></th>\n",
       "      <th>sentiment</th>\n",
       "      <th>text</th>\n",
       "    </tr>\n",
       "  </thead>\n",
       "  <tbody>\n",
       "    <tr>\n",
       "      <td>0</td>\n",
       "      <td>2</td>\n",
       "      <td>Contrary to other reviews, I have zero complai...</td>\n",
       "    </tr>\n",
       "    <tr>\n",
       "      <td>1</td>\n",
       "      <td>1</td>\n",
       "      <td>Last summer I had an appointment to get new ti...</td>\n",
       "    </tr>\n",
       "    <tr>\n",
       "      <td>2</td>\n",
       "      <td>2</td>\n",
       "      <td>Friendly staff, same starbucks fair you get an...</td>\n",
       "    </tr>\n",
       "    <tr>\n",
       "      <td>3</td>\n",
       "      <td>1</td>\n",
       "      <td>The food is good. Unfortunately the service is...</td>\n",
       "    </tr>\n",
       "    <tr>\n",
       "      <td>4</td>\n",
       "      <td>2</td>\n",
       "      <td>Even when we didn't have a car Filene's Baseme...</td>\n",
       "    </tr>\n",
       "  </tbody>\n",
       "</table>\n",
       "</div>"
      ],
      "text/plain": [
       "   sentiment                                               text\n",
       "0          2  Contrary to other reviews, I have zero complai...\n",
       "1          1  Last summer I had an appointment to get new ti...\n",
       "2          2  Friendly staff, same starbucks fair you get an...\n",
       "3          1  The food is good. Unfortunately the service is...\n",
       "4          2  Even when we didn't have a car Filene's Baseme..."
      ]
     },
     "execution_count": 7,
     "metadata": {},
     "output_type": "execute_result"
    }
   ],
   "source": [
    "test.head()"
   ]
  },
  {
   "cell_type": "code",
   "execution_count": 8,
   "metadata": {},
   "outputs": [
    {
     "name": "stdout",
     "output_type": "stream",
     "text": [
      "<class 'pandas.core.frame.DataFrame'>\n",
      "RangeIndex: 2000 entries, 0 to 1999\n",
      "Data columns (total 2 columns):\n",
      "sentiment    2000 non-null int64\n",
      "text         2000 non-null object\n",
      "dtypes: int64(1), object(1)\n",
      "memory usage: 31.4+ KB\n"
     ]
    }
   ],
   "source": [
    "train_sample.info()"
   ]
  },
  {
   "cell_type": "code",
   "execution_count": 9,
   "metadata": {},
   "outputs": [
    {
     "name": "stdout",
     "output_type": "stream",
     "text": [
      "<class 'pandas.core.frame.DataFrame'>\n",
      "RangeIndex: 38000 entries, 0 to 37999\n",
      "Data columns (total 2 columns):\n",
      "sentiment    38000 non-null int64\n",
      "text         38000 non-null object\n",
      "dtypes: int64(1), object(1)\n",
      "memory usage: 593.9+ KB\n"
     ]
    }
   ],
   "source": [
    "test.info()"
   ]
  },
  {
   "cell_type": "markdown",
   "metadata": {},
   "source": [
    "## Fellowship ai Challenge Description\n",
    "\n",
    "Perform Sentiment analysis using ULMFiT on Yelp reviews - Polarity and apply the EDA augmentation. Report the performance metrics for before and after augmentation? show examples of data augmentaion?"
   ]
  },
  {
   "cell_type": "markdown",
   "metadata": {},
   "source": [
    "## Exploratory Analysis\n",
    "\n",
    "Before processing with ULMFiT let's perform some expoloratory analysis to find out most common words, in the process we will also clean the text of urls and lower the case of all words to avoid unnecessary repeats. "
   ]
  },
  {
   "cell_type": "code",
   "execution_count": 10,
   "metadata": {},
   "outputs": [],
   "source": [
    "import itertools\n",
    "import collections\n",
    "\n",
    "import nltk\n",
    "from nltk.corpus import stopwords\n",
    "import re\n",
    "import networkx\n",
    "\n",
    "import warnings\n",
    "warnings.filterwarnings(\"ignore\")\n",
    "\n",
    "sns.set(font_scale=1.5)\n",
    "sns.set_style(\"whitegrid\")"
   ]
  },
  {
   "cell_type": "code",
   "execution_count": 11,
   "metadata": {},
   "outputs": [],
   "source": [
    "all_reviews = [text for text in train_sample.text]"
   ]
  },
  {
   "cell_type": "code",
   "execution_count": 12,
   "metadata": {},
   "outputs": [
    {
     "data": {
      "text/plain": [
       "['Only giving this two-stars because of the service.  Everyone from the bartenders to the food runners were very nice.  \\\\n\\\\nBut... Oh my this place sucks.  Short Story: The food is terrible. \\\\n\\\\nLonger Story:\\\\nThe music makes you think they fancy themselves a nightclub, at 2:00am, on a Saturday.  Even though it\\'s a Tuesday.  And empty.  And 10:00pm.\\\\n\\\\nThe margaritas were 2-for-1 (cool) and had so much \\'sour\\' in the mix that I had heartburn until the next morning (super not cool).  I\\'ve never had that happen, and I\\'ve had a lot of margaritas in my life.\\\\n\\\\nThe tacos were 1/2 off (cool) and tasted so terrible I couldn\\'t finish one (not cool).  The meat was slow cooked in something that I suppose someone likes as it made it to the menu, after a major/costly restaurant build.  But the thought of having another one already makes me ill.  The Caesar salad that I ordered as a replacement was just as bad, which I don\\'t know how it\\'s possible.  Except too much anchovy in the dressing?  The dressing was even on the side and I couldn\\'t eat half of the salad.  And they insist on making their chips \\\\\"fancy\\\\\" by putting WAY too much seasoned salt/whatever.  Oh, and the guacamole was garnished with pomegranate seeds.  Fancy.\\\\n\\\\nBottom line, no reason to go here.  Unless you have the need to ride a mechanical bull?\\\\n\\\\nI really hope those nice bartenders get good jobs.  Can\\'t imagine Chayo can employ them too much longer.',\n",
       " \"Really wanted this to be a great place.Sure looks good inside & I have to say the service was great. However I found the food way over priced and the portions small (Yeah I know Tapas are small plates) but from $12-$14 give me some meat. Drinks were tasty & I enjoyed the white sangria over the red but again pricey. Nothing really blew my top which is sad and I don't think I will be back I'm sorry to say. Lower your price or increase the portion size. I'm not cheap by any means.\"]"
      ]
     },
     "execution_count": 12,
     "metadata": {},
     "output_type": "execute_result"
    }
   ],
   "source": [
    "all_reviews[:2]"
   ]
  },
  {
   "cell_type": "code",
   "execution_count": 13,
   "metadata": {},
   "outputs": [],
   "source": [
    "def remove_url(txt):\n",
    "    \"\"\"Replace URLs found in a text string with nothing \n",
    "    (i.e. it will remove the URL from the string).\n",
    "\n",
    "    Parameters\n",
    "    ----------\n",
    "    txt : string\n",
    "        A text string that you want to parse and remove urls.\n",
    "\n",
    "    Returns\n",
    "    -------\n",
    "    The same txt string with url's removed.\n",
    "    \"\"\"\n",
    "\n",
    "    return \" \".join(re.sub(\"([^0-9A-Za-z \\t])|(\\w+:\\/\\/\\S+)\", \"\", txt).split())"
   ]
  },
  {
   "cell_type": "code",
   "execution_count": 14,
   "metadata": {},
   "outputs": [
    {
     "data": {
      "text/plain": [
       "['Only giving this twostars because of the service Everyone from the bartenders to the food runners were very nice nnBut Oh my this place sucks Short Story The food is terrible nnLonger StorynThe music makes you think they fancy themselves a nightclub at 200am on a Saturday Even though its a Tuesday And empty And 1000pmnnThe margaritas were 2for1 cool and had so much sour in the mix that I had heartburn until the next morning super not cool Ive never had that happen and Ive had a lot of margaritas in my lifennThe tacos were 12 off cool and tasted so terrible I couldnt finish one not cool The meat was slow cooked in something that I suppose someone likes as it made it to the menu after a majorcostly restaurant build But the thought of having another one already makes me ill The Caesar salad that I ordered as a replacement was just as bad which I dont know how its possible Except too much anchovy in the dressing The dressing was even on the side and I couldnt eat half of the salad And they insist on making their chips fancy by putting WAY too much seasoned saltwhatever Oh and the guacamole was garnished with pomegranate seeds FancynnBottom line no reason to go here Unless you have the need to ride a mechanical bullnnI really hope those nice bartenders get good jobs Cant imagine Chayo can employ them too much longer',\n",
       " 'Really wanted this to be a great placeSure looks good inside I have to say the service was great However I found the food way over priced and the portions small Yeah I know Tapas are small plates but from 1214 give me some meat Drinks were tasty I enjoyed the white sangria over the red but again pricey Nothing really blew my top which is sad and I dont think I will be back Im sorry to say Lower your price or increase the portion size Im not cheap by any means']"
      ]
     },
     "execution_count": 14,
     "metadata": {},
     "output_type": "execute_result"
    }
   ],
   "source": [
    "all_reviews_no_urls = [remove_url(text) for text in all_reviews]\n",
    "all_reviews_no_urls[:2]"
   ]
  },
  {
   "cell_type": "code",
   "execution_count": 15,
   "metadata": {},
   "outputs": [],
   "source": [
    "# Create a list of lists containing lowercase words for each tweet\n",
    "words_in_review = [review.lower().split() for review in all_reviews_no_urls]\n",
    "all_reviews_lower = [review.lower() for review in all_reviews_no_urls]"
   ]
  },
  {
   "cell_type": "code",
   "execution_count": 16,
   "metadata": {},
   "outputs": [],
   "source": [
    "# List of all words across tweets\n",
    "all_words_no_urls = list(itertools.chain(*words_in_review))"
   ]
  },
  {
   "cell_type": "code",
   "execution_count": 17,
   "metadata": {},
   "outputs": [
    {
     "data": {
      "text/plain": [
       "[('the', 13555),\n",
       " ('and', 8889),\n",
       " ('i', 7119),\n",
       " ('to', 6959),\n",
       " ('a', 6747),\n",
       " ('was', 4956),\n",
       " ('of', 3997),\n",
       " ('it', 3492),\n",
       " ('in', 3056),\n",
       " ('for', 3053),\n",
       " ('is', 2906),\n",
       " ('that', 2577),\n",
       " ('my', 2424),\n",
       " ('we', 2229),\n",
       " ('this', 2213)]"
      ]
     },
     "execution_count": 17,
     "metadata": {},
     "output_type": "execute_result"
    }
   ],
   "source": [
    "# Collections library for python includes the counter function, which we will use here to count the frequency of words\n",
    "counts_no_urls = collections.Counter(all_words_no_urls)\n",
    "counts_no_urls.most_common(15)"
   ]
  },
  {
   "cell_type": "markdown",
   "metadata": {},
   "source": [
    "> Let's remove the stop words and analyze the top words again. This may give us more insight into the text."
   ]
  },
  {
   "cell_type": "code",
   "execution_count": 18,
   "metadata": {
    "scrolled": true
   },
   "outputs": [
    {
     "name": "stderr",
     "output_type": "stream",
     "text": [
      "[nltk_data] Downloading package stopwords to\n",
      "[nltk_data]     /Users/mattmerrill/nltk_data...\n",
      "[nltk_data]   Package stopwords is already up-to-date!\n"
     ]
    },
    {
     "data": {
      "text/plain": [
       "True"
      ]
     },
     "execution_count": 18,
     "metadata": {},
     "output_type": "execute_result"
    }
   ],
   "source": [
    "nltk.download('stopwords')"
   ]
  },
  {
   "cell_type": "code",
   "execution_count": 19,
   "metadata": {},
   "outputs": [],
   "source": [
    "stop_words = set(stopwords.words('english'))"
   ]
  },
  {
   "cell_type": "code",
   "execution_count": 20,
   "metadata": {},
   "outputs": [],
   "source": [
    "# Remove stop words from each review list of words\n",
    "reviews_nsw = [[word for word in review_words if not word in stop_words]\n",
    "              for review_words in words_in_review]"
   ]
  },
  {
   "cell_type": "code",
   "execution_count": 21,
   "metadata": {},
   "outputs": [
    {
     "data": {
      "text/plain": [
       "[('place', 1172),\n",
       " ('food', 1093),\n",
       " ('good', 1071),\n",
       " ('like', 965),\n",
       " ('get', 870),\n",
       " ('one', 820),\n",
       " ('great', 779),\n",
       " ('would', 774),\n",
       " ('time', 770),\n",
       " ('service', 755),\n",
       " ('back', 722),\n",
       " ('go', 695),\n",
       " ('really', 610),\n",
       " ('us', 580),\n",
       " ('even', 538)]"
      ]
     },
     "execution_count": 21,
     "metadata": {},
     "output_type": "execute_result"
    }
   ],
   "source": [
    "# let's take a look again at the most common words\n",
    "all_words_nsw = list(itertools.chain(*reviews_nsw))\n",
    "\n",
    "counts_nsw = collections.Counter(all_words_nsw)\n",
    "\n",
    "counts_nsw.most_common(15)"
   ]
  },
  {
   "cell_type": "code",
   "execution_count": 22,
   "metadata": {},
   "outputs": [
    {
     "data": {
      "image/png": "[encoded data removed]",
      "text/plain": [
       "<Figure size 576x576 with 1 Axes>"
      ]
     },
     "metadata": {},
     "output_type": "display_data"
    }
   ],
   "source": [
    "clean_reviews_nsw = pd.DataFrame(counts_nsw.most_common(15),\n",
    "                             columns=['words', 'count'])\n",
    "\n",
    "fig, ax = plt.subplots(figsize=(8, 8))\n",
    "\n",
    "# Plot horizontal bar graph\n",
    "clean_reviews_nsw.sort_values(by='count').plot.barh(x='words',\n",
    "                      y='count',\n",
    "                      ax=ax,\n",
    "                      color=\"purple\")\n",
    "\n",
    "ax.set_title(\"Common Words Found in Reviews (Without Stop Words)\")\n",
    "\n",
    "plt.show()"
   ]
  },
  {
   "cell_type": "code",
   "execution_count": 23,
   "metadata": {},
   "outputs": [
    {
     "data": {
      "text/plain": [
       "['only giving this twostars because of the service everyone from the bartenders to the food runners were very nice nnbut oh my this place sucks short story the food is terrible nnlonger storynthe music makes you think they fancy themselves a nightclub at 200am on a saturday even though its a tuesday and empty and 1000pmnnthe margaritas were 2for1 cool and had so much sour in the mix that i had heartburn until the next morning super not cool ive never had that happen and ive had a lot of margaritas in my lifennthe tacos were 12 off cool and tasted so terrible i couldnt finish one not cool the meat was slow cooked in something that i suppose someone likes as it made it to the menu after a majorcostly restaurant build but the thought of having another one already makes me ill the caesar salad that i ordered as a replacement was just as bad which i dont know how its possible except too much anchovy in the dressing the dressing was even on the side and i couldnt eat half of the salad and they insist on making their chips fancy by putting way too much seasoned saltwhatever oh and the guacamole was garnished with pomegranate seeds fancynnbottom line no reason to go here unless you have the need to ride a mechanical bullnni really hope those nice bartenders get good jobs cant imagine chayo can employ them too much longer',\n",
       " 'really wanted this to be a great placesure looks good inside i have to say the service was great however i found the food way over priced and the portions small yeah i know tapas are small plates but from 1214 give me some meat drinks were tasty i enjoyed the white sangria over the red but again pricey nothing really blew my top which is sad and i dont think i will be back im sorry to say lower your price or increase the portion size im not cheap by any means']"
      ]
     },
     "execution_count": 23,
     "metadata": {},
     "output_type": "execute_result"
    }
   ],
   "source": [
    "all_reviews_lower[:2]"
   ]
  },
  {
   "cell_type": "code",
   "execution_count": 24,
   "metadata": {},
   "outputs": [],
   "source": [
    "train_sample['clean_text'] = all_reviews_lower"
   ]
  },
  {
   "cell_type": "code",
   "execution_count": 25,
   "metadata": {},
   "outputs": [],
   "source": [
    "train_unprocessed = train_sample[['sentiment', 'text']]\n",
    "train_processed = train_sample[['sentiment', 'clean_text']]"
   ]
  },
  {
   "cell_type": "markdown",
   "metadata": {},
   "source": [
    "## Machine Learning"
   ]
  },
  {
   "cell_type": "code",
   "execution_count": 26,
   "metadata": {},
   "outputs": [],
   "source": [
    "from sklearn.model_selection import train_test_split\n",
    "\n",
    "# Split into training and test\n",
    "train_raw, test_raw = train_test_split(train_unprocessed,test_size=0.2,random_state=3)\n",
    "train_clean, test_clean = train_test_split(train_processed,test_size=0.2,random_state=3)"
   ]
  },
  {
   "cell_type": "code",
   "execution_count": 27,
   "metadata": {},
   "outputs": [
    {
     "data": {
      "text/plain": [
       "'/Users/mattmerrill/Springboard/fellowship-ai_challenge'"
      ]
     },
     "execution_count": 27,
     "metadata": {},
     "output_type": "execute_result"
    }
   ],
   "source": [
    "pwd"
   ]
  },
  {
   "cell_type": "code",
   "execution_count": 28,
   "metadata": {},
   "outputs": [],
   "source": [
    "train_raw.to_csv('train_raw.csv', index=0)\n",
    "test_raw.to_csv('test_raw.csv', index=0)\n",
    "train_clean.to_csv('train_clean.csv', index=0)\n",
    "test_clean.to_csv('test_clean.csv', index=0)"
   ]
  },
  {
   "cell_type": "code",
   "execution_count": 29,
   "metadata": {},
   "outputs": [],
   "source": [
    "#df = pd.read_csv('train_raw.csv').reset_index(drop=True)"
   ]
  },
  {
   "cell_type": "code",
   "execution_count": 30,
   "metadata": {},
   "outputs": [
    {
     "data": {
      "text/html": [],
      "text/plain": [
       "<IPython.core.display.HTML object>"
      ]
     },
     "metadata": {},
     "output_type": "display_data"
    },
    {
     "data": {
      "text/html": [],
      "text/plain": [
       "<IPython.core.display.HTML object>"
      ]
     },
     "metadata": {},
     "output_type": "display_data"
    }
   ],
   "source": [
    "from fastai.text import *\n",
    "#dls = data.TextDataLoaders.from_df(df, path='', text_col='text', is_lm=True, label_col='sentiment')\n",
    "review_raw = TextLMDataBunch.from_csv(path='',csv_name='train_raw.csv',valid_pct=0.1)"
   ]
  },
  {
   "cell_type": "code",
   "execution_count": 31,
   "metadata": {},
   "outputs": [
    {
     "data": {
      "text/html": [
       "<table border=\"1\" class=\"dataframe\">\n",
       "  <thead>\n",
       "    <tr style=\"text-align: right;\">\n",
       "      <th>idx</th>\n",
       "      <th>text</th>\n",
       "    </tr>\n",
       "  </thead>\n",
       "  <tbody>\n",
       "    <tr>\n",
       "      <td>0</td>\n",
       "      <td>flat , now it 's $ 25-$35 . xxmaj anyway ... i started off with their signature bloody mary , which sounded like a unique twist on a classic - it advertised some good stuff , like xxmaj xxunk xxmaj valley xxmaj xxunk cheese , but they must have been out , because i got some cheese curds instead ... xxmaj the grilled shrimp was a nice touch for a</td>\n",
       "    </tr>\n",
       "    <tr>\n",
       "      <td>1</td>\n",
       "      <td>are black , hispanic , asian , white , from xxmaj xxunk , he will leave you alone ? xxmaj not tonight and certainly not in that room . xxmaj because you are a cop or xxunk or some other ' xxunk ' with a big paycheck from the xxunk , you are exempt from being xxunk from xxmaj vinnie ? xxmaj maybe if you donate 1 / 2 your</td>\n",
       "    </tr>\n",
       "    <tr>\n",
       "      <td>2</td>\n",
       "      <td>$ 25 worth of food . xxmaj this makes me never want to go back . xxmaj especially when my check did n't have a price break for the raw food i was served . \\n \\n  i went to two other restaurants during the week with the same promotion and was amazed . xxbos xxmaj excellent veal dishes - great service and ambience . xxmaj relaxing . \\n</td>\n",
       "    </tr>\n",
       "    <tr>\n",
       "      <td>3</td>\n",
       "      <td>? ! ! ! xxmaj oh and they kept calling me numerous times , after setting up service , that i was eligible for their cable and internet package . i kept telling em no and to please stop calling and what do they do ? xxmaj keep calling of course . i 've recently just switched to xxmaj century xxmaj link xxmaj prism . xxmaj hopefully this will be</td>\n",
       "    </tr>\n",
       "    <tr>\n",
       "      <td>4</td>\n",
       "      <td>times . i thought it was great the first few times . xxmaj my recommendation was always : get there by 5 pm &amp; do n't show up in a group , because group service is long , inefficient and full of mistakes . xxmaj otherwise both the food and service is great ... xxmaj except that now i have tried take out ( slow xxrep 4 . ) and</td>\n",
       "    </tr>\n",
       "  </tbody>\n",
       "</table>"
      ],
      "text/plain": [
       "<IPython.core.display.HTML object>"
      ]
     },
     "metadata": {},
     "output_type": "display_data"
    }
   ],
   "source": [
    "#from fastai.text import learner\n",
    "#learn = learner.language_model_learner(dls, AWD_LSTM, drop_mult=0.3)\n",
    "\n",
    "review_raw.show_batch()"
   ]
  },
  {
   "cell_type": "code",
   "execution_count": 32,
   "metadata": {},
   "outputs": [],
   "source": [
    "raw_model = language_model_learner(review_raw, AWD_LSTM, drop_mult=0.3)"
   ]
  },
  {
   "cell_type": "code",
   "execution_count": 33,
   "metadata": {},
   "outputs": [
    {
     "data": {
      "text/plain": [
       "SequentialRNN(\n",
       "  (0): AWD_LSTM(\n",
       "    (encoder): Embedding(6472, 400, padding_idx=1)\n",
       "    (encoder_dp): EmbeddingDropout(\n",
       "      (emb): Embedding(6472, 400, padding_idx=1)\n",
       "    )\n",
       "    (rnns): ModuleList(\n",
       "      (0): WeightDropout(\n",
       "        (module): LSTM(400, 1152, batch_first=True)\n",
       "      )\n",
       "      (1): WeightDropout(\n",
       "        (module): LSTM(1152, 1152, batch_first=True)\n",
       "      )\n",
       "      (2): WeightDropout(\n",
       "        (module): LSTM(1152, 400, batch_first=True)\n",
       "      )\n",
       "    )\n",
       "    (input_dp): RNNDropout()\n",
       "    (hidden_dps): ModuleList(\n",
       "      (0): RNNDropout()\n",
       "      (1): RNNDropout()\n",
       "      (2): RNNDropout()\n",
       "    )\n",
       "  )\n",
       "  (1): LinearDecoder(\n",
       "    (decoder): Linear(in_features=400, out_features=6472, bias=True)\n",
       "    (output_dp): RNNDropout()\n",
       "  )\n",
       ")"
      ]
     },
     "execution_count": 33,
     "metadata": {},
     "output_type": "execute_result"
    }
   ],
   "source": [
    "raw_model.model"
   ]
  },
  {
   "cell_type": "code",
   "execution_count": 34,
   "metadata": {},
   "outputs": [
    {
     "data": {
      "text/html": [
       "\n",
       "    <div>\n",
       "        <style>\n",
       "            /* Turns off some styling */\n",
       "            progress {\n",
       "                /* gets rid of default border in Firefox and Opera. */\n",
       "                border: none;\n",
       "                /* Needs to be in here for Safari polyfill so background images work as expected. */\n",
       "                background-size: auto;\n",
       "            }\n",
       "            .progress-bar-interrupted, .progress-bar-interrupted::-webkit-progress-bar {\n",
       "                background: #F44336;\n",
       "            }\n",
       "        </style>\n",
       "      <progress value='1' class='' max='2' style='width:300px; height:20px; vertical-align: middle;'></progress>\n",
       "      50.00% [1/2 05:20<05:20]\n",
       "    </div>\n",
       "    \n",
       "<table border=\"1\" class=\"dataframe\">\n",
       "  <thead>\n",
       "    <tr style=\"text-align: left;\">\n",
       "      <th>epoch</th>\n",
       "      <th>train_loss</th>\n",
       "      <th>valid_loss</th>\n",
       "      <th>accuracy</th>\n",
       "      <th>time</th>\n",
       "    </tr>\n",
       "  </thead>\n",
       "  <tbody>\n",
       "    <tr>\n",
       "      <td>0</td>\n",
       "      <td>4.874008</td>\n",
       "      <td>#na#</td>\n",
       "      <td>05:20</td>\n",
       "    </tr>\n",
       "  </tbody>\n",
       "</table><p>\n",
       "\n",
       "    <div>\n",
       "        <style>\n",
       "            /* Turns off some styling */\n",
       "            progress {\n",
       "                /* gets rid of default border in Firefox and Opera. */\n",
       "                border: none;\n",
       "                /* Needs to be in here for Safari polyfill so background images work as expected. */\n",
       "                background-size: auto;\n",
       "            }\n",
       "            .progress-bar-interrupted, .progress-bar-interrupted::-webkit-progress-bar {\n",
       "                background: #F44336;\n",
       "            }\n",
       "        </style>\n",
       "      <progress value='43' class='' max='56' style='width:300px; height:20px; vertical-align: middle;'></progress>\n",
       "      76.79% [43/56 05:26<01:38 10.1492]\n",
       "    </div>\n",
       "    "
      ],
      "text/plain": [
       "<IPython.core.display.HTML object>"
      ]
     },
     "metadata": {},
     "output_type": "display_data"
    },
    {
     "name": "stdout",
     "output_type": "stream",
     "text": [
      "LR Finder is complete, type {learner_name}.recorder.plot() to see the graph.\n"
     ]
    }
   ],
   "source": [
    "raw_model.lr_find()"
   ]
  },
  {
   "cell_type": "code",
   "execution_count": 35,
   "metadata": {},
   "outputs": [
    {
     "name": "stdout",
     "output_type": "stream",
     "text": [
      "Min numerical gradient: 4.79E-02\n",
      "Min loss divided by 10: 2.09E-02\n"
     ]
    },
    {
     "data": {
      "image/png": "[encoded data removed]",
      "text/plain": [
       "<Figure size 432x288 with 1 Axes>"
      ]
     },
     "metadata": {},
     "output_type": "display_data"
    }
   ],
   "source": [
    "raw_model.recorder.plot(show_grid=True, suggestion=True)"
   ]
  },
  {
   "cell_type": "code",
   "execution_count": 36,
   "metadata": {
    "scrolled": true
   },
   "outputs": [
    {
     "data": {
      "text/html": [
       "<table border=\"1\" class=\"dataframe\">\n",
       "  <thead>\n",
       "    <tr style=\"text-align: left;\">\n",
       "      <th>epoch</th>\n",
       "      <th>train_loss</th>\n",
       "      <th>valid_loss</th>\n",
       "      <th>accuracy</th>\n",
       "      <th>time</th>\n",
       "    </tr>\n",
       "  </thead>\n",
       "  <tbody>\n",
       "    <tr>\n",
       "      <td>0</td>\n",
       "      <td>4.488198</td>\n",
       "      <td>4.167037</td>\n",
       "      <td>0.240561</td>\n",
       "      <td>05:29</td>\n",
       "    </tr>\n",
       "  </tbody>\n",
       "</table>"
      ],
      "text/plain": [
       "<IPython.core.display.HTML object>"
      ]
     },
     "metadata": {},
     "output_type": "display_data"
    }
   ],
   "source": [
    "raw_model.fit_one_cycle(cyc_len=1,max_lr=5.75E-02,moms=(0.85,0.75))"
   ]
  },
  {
   "cell_type": "markdown",
   "metadata": {},
   "source": [
    "6.16% [948/15400 7:23:27<112:40:25 4.1839]"
   ]
  },
  {
   "cell_type": "code",
   "execution_count": 37,
   "metadata": {},
   "outputs": [],
   "source": [
    "raw_model.unfreeze()"
   ]
  },
  {
   "cell_type": "code",
   "execution_count": 38,
   "metadata": {},
   "outputs": [
    {
     "data": {
      "text/html": [
       "<table border=\"1\" class=\"dataframe\">\n",
       "  <thead>\n",
       "    <tr style=\"text-align: left;\">\n",
       "      <th>epoch</th>\n",
       "      <th>train_loss</th>\n",
       "      <th>valid_loss</th>\n",
       "      <th>accuracy</th>\n",
       "      <th>time</th>\n",
       "    </tr>\n",
       "  </thead>\n",
       "  <tbody>\n",
       "    <tr>\n",
       "      <td>0</td>\n",
       "      <td>3.806398</td>\n",
       "      <td>4.073981</td>\n",
       "      <td>0.251913</td>\n",
       "      <td>08:04</td>\n",
       "    </tr>\n",
       "    <tr>\n",
       "      <td>1</td>\n",
       "      <td>3.716907</td>\n",
       "      <td>4.098511</td>\n",
       "      <td>0.250574</td>\n",
       "      <td>08:01</td>\n",
       "    </tr>\n",
       "    <tr>\n",
       "      <td>2</td>\n",
       "      <td>3.286739</td>\n",
       "      <td>4.240024</td>\n",
       "      <td>0.242443</td>\n",
       "      <td>08:01</td>\n",
       "    </tr>\n",
       "    <tr>\n",
       "      <td>3</td>\n",
       "      <td>2.543413</td>\n",
       "      <td>4.521970</td>\n",
       "      <td>0.239222</td>\n",
       "      <td>08:00</td>\n",
       "    </tr>\n",
       "    <tr>\n",
       "      <td>4</td>\n",
       "      <td>1.814576</td>\n",
       "      <td>4.798120</td>\n",
       "      <td>0.229337</td>\n",
       "      <td>08:08</td>\n",
       "    </tr>\n",
       "  </tbody>\n",
       "</table>"
      ],
      "text/plain": [
       "<IPython.core.display.HTML object>"
      ]
     },
     "metadata": {},
     "output_type": "display_data"
    }
   ],
   "source": [
    "raw_model.fit_one_cycle(cyc_len=5, max_lr=slice(3.98E-02/(2.6**4),3.98E-02), moms=(0.85, 0.75))"
   ]
  },
  {
   "cell_type": "code",
   "execution_count": 39,
   "metadata": {},
   "outputs": [],
   "source": [
    "raw_model.save_encoder('encoder')"
   ]
  },
  {
   "cell_type": "code",
   "execution_count": 40,
   "metadata": {},
   "outputs": [
    {
     "data": {
      "text/html": [],
      "text/plain": [
       "<IPython.core.display.HTML object>"
      ]
     },
     "metadata": {},
     "output_type": "display_data"
    },
    {
     "data": {
      "text/html": [],
      "text/plain": [
       "<IPython.core.display.HTML object>"
      ]
     },
     "metadata": {},
     "output_type": "display_data"
    }
   ],
   "source": [
    "raw_class = TextClasDataBunch.from_csv(path='',csv_name='train_raw.csv',\n",
    "                              vocab=review_raw.train_ds.vocab,bs=32,text_cols='text',label_cols='sentiment')"
   ]
  },
  {
   "cell_type": "code",
   "execution_count": 41,
   "metadata": {},
   "outputs": [
    {
     "data": {
      "text/html": [
       "<table border=\"1\" class=\"dataframe\">\n",
       "  <thead>\n",
       "    <tr style=\"text-align: right;\">\n",
       "      <th>text</th>\n",
       "      <th>target</th>\n",
       "    </tr>\n",
       "  </thead>\n",
       "  <tbody>\n",
       "    <tr>\n",
       "      <td>xxbos xxmaj let me get right to the point . i xxunk this nightclub . i 'm not typically the \" nightclub \" type of guy , but i do dance . xxup pure , in xxmaj caesar 's xxmaj palace , xxunk everything i hate about big xxunk . \\n \\n  xxmaj for one , the people that go there , and the employees , are pretentious .</td>\n",
       "      <td>1</td>\n",
       "    </tr>\n",
       "    <tr>\n",
       "      <td>xxbos xxmaj this is the second time i 've visited with xxmaj dr. xxmaj aspacio . i actually found him to be friendly and caring on both visits . \\n \\n  xxmaj unfortunately , the rest was horrible . xxmaj upon arrival for my first visit i asked the gentleman upfront to please make sure that my insurance would cover everything being done on this visit . i said</td>\n",
       "      <td>1</td>\n",
       "    </tr>\n",
       "    <tr>\n",
       "      <td>xxbos xxmaj arrival date : xxunk / xxunk / 2014 xxmaj departure date : xxunk / xxunk / 2014 \\n  xxmaj room xxmaj type : xxmaj resort xxmaj king \\n  xxmaj special xxmaj requests : \\n  xxmaj xxunk xxmaj late xxmaj check - xxmaj out \\n  xxmaj number of xxmaj guests : 2 \\n \\n  xxmaj this is supposed to be a member of the</td>\n",
       "      <td>1</td>\n",
       "    </tr>\n",
       "    <tr>\n",
       "      <td>xxbos i have eaten here twice , today being the second time . xxmaj the first time i got my food to go because the place was so packed , so i can not comment on the service that day . \\n \\n  xxmaj the food , to go , from first visit : \\n \\n  xxmaj had the number four pizza , um , tomato pie .</td>\n",
       "      <td>1</td>\n",
       "    </tr>\n",
       "    <tr>\n",
       "      <td>xxbos xxmaj part 1 : \\n  xxmaj by far the worst hotel service experienced ever in xxmaj las xxmaj vegas , especially on a special day like my birthday on xxmaj april xxunk , 2013 . xxmaj hopefully my experience will touch most of my xxunk and other people that are writing reviews about this hotel that was formerly under the xxmaj harrah 's name and is now under</td>\n",
       "      <td>1</td>\n",
       "    </tr>\n",
       "  </tbody>\n",
       "</table>"
      ],
      "text/plain": [
       "<IPython.core.display.HTML object>"
      ]
     },
     "metadata": {},
     "output_type": "display_data"
    }
   ],
   "source": [
    "raw_class.show_batch()"
   ]
  },
  {
   "cell_type": "code",
   "execution_count": 42,
   "metadata": {},
   "outputs": [],
   "source": [
    "raw_model = text_classifier_learner(raw_class, AWD_LSTM, drop_mult=0.5)"
   ]
  },
  {
   "cell_type": "code",
   "execution_count": 43,
   "metadata": {},
   "outputs": [
    {
     "data": {
      "text/plain": [
       "RNNLearner(data=TextClasDataBunch;\n",
       "\n",
       "Train: LabelList (1279 items)\n",
       "x: TextList\n",
       "xxbos xxmaj do nt waste your time . xxmaj food was xxup extremely salty , i could hardly finish . xxmaj wait staff was not very friendly either . xxmaj food was def lacking,xxbos i was uber lucky to try the xxmaj tasting xxmaj menu . xxmaj not all of the items were on the menu and the xxunk of the tastes and texture of the courses were uncommon . xxmaj we were fortunate to have one of the xxunk chefs come out to meet us and ask questions about the dishes . xxmaj if you have the chance go for the road less xxunk and make the pricier choice of the tasting menu . xxmaj you wo n't be disappointed , but go hungry & with xxunk clothing .,xxbos xxmaj good idea , poor execution . \n",
       " \n",
       "  xxmaj being a 5 minute drive from the house and getting a coupon in the mail was enough for us to give this place a shot . i like the idea of a very basic concept with few options to start and then you can make it your own after that . xxmaj it just did n't deliver . \n",
       " \n",
       "  xxmaj here 's the xxunk : \n",
       " \n",
       "  xxmaj pros : \n",
       "  + + xxmaj the buns - they are made there , are really light , very tasty and a good size . i do n't like burgers with too much bun ! \n",
       "  + + xxmaj three sizes of burger to choose from - something for everyone . \n",
       "  + + xxmaj ingredients seem to be pretty fresh \n",
       "  + + xxmaj the regular fries were pretty good \n",
       "  + + xxmaj you get to add your own xxunk \n",
       " \n",
       "  xxmaj so - xxmaj so : \n",
       "  = xxmaj the sweet potato fries were a little charred - enough to give them a bitter taste . xxmaj they also are thicker cut with xxunk on ( which was okay by me ) but could have used a little more salt / seasoning . \n",
       "  = xxmaj the place seemed clean overall , but there were quite a few flies around \n",
       "  = xxmaj they seem to have a decent selection of xxunk , but we did n't try any \n",
       " \n",
       "  xxmaj cons : \n",
       "  -- xxmaj the xxunk bar is weak . xxmaj not a lot of fresh produce and they offer shredded lettuce ( which i think is messy ) . xxmaj it could use fresh avocado , pineapple , sauteed mushrooms , grilled onions , etc . xxmaj something more than raw onion and two kinds of pickles to xxunk up your burger with . \n",
       "  xxunk both ordered our burgers medium and they were both definitely well done . \n",
       "  xxunk lemonade was a special drink made that day . i was excited , but it ended up just tasting like xxunk down xxunk - should have been more like lemonade with some xxunk than xxunk with some water and a little lemon in it . \n",
       "  xxunk 's crazy quiet in there . xxmaj with no music and not many patrons , it was like a xxunk . \n",
       "  xxunk were about 6 people working this small lil ' place which probably could have been run by 2 - 3 . xxmaj team that with the quiet and you felt kind of on display for them all to watch and wait for more people to show up . \n",
       "  xxunk hours - only open until 7 and i * think * they 're only open m - f possibly m - xxmaj sat - definitely not sure on that part though . \n",
       " \n",
       "  xxmaj mediocre at best . xxmaj if they worked out the kinks and xxunk some of their stuff , i * might * give xxunk another shot - only if i had a coupon again though .,xxbos xxmaj the pizza downstairs was way better . xxmaj very greasy and not worth the price that i paid . ( 3 / 6 / 12 ),xxbos xxmaj made reservation for xxunk and finally sat down at xxunk . xxmaj offered many apologies and a free desert but who needs the desert . i finally stood up and asked some friends that we 're eating to share left overs and the bartender finally came to our xxunk . xxmaj finally ate and food is good . i need my drinks comped while i waited over hour .\n",
       "y: CategoryList\n",
       "1,2,1,1,1\n",
       "Path: .;\n",
       "\n",
       "Valid: LabelList (321 items)\n",
       "x: TextList\n",
       "xxbos i ordered a buffet from them during xxmaj xxunk xxmaj day xxmaj weekend . i was told it was in their warehouse and would take 1 xxunk weeks to deliver to the xxmaj raintree location . xxmaj we did n't hear anything from them so called after 3 weeks and they said the xxunk was still shipping . xxmaj they lied about it even being available in their warehouse and said they would call with an update . xxmaj we waited another week and then called to check on the status . xxmaj they said they talked to the warehouse manager and it was in the warehouse . xxmaj they said it would take a week to make it to the xxmaj raintree location and they would call us immediately when ready for pick up . xxmaj no call . i called again after ten days and they still do n't have it in the store . \n",
       "  xxmaj seriously , this company lies just to get you to purchase when they do n't even have the merchandise available . xxmaj do not ever purchase furniture from this company unless you can wait 6 months for delivery .,xxbos xxmaj went to xxmaj xxunk 's for dinner tonight . xxmaj this location is always freezing inside ! i wish the xxunk actually put out heat . i ordered the 6 piece nuggets , xxmaj xxunk xxmaj bacon xxmaj cheeseburger ( plain ) , and had to try their new xxup bbq xxmaj pork xxmaj cheese xxmaj fries . xxmaj you have a choice of sweet , smoky , or spicy sauce . i decided to try the sweet . xxmaj their xxmaj xxunk xxmaj xxunk xxmaj xxunk machines were out of a lot of flavors . xxmaj tables were dirty and needed to be wiped down . xxmaj when the food came out , i was disappointed to see onions on the pork fries . i did n't realize it came with onions , so we had to scoop them off . xxmaj of course you can never get them all ... xxmaj there was n't a lot of xxup bbq pork on the fries . xxmaj the flavor was nothing special . i had a bite of my boyfriend 's pork sandwich with the smoky sauce and i liked that sauce better . xxmaj the sandwich was a whole lot more bread than pork though . xxmaj kinda sad really . xxmaj my burger was simple but tasted good with the bacon . xxmaj the nuggets were fine ( actually got 7 ) but did n't really do it for me tonight . xxmaj should 've gone for the spicy nuggets . xxmaj there was a very long line of cars in the drive thru when we left !,xxbos xxmaj not a bad place . xxmaj not a great place . xxmaj the price xxunk this a 4 star because it xxup is a really great value . xxmaj xxunk and xxunk were pretty awesome .,xxbos xxmaj so just over a week later & the car is having the same issue as before it was \" fixed \" . xxmaj my wife took the car in and they say they ca n't find anything wrong now , nor can they recreate the problem . \n",
       " \n",
       "  xxmaj time to notify the xxup bbb that they did $ xxunk in repairs and did n't fix the issue .,xxbos xxmaj clean location , friendly staff and great work ! xxmaj if you can , ask for xxmaj sandy . xxmaj she is super friendly and extremely thorough . i have gotten manicures , pedicures , xxmaj gelish polish , xxunk nails and eyebrow waxing done here and i have been extremely happy 99 % of the time . \n",
       " \n",
       "  xxmaj the only time i was disappointed was when i got my xxmaj gelish polish done for the first time . a decent sized chunk chipped off the following day . xxmaj however , i went back and explained what happened ( they remembered me from the previous day as well ! ) . xxmaj they fixed the polish for free and it has n't chipped again since . xxmaj that was almost xxup two xxup weeks ago ! \n",
       " \n",
       "  i will never get my nails done anywhere else in xxmaj vegas !\n",
       "y: CategoryList\n",
       "1,1,2,1,2\n",
       "Path: .;\n",
       "\n",
       "Test: None, model=SequentialRNN(\n",
       "  (0): MultiBatchEncoder(\n",
       "    (module): AWD_LSTM(\n",
       "      (encoder): Embedding(6472, 400, padding_idx=1)\n",
       "      (encoder_dp): EmbeddingDropout(\n",
       "        (emb): Embedding(6472, 400, padding_idx=1)\n",
       "      )\n",
       "      (rnns): ModuleList(\n",
       "        (0): WeightDropout(\n",
       "          (module): LSTM(400, 1152, batch_first=True)\n",
       "        )\n",
       "        (1): WeightDropout(\n",
       "          (module): LSTM(1152, 1152, batch_first=True)\n",
       "        )\n",
       "        (2): WeightDropout(\n",
       "          (module): LSTM(1152, 400, batch_first=True)\n",
       "        )\n",
       "      )\n",
       "      (input_dp): RNNDropout()\n",
       "      (hidden_dps): ModuleList(\n",
       "        (0): RNNDropout()\n",
       "        (1): RNNDropout()\n",
       "        (2): RNNDropout()\n",
       "      )\n",
       "    )\n",
       "  )\n",
       "  (1): PoolingLinearClassifier(\n",
       "    (layers): Sequential(\n",
       "      (0): BatchNorm1d(1200, eps=1e-05, momentum=0.1, affine=True, track_running_stats=True)\n",
       "      (1): Dropout(p=0.2, inplace=False)\n",
       "      (2): Linear(in_features=1200, out_features=50, bias=True)\n",
       "      (3): ReLU(inplace=True)\n",
       "      (4): BatchNorm1d(50, eps=1e-05, momentum=0.1, affine=True, track_running_stats=True)\n",
       "      (5): Dropout(p=0.1, inplace=False)\n",
       "      (6): Linear(in_features=50, out_features=2, bias=True)\n",
       "    )\n",
       "  )\n",
       "), opt_func=functools.partial(<class 'torch.optim.adam.Adam'>, betas=(0.9, 0.99)), loss_func=FlattenedLoss of CrossEntropyLoss(), metrics=[<function accuracy at 0x7fa2ddbd8440>], true_wd=True, bn_wd=True, wd=0.01, train_bn=True, path=PosixPath('.'), model_dir='models', callback_fns=[functools.partial(<class 'fastai.basic_train.Recorder'>, add_time=True, silent=False)], callbacks=[RNNTrainer\n",
       "learn: ...\n",
       "alpha: 2.0\n",
       "beta: 1.0], layer_groups=[Sequential(\n",
       "  (0): Embedding(6472, 400, padding_idx=1)\n",
       "  (1): EmbeddingDropout(\n",
       "    (emb): Embedding(6472, 400, padding_idx=1)\n",
       "  )\n",
       "), Sequential(\n",
       "  (0): WeightDropout(\n",
       "    (module): LSTM(400, 1152, batch_first=True)\n",
       "  )\n",
       "  (1): RNNDropout()\n",
       "), Sequential(\n",
       "  (0): WeightDropout(\n",
       "    (module): LSTM(1152, 1152, batch_first=True)\n",
       "  )\n",
       "  (1): RNNDropout()\n",
       "), Sequential(\n",
       "  (0): WeightDropout(\n",
       "    (module): LSTM(1152, 400, batch_first=True)\n",
       "  )\n",
       "  (1): RNNDropout()\n",
       "), Sequential(\n",
       "  (0): PoolingLinearClassifier(\n",
       "    (layers): Sequential(\n",
       "      (0): BatchNorm1d(1200, eps=1e-05, momentum=0.1, affine=True, track_running_stats=True)\n",
       "      (1): Dropout(p=0.2, inplace=False)\n",
       "      (2): Linear(in_features=1200, out_features=50, bias=True)\n",
       "      (3): ReLU(inplace=True)\n",
       "      (4): BatchNorm1d(50, eps=1e-05, momentum=0.1, affine=True, track_running_stats=True)\n",
       "      (5): Dropout(p=0.1, inplace=False)\n",
       "      (6): Linear(in_features=50, out_features=2, bias=True)\n",
       "    )\n",
       "  )\n",
       ")], add_time=True, silent=False)"
      ]
     },
     "execution_count": 43,
     "metadata": {},
     "output_type": "execute_result"
    }
   ],
   "source": [
    "raw_model.load_encoder('encoder')"
   ]
  },
  {
   "cell_type": "code",
   "execution_count": 44,
   "metadata": {},
   "outputs": [
    {
     "data": {
      "text/plain": [
       "SequentialRNN(\n",
       "  (0): MultiBatchEncoder(\n",
       "    (module): AWD_LSTM(\n",
       "      (encoder): Embedding(6472, 400, padding_idx=1)\n",
       "      (encoder_dp): EmbeddingDropout(\n",
       "        (emb): Embedding(6472, 400, padding_idx=1)\n",
       "      )\n",
       "      (rnns): ModuleList(\n",
       "        (0): WeightDropout(\n",
       "          (module): LSTM(400, 1152, batch_first=True)\n",
       "        )\n",
       "        (1): WeightDropout(\n",
       "          (module): LSTM(1152, 1152, batch_first=True)\n",
       "        )\n",
       "        (2): WeightDropout(\n",
       "          (module): LSTM(1152, 400, batch_first=True)\n",
       "        )\n",
       "      )\n",
       "      (input_dp): RNNDropout()\n",
       "      (hidden_dps): ModuleList(\n",
       "        (0): RNNDropout()\n",
       "        (1): RNNDropout()\n",
       "        (2): RNNDropout()\n",
       "      )\n",
       "    )\n",
       "  )\n",
       "  (1): PoolingLinearClassifier(\n",
       "    (layers): Sequential(\n",
       "      (0): BatchNorm1d(1200, eps=1e-05, momentum=0.1, affine=True, track_running_stats=True)\n",
       "      (1): Dropout(p=0.2, inplace=False)\n",
       "      (2): Linear(in_features=1200, out_features=50, bias=True)\n",
       "      (3): ReLU(inplace=True)\n",
       "      (4): BatchNorm1d(50, eps=1e-05, momentum=0.1, affine=True, track_running_stats=True)\n",
       "      (5): Dropout(p=0.1, inplace=False)\n",
       "      (6): Linear(in_features=50, out_features=2, bias=True)\n",
       "    )\n",
       "  )\n",
       ")"
      ]
     },
     "execution_count": 44,
     "metadata": {},
     "output_type": "execute_result"
    }
   ],
   "source": [
    "raw_model.model"
   ]
  },
  {
   "cell_type": "code",
   "execution_count": 46,
   "metadata": {},
   "outputs": [],
   "source": [
    "raw_model.unfreeze()"
   ]
  },
  {
   "cell_type": "code",
   "execution_count": null,
   "metadata": {
    "scrolled": true
   },
   "outputs": [
    {
     "data": {
      "text/html": [
       "\n",
       "    <div>\n",
       "        <style>\n",
       "            /* Turns off some styling */\n",
       "            progress {\n",
       "                /* gets rid of default border in Firefox and Opera. */\n",
       "                border: none;\n",
       "                /* Needs to be in here for Safari polyfill so background images work as expected. */\n",
       "                background-size: auto;\n",
       "            }\n",
       "            .progress-bar-interrupted, .progress-bar-interrupted::-webkit-progress-bar {\n",
       "                background: #F44336;\n",
       "            }\n",
       "        </style>\n",
       "      <progress value='0' class='' max='3' style='width:300px; height:20px; vertical-align: middle;'></progress>\n",
       "      0.00% [0/3 00:00<00:00]\n",
       "    </div>\n",
       "    \n",
       "<table border=\"1\" class=\"dataframe\">\n",
       "  <thead>\n",
       "    <tr style=\"text-align: left;\">\n",
       "      <th>epoch</th>\n",
       "      <th>train_loss</th>\n",
       "      <th>valid_loss</th>\n",
       "      <th>accuracy</th>\n",
       "      <th>time</th>\n",
       "    </tr>\n",
       "  </thead>\n",
       "  <tbody>\n",
       "  </tbody>\n",
       "</table><p>\n",
       "\n",
       "    <div>\n",
       "        <style>\n",
       "            /* Turns off some styling */\n",
       "            progress {\n",
       "                /* gets rid of default border in Firefox and Opera. */\n",
       "                border: none;\n",
       "                /* Needs to be in here for Safari polyfill so background images work as expected. */\n",
       "                background-size: auto;\n",
       "            }\n",
       "            .progress-bar-interrupted, .progress-bar-interrupted::-webkit-progress-bar {\n",
       "                background: #F44336;\n",
       "            }\n",
       "        </style>\n",
       "      <progress value='0' class='' max='39' style='width:300px; height:20px; vertical-align: middle;'></progress>\n",
       "      0.00% [0/39 00:00<00:00]\n",
       "    </div>\n",
       "    "
      ],
      "text/plain": [
       "<IPython.core.display.HTML object>"
      ]
     },
     "metadata": {},
     "output_type": "display_data"
    }
   ],
   "source": [
    "raw_model.lr_find()"
   ]
  },
  {
   "cell_type": "code",
   "execution_count": null,
   "metadata": {},
   "outputs": [],
   "source": [
    "raw_model.recorder.plot(show_grid=True, suggestion=True)"
   ]
  },
  {
   "cell_type": "code",
   "execution_count": null,
   "metadata": {},
   "outputs": [],
   "source": []
  }
 ],
 "metadata": {
  "kernelspec": {
   "display_name": "Python 3",
   "language": "python",
   "name": "python3"
  },
  "language_info": {
   "codemirror_mode": {
    "name": "ipython",
    "version": 3
   },
   "file_extension": ".py",
   "mimetype": "text/x-python",
   "name": "python",
   "nbconvert_exporter": "python",
   "pygments_lexer": "ipython3",
   "version": "3.7.4"
  }
 },
 "nbformat": 4,
 "nbformat_minor": 2
}
