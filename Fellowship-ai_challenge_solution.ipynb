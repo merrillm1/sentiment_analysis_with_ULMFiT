{
 "cells": [
  {
   "cell_type": "markdown",
   "metadata": {},
   "source": [
    "# Fellowship ai Sentiment Analysis Challenge with the Yelp Polarity dataset"
   ]
  },
  {
   "cell_type": "markdown",
   "metadata": {},
   "source": [
    "__Yelp Review Polarity Dataset__\n",
    "\n",
    "Version 1, Updated 09/09/2015\n",
    "\n",
    "ORIGIN\n",
    "\n",
    "The Yelp reviews dataset consists of reviews from Yelp. It is extracted from the Yelp Dataset Challenge 2015 data. For more information, please refer to http://www.yelp.com/dataset_challenge\n",
    "\n",
    "The Yelp reviews polarity dataset is constructed by Xiang Zhang (xiang.zhang@nyu.edu) from the above dataset. It is first used as a text classification benchmark in the following paper: Xiang Zhang, Junbo Zhao, Yann LeCun. Character-level Convolutional Networks for Text Classification. Advances in Neural Information Processing Systems 28 (NIPS 2015).\n",
    "\n",
    "\n",
    "DESCRIPTION\n",
    "\n",
    "The Yelp reviews polarity dataset is constructed by considering stars 1 and 2 negative, and 3 and 4 positive. For each polarity 280,000 training samples and 19,000 testing samples are take randomly. In total there are 560,000 trainig samples and 38,000 testing samples. Negative polarity is class 1, and positive class 2.\n",
    "\n",
    "The files train.csv and test.csv contain all the training samples as comma-sparated values. There are 2 columns in them, corresponding to class index (1 and 2) and review text. The review texts are escaped using double quotes (\"), and any internal double quote is escaped by 2 double quotes (\"\"). New lines are escaped by a backslash followed with an \"n\" character, that is \"\\n\".\n",
    "\n"
   ]
  },
  {
   "cell_type": "code",
   "execution_count": 1,
   "metadata": {},
   "outputs": [],
   "source": [
    "%matplotlib inline\n",
    "import os\n",
    "import glob\n",
    "import pandas as pd\n",
    "import numpy as np\n",
    "import matplotlib.pyplot as plt\n",
    "import seaborn as sns\n",
    "import tensorflow as tf\n",
    "from fastai.metrics import accuracy\n",
    "from fastai.text import *\n",
    "from fastai import *"
   ]
  },
  {
   "cell_type": "code",
   "execution_count": 2,
   "metadata": {},
   "outputs": [],
   "source": [
    "def read_in_data(df_names, directory = './'):\n",
    "    '''Read in data into seperate dataframes'''\n",
    "    \n",
    "    # change directory to data storage location\n",
    "    os.chdir(directory)\n",
    "    \n",
    "    # list of filenames\n",
    "    extension = 'csv'\n",
    "    filenames = [i for i in glob.glob('*.{}'.format(extension))]\n",
    "    \n",
    "    # create global dfs within function\n",
    "    for name, file in zip(df_names, filenames):\n",
    "        globals()[name] = pd.read_csv(file, header=None, names = ['sentiment', 'text'])"
   ]
  },
  {
   "cell_type": "code",
   "execution_count": 3,
   "metadata": {},
   "outputs": [],
   "source": [
    "# list of prefered dataframe names in same order as directory\n",
    "df_names = ['test', 'train']\n",
    "directory = '/Users/mattmerrill/Springboard/fellowship-ai_challenge/data'\n",
    "\n",
    "read_in_data(df_names, directory)"
   ]
  },
  {
   "cell_type": "code",
   "execution_count": 4,
   "metadata": {},
   "outputs": [
    {
     "data": {
      "text/html": [
       "<div>\n",
       "<style scoped>\n",
       "    .dataframe tbody tr th:only-of-type {\n",
       "        vertical-align: middle;\n",
       "    }\n",
       "\n",
       "    .dataframe tbody tr th {\n",
       "        vertical-align: top;\n",
       "    }\n",
       "\n",
       "    .dataframe thead th {\n",
       "        text-align: right;\n",
       "    }\n",
       "</style>\n",
       "<table border=\"1\" class=\"dataframe\">\n",
       "  <thead>\n",
       "    <tr style=\"text-align: right;\">\n",
       "      <th></th>\n",
       "      <th></th>\n",
       "      <th></th>\n",
       "      <th>sentiment</th>\n",
       "      <th>text</th>\n",
       "    </tr>\n",
       "  </thead>\n",
       "  <tbody>\n",
       "    <tr>\n",
       "      <td>NaN</td>\n",
       "      <td>sentiment</td>\n",
       "      <td>text</td>\n",
       "      <td>clean_text</td>\n",
       "      <td>review_len</td>\n",
       "    </tr>\n",
       "    <tr>\n",
       "      <td>15488.0</td>\n",
       "      <td>1</td>\n",
       "      <td>We stay at Mandalay each year for an annual golf tournament, so MIX lounge is conveniently upstairs. Its definitely not a club like the others along the strip... Just a chill place to grab drinks. The dance floor is small, and pretty much non-existent. The crowd is older... No young hotties. The DJ wasn't that great the last time I was there either.. He didn't know how to transition songs! But the view is great though... Cant get a better view of the strip than from MIX! They also have an open-air balcony if you wanna get some fresh air...</td>\n",
       "      <td>we stay at mandalay each year for an annual go...</td>\n",
       "      <td>545</td>\n",
       "    </tr>\n",
       "    <tr>\n",
       "      <td>29491.0</td>\n",
       "      <td>2</td>\n",
       "      <td>Best breakfast in Scottsdale! Omg! I had a whole hog skillet with scrambled cheese eggs, my brother had the same with a sunny side egg. My sister had wild berry bliss toast. Also ordered the biscuits and gravy with a side of cheese grits. Ordered so much to sample due to the amazing delicious looking images provided by Yelpers. We spent about 65 bucks including tip. Well worth it.</td>\n",
       "      <td>best breakfast in scottsdale omg i had a whole...</td>\n",
       "      <td>383</td>\n",
       "    </tr>\n",
       "    <tr>\n",
       "      <td>14338.0</td>\n",
       "      <td>1</td>\n",
       "      <td>Poor Customer Service! I visit this location fairly often but tonight was the worst! Marvin, the manager took my order, and got it wrong. When I explained to him it wasn't what I ordered nor was it what he repeated back he basically shrugged his shoulders and said oh well. He did nothing to rectify the issue, not even a simple apology which I would have gladly accepted as mistakes happen. I asked for the corporate number and he said its on the website. I jumped right on the website to a \\\"contact us\\\" form. Site stated the business hours are from 8a-5p and it may take 96 hours to respond as the personally respond to all messages. Approximately 10 minutes after I hit submit, I get this generic email stating we're sorry you're not pleased! I'm not buying it at all. I enjoy wingstop but I will not be returning. Throughout my years in customer service I've learned customers will tolerate a lot but poor service isn't one of them!</td>\n",
       "      <td>poor customer service i visit this location fa...</td>\n",
       "      <td>938</td>\n",
       "    </tr>\n",
       "    <tr>\n",
       "      <td>29485.0</td>\n",
       "      <td>2</td>\n",
       "      <td>It's tough to review this place. I once got the Norwegian Burger and never looked back. It is the only thing I order there. I have cravings for it. I can't even tell you what else is on the menu. The beef is not as flavorful as some other places like Clover Joes a few place down, but everything else they throw on it still makes this one of the best in my opinion.\\nMaybe one day I'll branch out. It just doesn't seem like I need to.</td>\n",
       "      <td>its tough to review this place i once got the ...</td>\n",
       "      <td>434</td>\n",
       "    </tr>\n",
       "  </tbody>\n",
       "</table>\n",
       "</div>"
      ],
      "text/plain": [
       "                                                                                                              sentiment  \\\n",
       "NaN     sentiment text                                                                                       clean_text   \n",
       "15488.0 1         We stay at Mandalay each year for an annual gol...  we stay at mandalay each year for an annual go...   \n",
       "29491.0 2         Best breakfast in Scottsdale! Omg! I had a whol...  best breakfast in scottsdale omg i had a whole...   \n",
       "14338.0 1         Poor Customer Service! I visit this location fa...  poor customer service i visit this location fa...   \n",
       "29485.0 2         It's tough to review this place. I once got the...  its tough to review this place i once got the ...   \n",
       "\n",
       "                                                                            text  \n",
       "NaN     sentiment text                                                review_len  \n",
       "15488.0 1         We stay at Mandalay each year for an annual gol...         545  \n",
       "29491.0 2         Best breakfast in Scottsdale! Omg! I had a whol...         383  \n",
       "14338.0 1         Poor Customer Service! I visit this location fa...         938  \n",
       "29485.0 2         It's tough to review this place. I once got the...         434  "
      ]
     },
     "execution_count": 4,
     "metadata": {},
     "output_type": "execute_result"
    }
   ],
   "source": [
    "train.head()"
   ]
  },
  {
   "cell_type": "code",
   "execution_count": 5,
   "metadata": {},
   "outputs": [
    {
     "data": {
      "text/html": [
       "<div>\n",
       "<style scoped>\n",
       "    .dataframe tbody tr th:only-of-type {\n",
       "        vertical-align: middle;\n",
       "    }\n",
       "\n",
       "    .dataframe tbody tr th {\n",
       "        vertical-align: top;\n",
       "    }\n",
       "\n",
       "    .dataframe thead th {\n",
       "        text-align: right;\n",
       "    }\n",
       "</style>\n",
       "<table border=\"1\" class=\"dataframe\">\n",
       "  <thead>\n",
       "    <tr style=\"text-align: right;\">\n",
       "      <th></th>\n",
       "      <th></th>\n",
       "      <th></th>\n",
       "      <th>sentiment</th>\n",
       "      <th>text</th>\n",
       "    </tr>\n",
       "  </thead>\n",
       "  <tbody>\n",
       "    <tr>\n",
       "      <td>NaN</td>\n",
       "      <td>sentiment</td>\n",
       "      <td>text</td>\n",
       "      <td>clean_text</td>\n",
       "      <td>review_len</td>\n",
       "    </tr>\n",
       "    <tr>\n",
       "      <td>25789.0</td>\n",
       "      <td>2</td>\n",
       "      <td>Super awesome friendly staff! I always want to try something different but end up getting the New Yorker because it is awesome!</td>\n",
       "      <td>super awesome friendly staff i always want to ...</td>\n",
       "      <td>127</td>\n",
       "    </tr>\n",
       "    <tr>\n",
       "      <td>22878.0</td>\n",
       "      <td>2</td>\n",
       "      <td>Simple, laid back &amp; very casual.\\n\\nCopper is the best beer!! Food is good and service is quick. Plus they have FREE Yoga on Tuesday nights started by LuLuLemon. What could be better than yoga and beer??\\n\\nBest tip about this place: they have \\\"OMB coins\\\" that you use like money - as if you're a leprechaun or 10yrs old in an arcade - so fun!!</td>\n",
       "      <td>simple laid back very casualnncopper is the be...</td>\n",
       "      <td>346</td>\n",
       "    </tr>\n",
       "    <tr>\n",
       "      <td>2065.0</td>\n",
       "      <td>1</td>\n",
       "      <td>Service has changed at this store over the years, good luck checking out in any reasonable length of time.  Be sure the charges are correct too, while you are at it.\\nWhen shopping here, the system is clearly designed to keep you in the store longer.  It is more difficult than necessary to find a specific book, as subject matter is spread over several small sections in various aisles rather than in one place.  I get the idea of wanting people to linger, but it is so chaotic to find anything that, in my case, it has the opposite effect.  There are a lot of books though, will give you that.\\nTheir buy program is worse than any of the other bookstores.  Less than 5 percent of their half price resale, not the original price.  Insulting.  Worst offers include a $40 brand new release hardbound for 50 cents, hardbound new release still in the plastic for 75 cents, and so on.  Save your books and sell at a garage sale, seriously!\\n  \\nI've been a frequent shopper at bookstores in many cities, this one scores at the bottom for overall experience.  Any mom and pop is better.</td>\n",
       "      <td>service has changed at this store over the yea...</td>\n",
       "      <td>1081</td>\n",
       "    </tr>\n",
       "    <tr>\n",
       "      <td>33417.0</td>\n",
       "      <td>2</td>\n",
       "      <td>Reasons why I love Vegas... Places like THIS.\\n\\nIt was 1am (no I wasn't drunk...so my star rating is not under the influence of alcohol on this occasion)\\n\\nWe were just tired after a long drive in from Phoenix and starving. We stopped in and were greeted by friendly service, and delicious entrees. \\n\\nPrices VERY reasonable, and the cuisine was solid. Fresh ingredients (except for the spring rolls which tasted like they were from a box...hence the 4 stars instead of 5)\\n\\nEven at 1am, I felt like they cared just as much about our business as they do at the busiest dinner crowd times. I will definitely come back here again!</td>\n",
       "      <td>reasons why i love vegas places like thisnnit ...</td>\n",
       "      <td>632</td>\n",
       "    </tr>\n",
       "  </tbody>\n",
       "</table>\n",
       "</div>"
      ],
      "text/plain": [
       "                                                                                                              sentiment  \\\n",
       "NaN     sentiment text                                                                                       clean_text   \n",
       "25789.0 2         Super awesome friendly staff! I always want to ...  super awesome friendly staff i always want to ...   \n",
       "22878.0 2         Simple, laid back & very casual.\\n\\nCopper is t...  simple laid back very casualnncopper is the be...   \n",
       "2065.0  1         Service has changed at this store over the year...  service has changed at this store over the yea...   \n",
       "33417.0 2         Reasons why I love Vegas... Places like THIS.\\n...  reasons why i love vegas places like thisnnit ...   \n",
       "\n",
       "                                                                            text  \n",
       "NaN     sentiment text                                                review_len  \n",
       "25789.0 2         Super awesome friendly staff! I always want to ...         127  \n",
       "22878.0 2         Simple, laid back & very casual.\\n\\nCopper is t...         346  \n",
       "2065.0  1         Service has changed at this store over the year...        1081  \n",
       "33417.0 2         Reasons why I love Vegas... Places like THIS.\\n...         632  "
      ]
     },
     "execution_count": 5,
     "metadata": {},
     "output_type": "execute_result"
    }
   ],
   "source": [
    "test.head()"
   ]
  },
  {
   "cell_type": "code",
   "execution_count": 6,
   "metadata": {},
   "outputs": [
    {
     "name": "stdout",
     "output_type": "stream",
     "text": [
      "<class 'pandas.core.frame.DataFrame'>\n",
      "MultiIndex: 30401 entries, (nan, sentiment, text) to (5994.0, 1, Read all the reviews before going so I was a little skeptical but thought I would try anyway. Cute little place, seated right away which was good for a Saturday at 1230. Ordered eggs Benedict but they had sold out! A breakfast place that runs out of breakfast food, hum. Got the breakfast sandwich which came out cut in half, on a large white plate with no garnish. Had to ask for silverware and napkins. Service was ok, sandwich average.)\n",
      "Data columns (total 2 columns):\n",
      "sentiment    30401 non-null object\n",
      "text         30401 non-null object\n",
      "dtypes: object(2)\n",
      "memory usage: 1.1+ MB\n"
     ]
    }
   ],
   "source": [
    "train.info()"
   ]
  },
  {
   "cell_type": "code",
   "execution_count": 7,
   "metadata": {},
   "outputs": [
    {
     "name": "stdout",
     "output_type": "stream",
     "text": [
      "<class 'pandas.core.frame.DataFrame'>\n",
      "MultiIndex: 7601 entries, (nan, sentiment, text) to (32943.0, 1, Let me start by saying I only went here because the girl I usually go to lives far so I decided to try this place out with their groupon, natural set with retouch. The few times I called nobody even answered, I had to call like 3 times for some rude receptionist to finally answer, apparently it's because they're so \\\"booked and busy.\\\" 3 weeks later (yea I said 3 weeks) it's finally time for my appt, I get there it's nice clean and fancy, the receptionist seems to be nicer in person than phone, the girl that did my eyelashes must have been new, let me tell you... it took a whole 2 and a half hours to do my natural set! Some asian lady had to come in towards the end to finish it off and make it go faster! I get eyelashes done all the time and a dramatic set by my girl only takes 45 minutes! Anyway 2 weeks later I had my retouch appt, and I couldn't make it I was called into work and asked if I can come in during my lunch break rather than the scheduled morning appt, the receptionist said no we are booked, I told her its only for a retouch and by the time u can get me in next week they would have all fell out and I would have to pay for a whole new set, she says and I quote \\\"well that's why you should have been here this morning\\\" with an attitude! If I could have reached through the phone I would have!! That's not the way u speak to a customer at all!! Will definitely not be going back and would  not recommend!!)\n",
      "Data columns (total 2 columns):\n",
      "sentiment    7601 non-null object\n",
      "text         7601 non-null object\n",
      "dtypes: object(2)\n",
      "memory usage: 274.7+ KB\n"
     ]
    }
   ],
   "source": [
    "test.info()"
   ]
  },
  {
   "cell_type": "markdown",
   "metadata": {},
   "source": [
    "## Fellowship ai Challenge Description\n",
    "\n",
    "Perform Sentiment analysis using ULMFiT on Yelp reviews - Polarity and apply the EDA augmentation. Report the performance metrics for before and after augmentation? show examples of data augmentaion?"
   ]
  },
  {
   "cell_type": "markdown",
   "metadata": {},
   "source": [
    "## Exploratory Analysis\n",
    "\n",
    "Before processing with ULMFiT let's perform some expoloratory analysis to find out most common words, in the process we will also clean the text of urls and lower the case of all words to avoid unnecessary repeats. "
   ]
  },
  {
   "cell_type": "code",
   "execution_count": 8,
   "metadata": {},
   "outputs": [],
   "source": [
    "import itertools\n",
    "import collections\n",
    "\n",
    "import nltk\n",
    "from nltk.corpus import stopwords\n",
    "import re\n",
    "import networkx\n",
    "\n",
    "import warnings\n",
    "warnings.filterwarnings(\"ignore\")\n",
    "\n",
    "sns.set(font_scale=1.5)\n",
    "sns.set_style(\"whitegrid\")"
   ]
  },
  {
   "cell_type": "code",
   "execution_count": 9,
   "metadata": {},
   "outputs": [],
   "source": [
    "all_reviews = [text for text in train.text]"
   ]
  },
  {
   "cell_type": "code",
   "execution_count": 10,
   "metadata": {},
   "outputs": [
    {
     "data": {
      "text/plain": [
       "['review_len', '545']"
      ]
     },
     "execution_count": 10,
     "metadata": {},
     "output_type": "execute_result"
    }
   ],
   "source": [
    "all_reviews[:2]"
   ]
  },
  {
   "cell_type": "code",
   "execution_count": 11,
   "metadata": {},
   "outputs": [],
   "source": [
    "def remove_url(txt):\n",
    "    \"\"\"Replace URLs found in a text string with nothing \n",
    "    (i.e. it will remove the URL from the string).\n",
    "\n",
    "    Parameters\n",
    "    ----------\n",
    "    txt : string\n",
    "        A text string that you want to parse and remove urls.\n",
    "\n",
    "    Returns\n",
    "    -------\n",
    "    The same txt string with url's removed.\n",
    "    \"\"\"\n",
    "\n",
    "    return \" \".join(re.sub(\"([^0-9A-Za-z \\t])|(\\w+:\\/\\/\\S+)\", \"\", txt).split())"
   ]
  },
  {
   "cell_type": "code",
   "execution_count": 12,
   "metadata": {},
   "outputs": [
    {
     "data": {
      "text/plain": [
       "['reviewlen', '545']"
      ]
     },
     "execution_count": 12,
     "metadata": {},
     "output_type": "execute_result"
    }
   ],
   "source": [
    "all_reviews_no_urls = [remove_url(text) for text in all_reviews]\n",
    "all_reviews_no_urls[:2]"
   ]
  },
  {
   "cell_type": "code",
   "execution_count": 13,
   "metadata": {},
   "outputs": [],
   "source": [
    "# Create a list of lists containing lowercase words for each tweet\n",
    "words_in_review = [review.lower().split() for review in all_reviews_no_urls]\n",
    "all_reviews_lower = [review.lower() for review in all_reviews_no_urls]"
   ]
  },
  {
   "cell_type": "code",
   "execution_count": 14,
   "metadata": {},
   "outputs": [],
   "source": [
    "# List of all words across tweets\n",
    "all_words_no_urls = list(itertools.chain(*words_in_review))"
   ]
  },
  {
   "cell_type": "code",
   "execution_count": 15,
   "metadata": {},
   "outputs": [
    {
     "data": {
      "text/plain": [
       "[('196', 55),\n",
       " ('241', 51),\n",
       " ('320', 48),\n",
       " ('272', 47),\n",
       " ('285', 47),\n",
       " ('270', 46),\n",
       " ('354', 46),\n",
       " ('254', 46),\n",
       " ('231', 45),\n",
       " ('178', 45),\n",
       " ('276', 45),\n",
       " ('337', 45),\n",
       " ('313', 45),\n",
       " ('189', 44),\n",
       " ('319', 44)]"
      ]
     },
     "execution_count": 15,
     "metadata": {},
     "output_type": "execute_result"
    }
   ],
   "source": [
    "# Collections library for python includes the counter function, which we will use here to count the frequency of words\n",
    "counts_no_urls = collections.Counter(all_words_no_urls)\n",
    "counts_no_urls.most_common(15)"
   ]
  },
  {
   "cell_type": "markdown",
   "metadata": {},
   "source": [
    "> Let's remove the stop words and analyze the top words again. This may give us more insight into the text."
   ]
  },
  {
   "cell_type": "code",
   "execution_count": 16,
   "metadata": {
    "scrolled": true
   },
   "outputs": [
    {
     "name": "stderr",
     "output_type": "stream",
     "text": [
      "[nltk_data] Downloading package stopwords to\n",
      "[nltk_data]     /Users/mattmerrill/nltk_data...\n",
      "[nltk_data]   Package stopwords is already up-to-date!\n"
     ]
    },
    {
     "data": {
      "text/plain": [
       "True"
      ]
     },
     "execution_count": 16,
     "metadata": {},
     "output_type": "execute_result"
    }
   ],
   "source": [
    "nltk.download('stopwords')"
   ]
  },
  {
   "cell_type": "code",
   "execution_count": 17,
   "metadata": {},
   "outputs": [],
   "source": [
    "stop_words = set(stopwords.words('english'))"
   ]
  },
  {
   "cell_type": "code",
   "execution_count": 18,
   "metadata": {},
   "outputs": [],
   "source": [
    "# Remove stop words from each review list of words\n",
    "reviews_nsw = [[word for word in review_words if not word in stop_words]\n",
    "              for review_words in words_in_review]"
   ]
  },
  {
   "cell_type": "code",
   "execution_count": 19,
   "metadata": {},
   "outputs": [
    {
     "data": {
      "text/plain": [
       "[('196', 55),\n",
       " ('241', 51),\n",
       " ('320', 48),\n",
       " ('272', 47),\n",
       " ('285', 47),\n",
       " ('270', 46),\n",
       " ('354', 46),\n",
       " ('254', 46),\n",
       " ('231', 45),\n",
       " ('178', 45),\n",
       " ('276', 45),\n",
       " ('337', 45),\n",
       " ('313', 45),\n",
       " ('189', 44),\n",
       " ('319', 44)]"
      ]
     },
     "execution_count": 19,
     "metadata": {},
     "output_type": "execute_result"
    }
   ],
   "source": [
    "# let's take a look again at the most common words\n",
    "all_words_nsw = list(itertools.chain(*reviews_nsw))\n",
    "\n",
    "counts_nsw = collections.Counter(all_words_nsw)\n",
    "\n",
    "counts_nsw.most_common(15)"
   ]
  },
  {
   "cell_type": "code",
   "execution_count": 20,
   "metadata": {},
   "outputs": [
    {
     "data": {
      "image/png": "[encoded data removed]",
      "text/plain": [
       "<Figure size 576x576 with 1 Axes>"
      ]
     },
     "metadata": {},
     "output_type": "display_data"
    }
   ],
   "source": [
    "clean_reviews_nsw = pd.DataFrame(counts_nsw.most_common(15),\n",
    "                             columns=['words', 'count'])\n",
    "\n",
    "fig, ax = plt.subplots(figsize=(8, 8))\n",
    "\n",
    "# Plot horizontal bar graph\n",
    "clean_reviews_nsw.sort_values(by='count').plot.barh(x='words',\n",
    "                      y='count',\n",
    "                      ax=ax,\n",
    "                      color=\"purple\")\n",
    "\n",
    "ax.set_title(\"Common Words Found in Reviews (Without Stop Words)\")\n",
    "\n",
    "plt.show()"
   ]
  },
  {
   "cell_type": "code",
   "execution_count": 21,
   "metadata": {},
   "outputs": [
    {
     "data": {
      "text/plain": [
       "['reviewlen', '545']"
      ]
     },
     "execution_count": 21,
     "metadata": {},
     "output_type": "execute_result"
    }
   ],
   "source": [
    "all_reviews_lower[:2]"
   ]
  },
  {
   "cell_type": "code",
   "execution_count": 22,
   "metadata": {},
   "outputs": [],
   "source": [
    "train['clean_text'] = all_reviews_lower"
   ]
  },
  {
   "cell_type": "code",
   "execution_count": 23,
   "metadata": {},
   "outputs": [],
   "source": [
    "train_unprocessed = train[['sentiment', 'text']]\n",
    "train_processed = train[['sentiment', 'clean_text']]"
   ]
  },
  {
   "cell_type": "markdown",
   "metadata": {},
   "source": [
    "## Machine Learning"
   ]
  },
  {
   "cell_type": "code",
   "execution_count": 24,
   "metadata": {},
   "outputs": [],
   "source": [
    "from sklearn.model_selection import train_test_split\n",
    "\n",
    "# Split into training and test\n",
    "train_raw, test_raw = train_test_split(train_unprocessed,test_size=0.2,random_state=3)\n",
    "train_clean, test_clean = train_test_split(train_processed,test_size=0.2,random_state=3)"
   ]
  },
  {
   "cell_type": "code",
   "execution_count": 25,
   "metadata": {},
   "outputs": [],
   "source": [
    "train_raw.to_csv('train_raw.csv', index=0)\n",
    "test_raw.to_csv('test_raw.csv', index=0)\n",
    "train_clean.to_csv('train_clean.csv', index=0)\n",
    "test_clean.to_csv('test_clean.csv', index=0)"
   ]
  },
  {
   "cell_type": "code",
   "execution_count": 26,
   "metadata": {},
   "outputs": [],
   "source": [
    "df = pd.read_csv('train_raw.csv').reset_index(drop=True)"
   ]
  },
  {
   "cell_type": "code",
   "execution_count": null,
   "metadata": {},
   "outputs": [],
   "source": []
  },
  {
   "cell_type": "code",
   "execution_count": 30,
   "metadata": {},
   "outputs": [
    {
     "ename": "AttributeError",
     "evalue": "module 'fastai.text.data' has no attribute 'TextDataLoaders'",
     "output_type": "error",
     "traceback": [
      "\u001b[0;31m---------------------------------------------------------------------------\u001b[0m",
      "\u001b[0;31mAttributeError\u001b[0m                            Traceback (most recent call last)",
      "\u001b[0;32m<ipython-input-30-3fb590b8b4af>\u001b[0m in \u001b[0;36m<module>\u001b[0;34m\u001b[0m\n\u001b[1;32m      1\u001b[0m \u001b[0;32mfrom\u001b[0m \u001b[0mfastai\u001b[0m\u001b[0;34m.\u001b[0m\u001b[0mtext\u001b[0m \u001b[0;32mimport\u001b[0m \u001b[0mdata\u001b[0m\u001b[0;34m\u001b[0m\u001b[0;34m\u001b[0m\u001b[0m\n\u001b[0;32m----> 2\u001b[0;31m \u001b[0mdls\u001b[0m \u001b[0;34m=\u001b[0m \u001b[0mdata\u001b[0m\u001b[0;34m.\u001b[0m\u001b[0mTextDataLoaders\u001b[0m\u001b[0;34m.\u001b[0m\u001b[0mfrom_df\u001b[0m\u001b[0;34m(\u001b[0m\u001b[0mdf\u001b[0m\u001b[0;34m,\u001b[0m \u001b[0mpath\u001b[0m\u001b[0;34m=\u001b[0m\u001b[0;34m''\u001b[0m\u001b[0;34m,\u001b[0m \u001b[0mtext_col\u001b[0m\u001b[0;34m=\u001b[0m\u001b[0;34m'text'\u001b[0m\u001b[0;34m,\u001b[0m \u001b[0mis_lm\u001b[0m\u001b[0;34m=\u001b[0m\u001b[0;32mTrue\u001b[0m\u001b[0;34m,\u001b[0m \u001b[0mlabel_col\u001b[0m\u001b[0;34m=\u001b[0m\u001b[0;34m'sentiment'\u001b[0m\u001b[0;34m)\u001b[0m\u001b[0;34m\u001b[0m\u001b[0;34m\u001b[0m\u001b[0m\n\u001b[0m",
      "\u001b[0;31mAttributeError\u001b[0m: module 'fastai.text.data' has no attribute 'TextDataLoaders'"
     ]
    }
   ],
   "source": [
    "from fastai.text import data\n",
    "dls = data.TextDataLoaders.from_df(df, path='', text_col='text', is_lm=True, label_col='sentiment')"
   ]
  },
  {
   "cell_type": "code",
   "execution_count": null,
   "metadata": {},
   "outputs": [],
   "source": []
  },
  {
   "cell_type": "code",
   "execution_count": null,
   "metadata": {},
   "outputs": [],
   "source": [
    "from fastai.text import learner\n",
    "learn = learner.language_model_learner(dls, AWD_LSTM, drop_mult=0.3)"
   ]
  },
  {
   "cell_type": "code",
   "execution_count": 82,
   "metadata": {},
   "outputs": [
    {
     "name": "stdout",
     "output_type": "stream",
     "text": [
      "Collecting package metadata (current_repodata.json): done\n",
      "Solving environment: done\n",
      "\n",
      "## Package Plan ##\n",
      "\n",
      "  environment location: /Users/mattmerrill/opt/anaconda3\n",
      "\n",
      "  added / updated specs:\n",
      "    - fastai\n",
      "\n",
      "\n",
      "The following packages will be downloaded:\n",
      "\n",
      "    package                    |            build\n",
      "    ---------------------------|-----------------\n",
      "    dataclasses-0.7            |           py37_0           9 KB\n",
      "    fastai-1.0.61              |                1         177 KB  fastai\n",
      "    nvidia-ml-py3-7.352.0      |             py_0          22 KB  fastai\n",
      "    ------------------------------------------------------------\n",
      "                                           Total:         207 KB\n",
      "\n",
      "The following NEW packages will be INSTALLED:\n",
      "\n",
      "  dataclasses        pkgs/main/osx-64::dataclasses-0.7-py37_0\n",
      "  nvidia-ml-py3      fastai/noarch::nvidia-ml-py3-7.352.0-py_0\n",
      "\n",
      "The following packages will be DOWNGRADED:\n",
      "\n",
      "  fastai                                         2.1.5-py_0 --> 1.0.61-1\n",
      "\n",
      "\n",
      "\n",
      "Downloading and Extracting Packages\n",
      "nvidia-ml-py3-7.352. | 22 KB     | ##################################### | 100% \n",
      "fastai-1.0.61        | 177 KB    | ##################################### | 100% \n",
      "dataclasses-0.7      | 9 KB      | ##################################### | 100% \n",
      "Preparing transaction: done\n",
      "Verifying transaction: done\n",
      "Executing transaction: done\n",
      "\n",
      "Note: you may need to restart the kernel to use updated packages.\n"
     ]
    }
   ],
   "source": [
    "conda install fastai -c fastai -c pytorch"
   ]
  },
  {
   "cell_type": "code",
   "execution_count": 31,
   "metadata": {},
   "outputs": [
    {
     "data": {
      "text/plain": [
       "'1.0.61'"
      ]
     },
     "execution_count": 31,
     "metadata": {},
     "output_type": "execute_result"
    }
   ],
   "source": [
    "import fastai; fastai.__version__"
   ]
  },
  {
   "cell_type": "code",
   "execution_count": 32,
   "metadata": {},
   "outputs": [
    {
     "data": {
      "text/plain": [
       "'1.0.61'"
      ]
     },
     "execution_count": 32,
     "metadata": {},
     "output_type": "execute_result"
    }
   ],
   "source": [
    "import fastai; fastai.__version__"
   ]
  },
  {
   "cell_type": "code",
   "execution_count": null,
   "metadata": {},
   "outputs": [],
   "source": []
  }
 ],
 "metadata": {
  "kernelspec": {
   "display_name": "Python 3",
   "language": "python",
   "name": "python3"
  },
  "language_info": {
   "codemirror_mode": {
    "name": "ipython",
    "version": 3
   },
   "file_extension": ".py",
   "mimetype": "text/x-python",
   "name": "python",
   "nbconvert_exporter": "python",
   "pygments_lexer": "ipython3",
   "version": "3.7.4"
  }
 },
 "nbformat": 4,
 "nbformat_minor": 2
}
