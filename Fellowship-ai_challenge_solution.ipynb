{
 "cells": [
  {
   "cell_type": "markdown",
   "metadata": {},
   "source": [
    "# Fellowship ai Sentiment Analysis Challenge with the Yelp Polarity dataset"
   ]
  },
  {
   "cell_type": "markdown",
   "metadata": {},
   "source": [
    "__Yelp Review Polarity Dataset__\n",
    "\n",
    "Version 1, Updated 09/09/2015\n",
    "\n",
    "ORIGIN\n",
    "\n",
    "The Yelp reviews dataset consists of reviews from Yelp. It is extracted from the Yelp Dataset Challenge 2015 data. For more information, please refer to http://www.yelp.com/dataset_challenge\n",
    "\n",
    "The Yelp reviews polarity dataset is constructed by Xiang Zhang (xiang.zhang@nyu.edu) from the above dataset. It is first used as a text classification benchmark in the following paper: Xiang Zhang, Junbo Zhao, Yann LeCun. Character-level Convolutional Networks for Text Classification. Advances in Neural Information Processing Systems 28 (NIPS 2015).\n",
    "\n",
    "\n",
    "DESCRIPTION\n",
    "\n",
    "The Yelp reviews polarity dataset is constructed by considering stars 1 and 2 negative, and 3 and 4 positive. For each polarity 280,000 training samples and 19,000 testing samples are take randomly. In total there are 560,000 trainig samples and 38,000 testing samples. Negative polarity is class 1, and positive class 2.\n",
    "\n",
    "The files train.csv and test.csv contain all the training samples as comma-sparated values. There are 2 columns in them, corresponding to class index (1 and 2) and review text. The review texts are escaped using double quotes (\"), and any internal double quote is escaped by 2 double quotes (\"\"). New lines are escaped by a backslash followed with an \"n\" character, that is \"\\n\".\n",
    "\n"
   ]
  },
  {
   "cell_type": "code",
   "execution_count": 1,
   "metadata": {},
   "outputs": [],
   "source": [
    "%matplotlib inline\n",
    "import os\n",
    "import glob\n",
    "import pandas as pd\n",
    "import numpy as np\n",
    "import matplotlib.pyplot as plt\n",
    "import seaborn as sns\n",
    "import tensorflow as tf\n",
    "from fastai.metrics import accuracy\n",
    "from fastai.text import *\n",
    "from fastai import *"
   ]
  },
  {
   "cell_type": "code",
   "execution_count": 2,
   "metadata": {},
   "outputs": [],
   "source": [
    "def read_in_data(df_names, directory = './'):\n",
    "    '''Read in data into seperate dataframes'''\n",
    "    \n",
    "    # change directory to data storage location\n",
    "    os.chdir(directory)\n",
    "    \n",
    "    # list of filenames\n",
    "    extension = 'csv'\n",
    "    filenames = [i for i in glob.glob('*.{}'.format(extension))]\n",
    "    \n",
    "    # create global dfs within function\n",
    "    for name, file in zip(df_names, filenames):\n",
    "        globals()[name] = pd.read_csv(file, header=None, names = ['sentiment', 'text'])"
   ]
  },
  {
   "cell_type": "code",
   "execution_count": 3,
   "metadata": {},
   "outputs": [],
   "source": [
    "# list of prefered dataframe names in same order as directory\n",
    "df_names = ['test', 'train']\n",
    "directory = '/Users/mattmerrill/Springboard/fellowship-ai_challenge/data'\n",
    "\n",
    "read_in_data(df_names, directory)"
   ]
  },
  {
   "cell_type": "code",
   "execution_count": 4,
   "metadata": {},
   "outputs": [
    {
     "data": {
      "text/html": [
       "<div>\n",
       "<style scoped>\n",
       "    .dataframe tbody tr th:only-of-type {\n",
       "        vertical-align: middle;\n",
       "    }\n",
       "\n",
       "    .dataframe tbody tr th {\n",
       "        vertical-align: top;\n",
       "    }\n",
       "\n",
       "    .dataframe thead th {\n",
       "        text-align: right;\n",
       "    }\n",
       "</style>\n",
       "<table border=\"1\" class=\"dataframe\">\n",
       "  <thead>\n",
       "    <tr style=\"text-align: right;\">\n",
       "      <th></th>\n",
       "      <th>sentiment</th>\n",
       "      <th>text</th>\n",
       "    </tr>\n",
       "  </thead>\n",
       "  <tbody>\n",
       "    <tr>\n",
       "      <td>0</td>\n",
       "      <td>1</td>\n",
       "      <td>Unfortunately, the frustration of being Dr. Goldberg's patient is a repeat of the experience I've had with so many other doctors in NYC -- good doctor, terrible staff.  It seems that his staff simply never answers the phone.  It usually takes 2 hours of repeated calling to get an answer.  Who has time for that or wants to deal with it?  I have run into this problem with many other doctors and I just don't get it.  You have office workers, you have patients with medical needs, why isn't anyone answering the phone?  It's incomprehensible and not work the aggravation.  It's with regret that I...</td>\n",
       "    </tr>\n",
       "    <tr>\n",
       "      <td>1</td>\n",
       "      <td>2</td>\n",
       "      <td>Been going to Dr. Goldberg for over 10 years. I think I was one of his 1st patients when he started at MHMG. He's been great over the years and is really all about the big picture. It is because of him, not my now former gyn Dr. Markoff, that I found out I have fibroids. He explores all options with you and is very patient and understanding. He doesn't judge and asks all the right questions. Very thorough and wants to be kept in the loop on every aspect of your medical health and your life.</td>\n",
       "    </tr>\n",
       "    <tr>\n",
       "      <td>2</td>\n",
       "      <td>1</td>\n",
       "      <td>I don't know what Dr. Goldberg was like before  moving to Arizona, but let me tell you, STAY AWAY from this doctor and this office. I was going to Dr. Johnson before he left and Goldberg took over when Johnson left. He is not a caring doctor. He is only interested in the co-pay and having you come in for medication refills every month. He will not give refills and could less about patients's financial situations. Trying to get your 90 days mail away pharmacy prescriptions through this guy is a joke. And to make matters even worse, his office staff is incompetent. 90% of the time when you c...</td>\n",
       "    </tr>\n",
       "    <tr>\n",
       "      <td>3</td>\n",
       "      <td>1</td>\n",
       "      <td>I'm writing this review to give you a heads up before you see this Doctor. The office staff and administration are very unprofessional. I left a message with multiple people regarding my bill, and no one ever called me back. I had to hound them to get an answer about my bill. \\n\\nSecond, and most important, make sure your insurance is going to cover Dr. Goldberg's visits and blood work. He recommended to me that I get a physical, and he knew I was a student because I told him. I got the physical done. Later, I found out my health insurance doesn't pay for preventative visits. I received an...</td>\n",
       "    </tr>\n",
       "    <tr>\n",
       "      <td>4</td>\n",
       "      <td>2</td>\n",
       "      <td>All the food is great here. But the best thing they have is their wings. Their wings are simply fantastic!!  The \\\"Wet Cajun\\\" are by the best &amp; most popular.  I also like the seasoned salt wings.  Wing Night is Monday &amp; Wednesday night, $0.75 whole wings!\\n\\nThe dining area is nice. Very family friendly! The bar is very nice is well.  This place is truly a Yinzer's dream!!  \\\"Pittsburgh Dad\\\" would love this place n'at!!</td>\n",
       "    </tr>\n",
       "  </tbody>\n",
       "</table>\n",
       "</div>"
      ],
      "text/plain": [
       "   sentiment  \\\n",
       "0          1   \n",
       "1          2   \n",
       "2          1   \n",
       "3          1   \n",
       "4          2   \n",
       "\n",
       "                                                                                                                                                                                                                                                                                                                                                                                                                                                                                                                                                                                                                      text  \n",
       "0  Unfortunately, the frustration of being Dr. Goldberg's patient is a repeat of the experience I've had with so many other doctors in NYC -- good doctor, terrible staff.  It seems that his staff simply never answers the phone.  It usually takes 2 hours of repeated calling to get an answer.  Who has time for that or wants to deal with it?  I have run into this problem with many other doctors and I just don't get it.  You have office workers, you have patients with medical needs, why isn't anyone answering the phone?  It's incomprehensible and not work the aggravation.  It's with regret that I...  \n",
       "1                                                                                                          Been going to Dr. Goldberg for over 10 years. I think I was one of his 1st patients when he started at MHMG. He's been great over the years and is really all about the big picture. It is because of him, not my now former gyn Dr. Markoff, that I found out I have fibroids. He explores all options with you and is very patient and understanding. He doesn't judge and asks all the right questions. Very thorough and wants to be kept in the loop on every aspect of your medical health and your life.  \n",
       "2  I don't know what Dr. Goldberg was like before  moving to Arizona, but let me tell you, STAY AWAY from this doctor and this office. I was going to Dr. Johnson before he left and Goldberg took over when Johnson left. He is not a caring doctor. He is only interested in the co-pay and having you come in for medication refills every month. He will not give refills and could less about patients's financial situations. Trying to get your 90 days mail away pharmacy prescriptions through this guy is a joke. And to make matters even worse, his office staff is incompetent. 90% of the time when you c...  \n",
       "3  I'm writing this review to give you a heads up before you see this Doctor. The office staff and administration are very unprofessional. I left a message with multiple people regarding my bill, and no one ever called me back. I had to hound them to get an answer about my bill. \\n\\nSecond, and most important, make sure your insurance is going to cover Dr. Goldberg's visits and blood work. He recommended to me that I get a physical, and he knew I was a student because I told him. I got the physical done. Later, I found out my health insurance doesn't pay for preventative visits. I received an...  \n",
       "4                                                                                                                                                                                All the food is great here. But the best thing they have is their wings. Their wings are simply fantastic!!  The \\\"Wet Cajun\\\" are by the best & most popular.  I also like the seasoned salt wings.  Wing Night is Monday & Wednesday night, $0.75 whole wings!\\n\\nThe dining area is nice. Very family friendly! The bar is very nice is well.  This place is truly a Yinzer's dream!!  \\\"Pittsburgh Dad\\\" would love this place n'at!!  "
      ]
     },
     "execution_count": 4,
     "metadata": {},
     "output_type": "execute_result"
    }
   ],
   "source": [
    "train.head()"
   ]
  },
  {
   "cell_type": "code",
   "execution_count": 5,
   "metadata": {},
   "outputs": [
    {
     "data": {
      "text/html": [
       "<div>\n",
       "<style scoped>\n",
       "    .dataframe tbody tr th:only-of-type {\n",
       "        vertical-align: middle;\n",
       "    }\n",
       "\n",
       "    .dataframe tbody tr th {\n",
       "        vertical-align: top;\n",
       "    }\n",
       "\n",
       "    .dataframe thead th {\n",
       "        text-align: right;\n",
       "    }\n",
       "</style>\n",
       "<table border=\"1\" class=\"dataframe\">\n",
       "  <thead>\n",
       "    <tr style=\"text-align: right;\">\n",
       "      <th></th>\n",
       "      <th>sentiment</th>\n",
       "      <th>text</th>\n",
       "    </tr>\n",
       "  </thead>\n",
       "  <tbody>\n",
       "    <tr>\n",
       "      <td>0</td>\n",
       "      <td>2</td>\n",
       "      <td>Contrary to other reviews, I have zero complaints about the service or the prices. I have been getting tire service here for the past 5 years now, and compared to my experience with places like Pep Boys, these guys are experienced and know what they're doing. \\nAlso, this is one place that I do not feel like I am being taken advantage of, just because of my gender. Other auto mechanics have been notorious for capitalizing on my ignorance of cars, and have sucked my bank account dry. But here, my service and road coverage has all been well explained - and let up to me to decide. \\nAnd they ...</td>\n",
       "    </tr>\n",
       "    <tr>\n",
       "      <td>1</td>\n",
       "      <td>1</td>\n",
       "      <td>Last summer I had an appointment to get new tires and had to wait a super long time. I also went in this week for them to fix a minor problem with a tire they put on. They \\\"fixed\\\" it for free, and the very next morning I had the same issue. I called to complain, and the \\\"manager\\\" didn't even apologize!!! So frustrated. Never going back.  They seem overpriced, too.</td>\n",
       "    </tr>\n",
       "    <tr>\n",
       "      <td>2</td>\n",
       "      <td>2</td>\n",
       "      <td>Friendly staff, same starbucks fair you get anywhere else.  Sometimes the lines can get long.</td>\n",
       "    </tr>\n",
       "    <tr>\n",
       "      <td>3</td>\n",
       "      <td>1</td>\n",
       "      <td>The food is good. Unfortunately the service is very hit or miss. The main issue seems to be with the kitchen, the waiters and waitresses are often very apologetic for the long waits and it's pretty obvious that some of them avoid the tables after taking the initial order to avoid hearing complaints.</td>\n",
       "    </tr>\n",
       "    <tr>\n",
       "      <td>4</td>\n",
       "      <td>2</td>\n",
       "      <td>Even when we didn't have a car Filene's Basement was worth the bus trip to the Waterfront. I always find something (usually I find 3-4 things and spend about $60) and better still, I am always still wearing the clothes and shoes 3 months later. \\n\\nI kind of suspect this is the best shopping in Pittsburgh; it's much better than the usual department stores, better than Marshall's and TJ Maxx and better than the Saks downtown, even when it has a sale. Selection, bargains AND quality.\\n\\nI like this Filene's better than Gabriel Brothers, which are harder to get to. Gabriel Brothers are a real...</td>\n",
       "    </tr>\n",
       "  </tbody>\n",
       "</table>\n",
       "</div>"
      ],
      "text/plain": [
       "   sentiment  \\\n",
       "0          2   \n",
       "1          1   \n",
       "2          2   \n",
       "3          1   \n",
       "4          2   \n",
       "\n",
       "                                                                                                                                                                                                                                                                                                                                                                                                                                                                                                                                                                                                                      text  \n",
       "0  Contrary to other reviews, I have zero complaints about the service or the prices. I have been getting tire service here for the past 5 years now, and compared to my experience with places like Pep Boys, these guys are experienced and know what they're doing. \\nAlso, this is one place that I do not feel like I am being taken advantage of, just because of my gender. Other auto mechanics have been notorious for capitalizing on my ignorance of cars, and have sucked my bank account dry. But here, my service and road coverage has all been well explained - and let up to me to decide. \\nAnd they ...  \n",
       "1                                                                                                                                                                                                                                       Last summer I had an appointment to get new tires and had to wait a super long time. I also went in this week for them to fix a minor problem with a tire they put on. They \\\"fixed\\\" it for free, and the very next morning I had the same issue. I called to complain, and the \\\"manager\\\" didn't even apologize!!! So frustrated. Never going back.  They seem overpriced, too.  \n",
       "2                                                                                                                                                                                                                                                                                                                                                                                                                                                                                                                            Friendly staff, same starbucks fair you get anywhere else.  Sometimes the lines can get long.  \n",
       "3                                                                                                                                                                                                                                                                                                             The food is good. Unfortunately the service is very hit or miss. The main issue seems to be with the kitchen, the waiters and waitresses are often very apologetic for the long waits and it's pretty obvious that some of them avoid the tables after taking the initial order to avoid hearing complaints.  \n",
       "4  Even when we didn't have a car Filene's Basement was worth the bus trip to the Waterfront. I always find something (usually I find 3-4 things and spend about $60) and better still, I am always still wearing the clothes and shoes 3 months later. \\n\\nI kind of suspect this is the best shopping in Pittsburgh; it's much better than the usual department stores, better than Marshall's and TJ Maxx and better than the Saks downtown, even when it has a sale. Selection, bargains AND quality.\\n\\nI like this Filene's better than Gabriel Brothers, which are harder to get to. Gabriel Brothers are a real...  "
      ]
     },
     "execution_count": 5,
     "metadata": {},
     "output_type": "execute_result"
    }
   ],
   "source": [
    "test.head()"
   ]
  },
  {
   "cell_type": "code",
   "execution_count": 6,
   "metadata": {},
   "outputs": [
    {
     "name": "stdout",
     "output_type": "stream",
     "text": [
      "<class 'pandas.core.frame.DataFrame'>\n",
      "RangeIndex: 560000 entries, 0 to 559999\n",
      "Data columns (total 2 columns):\n",
      "sentiment    560000 non-null int64\n",
      "text         560000 non-null object\n",
      "dtypes: int64(1), object(1)\n",
      "memory usage: 8.5+ MB\n"
     ]
    }
   ],
   "source": [
    "train.info()"
   ]
  },
  {
   "cell_type": "code",
   "execution_count": 7,
   "metadata": {},
   "outputs": [
    {
     "name": "stdout",
     "output_type": "stream",
     "text": [
      "<class 'pandas.core.frame.DataFrame'>\n",
      "RangeIndex: 38000 entries, 0 to 37999\n",
      "Data columns (total 2 columns):\n",
      "sentiment    38000 non-null int64\n",
      "text         38000 non-null object\n",
      "dtypes: int64(1), object(1)\n",
      "memory usage: 593.9+ KB\n"
     ]
    }
   ],
   "source": [
    "test.info()"
   ]
  },
  {
   "cell_type": "markdown",
   "metadata": {},
   "source": [
    "## Fellowship ai Challenge Description\n",
    "\n",
    "Perform Sentiment analysis using ULMFiT on Yelp reviews - Polarity and apply the EDA augmentation. Report the performance metrics for before and after augmentation? show examples of data augmentaion?"
   ]
  },
  {
   "cell_type": "markdown",
   "metadata": {},
   "source": [
    "## Exploratory Analysis\n",
    "\n",
    "Before processing with ULMFiT let's perform some expoloratory analysis to find out most common words, in the process we will also clean the text of urls and lower the case of all words to avoid unnecessary repeats. "
   ]
  },
  {
   "cell_type": "code",
   "execution_count": 8,
   "metadata": {},
   "outputs": [],
   "source": [
    "import itertools\n",
    "import collections\n",
    "\n",
    "import nltk\n",
    "from nltk.corpus import stopwords\n",
    "import re\n",
    "import networkx\n",
    "\n",
    "import warnings\n",
    "warnings.filterwarnings(\"ignore\")\n",
    "\n",
    "sns.set(font_scale=1.5)\n",
    "sns.set_style(\"whitegrid\")"
   ]
  },
  {
   "cell_type": "code",
   "execution_count": 9,
   "metadata": {},
   "outputs": [],
   "source": [
    "all_reviews = [text for text in train.text]"
   ]
  },
  {
   "cell_type": "code",
   "execution_count": 10,
   "metadata": {},
   "outputs": [
    {
     "data": {
      "text/plain": [
       "[\"Unfortunately, the frustration of being Dr. Goldberg's patient is a repeat of the experience I've had with so many other doctors in NYC -- good doctor, terrible staff.  It seems that his staff simply never answers the phone.  It usually takes 2 hours of repeated calling to get an answer.  Who has time for that or wants to deal with it?  I have run into this problem with many other doctors and I just don't get it.  You have office workers, you have patients with medical needs, why isn't anyone answering the phone?  It's incomprehensible and not work the aggravation.  It's with regret that I feel that I have to give Dr. Goldberg 2 stars.\",\n",
       " \"Been going to Dr. Goldberg for over 10 years. I think I was one of his 1st patients when he started at MHMG. He's been great over the years and is really all about the big picture. It is because of him, not my now former gyn Dr. Markoff, that I found out I have fibroids. He explores all options with you and is very patient and understanding. He doesn't judge and asks all the right questions. Very thorough and wants to be kept in the loop on every aspect of your medical health and your life.\",\n",
       " \"I don't know what Dr. Goldberg was like before  moving to Arizona, but let me tell you, STAY AWAY from this doctor and this office. I was going to Dr. Johnson before he left and Goldberg took over when Johnson left. He is not a caring doctor. He is only interested in the co-pay and having you come in for medication refills every month. He will not give refills and could less about patients's financial situations. Trying to get your 90 days mail away pharmacy prescriptions through this guy is a joke. And to make matters even worse, his office staff is incompetent. 90% of the time when you call the office, they'll put you through to a voice mail, that NO ONE ever answers or returns your call. Both my adult children and husband have decided to leave this practice after experiencing such frustration. The entire office has an attitude like they are doing you a favor. Give me a break! Stay away from this doc and the practice. You deserve better and they will not be there when you really need them. I have never felt compelled to write a bad review about anyone until I met this pathetic excuse for a doctor who is all about the money.\",\n",
       " \"I'm writing this review to give you a heads up before you see this Doctor. The office staff and administration are very unprofessional. I left a message with multiple people regarding my bill, and no one ever called me back. I had to hound them to get an answer about my bill. \\\\n\\\\nSecond, and most important, make sure your insurance is going to cover Dr. Goldberg's visits and blood work. He recommended to me that I get a physical, and he knew I was a student because I told him. I got the physical done. Later, I found out my health insurance doesn't pay for preventative visits. I received an $800.00 bill for the blood work. I can't pay for my bill because I'm a student and don't have any cash flow at this current time. I can't believe the Doctor wouldn't give me a heads up to make sure my insurance would cover work that wasn't necessary and was strictly preventative. The office can't do anything to help me cover the bill. In addition, the office staff said the onus is on me to make sure my insurance covers visits. Frustrating situation!\",\n",
       " 'All the food is great here. But the best thing they have is their wings. Their wings are simply fantastic!!  The \\\\\"Wet Cajun\\\\\" are by the best & most popular.  I also like the seasoned salt wings.  Wing Night is Monday & Wednesday night, $0.75 whole wings!\\\\n\\\\nThe dining area is nice. Very family friendly! The bar is very nice is well.  This place is truly a Yinzer\\'s dream!!  \\\\\"Pittsburgh Dad\\\\\" would love this place n\\'at!!']"
      ]
     },
     "execution_count": 10,
     "metadata": {},
     "output_type": "execute_result"
    }
   ],
   "source": [
    "all_reviews[:5]"
   ]
  },
  {
   "cell_type": "code",
   "execution_count": 11,
   "metadata": {},
   "outputs": [],
   "source": [
    "def remove_url(txt):\n",
    "    \"\"\"Replace URLs found in a text string with nothing \n",
    "    (i.e. it will remove the URL from the string).\n",
    "\n",
    "    Parameters\n",
    "    ----------\n",
    "    txt : string\n",
    "        A text string that you want to parse and remove urls.\n",
    "\n",
    "    Returns\n",
    "    -------\n",
    "    The same txt string with url's removed.\n",
    "    \"\"\"\n",
    "\n",
    "    return \" \".join(re.sub(\"([^0-9A-Za-z \\t])|(\\w+:\\/\\/\\S+)\", \"\", txt).split())"
   ]
  },
  {
   "cell_type": "code",
   "execution_count": 12,
   "metadata": {},
   "outputs": [
    {
     "data": {
      "text/plain": [
       "['Unfortunately the frustration of being Dr Goldbergs patient is a repeat of the experience Ive had with so many other doctors in NYC good doctor terrible staff It seems that his staff simply never answers the phone It usually takes 2 hours of repeated calling to get an answer Who has time for that or wants to deal with it I have run into this problem with many other doctors and I just dont get it You have office workers you have patients with medical needs why isnt anyone answering the phone Its incomprehensible and not work the aggravation Its with regret that I feel that I have to give Dr Goldberg 2 stars',\n",
       " 'Been going to Dr Goldberg for over 10 years I think I was one of his 1st patients when he started at MHMG Hes been great over the years and is really all about the big picture It is because of him not my now former gyn Dr Markoff that I found out I have fibroids He explores all options with you and is very patient and understanding He doesnt judge and asks all the right questions Very thorough and wants to be kept in the loop on every aspect of your medical health and your life',\n",
       " 'I dont know what Dr Goldberg was like before moving to Arizona but let me tell you STAY AWAY from this doctor and this office I was going to Dr Johnson before he left and Goldberg took over when Johnson left He is not a caring doctor He is only interested in the copay and having you come in for medication refills every month He will not give refills and could less about patientss financial situations Trying to get your 90 days mail away pharmacy prescriptions through this guy is a joke And to make matters even worse his office staff is incompetent 90 of the time when you call the office theyll put you through to a voice mail that NO ONE ever answers or returns your call Both my adult children and husband have decided to leave this practice after experiencing such frustration The entire office has an attitude like they are doing you a favor Give me a break Stay away from this doc and the practice You deserve better and they will not be there when you really need them I have never felt compelled to write a bad review about anyone until I met this pathetic excuse for a doctor who is all about the money',\n",
       " 'Im writing this review to give you a heads up before you see this Doctor The office staff and administration are very unprofessional I left a message with multiple people regarding my bill and no one ever called me back I had to hound them to get an answer about my bill nnSecond and most important make sure your insurance is going to cover Dr Goldbergs visits and blood work He recommended to me that I get a physical and he knew I was a student because I told him I got the physical done Later I found out my health insurance doesnt pay for preventative visits I received an 80000 bill for the blood work I cant pay for my bill because Im a student and dont have any cash flow at this current time I cant believe the Doctor wouldnt give me a heads up to make sure my insurance would cover work that wasnt necessary and was strictly preventative The office cant do anything to help me cover the bill In addition the office staff said the onus is on me to make sure my insurance covers visits Frustrating situation',\n",
       " 'All the food is great here But the best thing they have is their wings Their wings are simply fantastic The Wet Cajun are by the best most popular I also like the seasoned salt wings Wing Night is Monday Wednesday night 075 whole wingsnnThe dining area is nice Very family friendly The bar is very nice is well This place is truly a Yinzers dream Pittsburgh Dad would love this place nat']"
      ]
     },
     "execution_count": 12,
     "metadata": {},
     "output_type": "execute_result"
    }
   ],
   "source": [
    "all_reviews_no_urls = [remove_url(text) for text in all_reviews]\n",
    "all_reviews_no_urls[:5]"
   ]
  },
  {
   "cell_type": "code",
   "execution_count": 13,
   "metadata": {},
   "outputs": [
    {
     "data": {
      "text/plain": [
       "[['unfortunately',\n",
       "  'the',\n",
       "  'frustration',\n",
       "  'of',\n",
       "  'being',\n",
       "  'dr',\n",
       "  'goldbergs',\n",
       "  'patient',\n",
       "  'is',\n",
       "  'a',\n",
       "  'repeat',\n",
       "  'of',\n",
       "  'the',\n",
       "  'experience',\n",
       "  'ive',\n",
       "  'had',\n",
       "  'with',\n",
       "  'so',\n",
       "  'many',\n",
       "  'other',\n",
       "  'doctors',\n",
       "  'in',\n",
       "  'nyc',\n",
       "  'good',\n",
       "  'doctor',\n",
       "  'terrible',\n",
       "  'staff',\n",
       "  'it',\n",
       "  'seems',\n",
       "  'that',\n",
       "  'his',\n",
       "  'staff',\n",
       "  'simply',\n",
       "  'never',\n",
       "  'answers',\n",
       "  'the',\n",
       "  'phone',\n",
       "  'it',\n",
       "  'usually',\n",
       "  'takes',\n",
       "  '2',\n",
       "  'hours',\n",
       "  'of',\n",
       "  'repeated',\n",
       "  'calling',\n",
       "  'to',\n",
       "  'get',\n",
       "  'an',\n",
       "  'answer',\n",
       "  'who',\n",
       "  'has',\n",
       "  'time',\n",
       "  'for',\n",
       "  'that',\n",
       "  'or',\n",
       "  'wants',\n",
       "  'to',\n",
       "  'deal',\n",
       "  'with',\n",
       "  'it',\n",
       "  'i',\n",
       "  'have',\n",
       "  'run',\n",
       "  'into',\n",
       "  'this',\n",
       "  'problem',\n",
       "  'with',\n",
       "  'many',\n",
       "  'other',\n",
       "  'doctors',\n",
       "  'and',\n",
       "  'i',\n",
       "  'just',\n",
       "  'dont',\n",
       "  'get',\n",
       "  'it',\n",
       "  'you',\n",
       "  'have',\n",
       "  'office',\n",
       "  'workers',\n",
       "  'you',\n",
       "  'have',\n",
       "  'patients',\n",
       "  'with',\n",
       "  'medical',\n",
       "  'needs',\n",
       "  'why',\n",
       "  'isnt',\n",
       "  'anyone',\n",
       "  'answering',\n",
       "  'the',\n",
       "  'phone',\n",
       "  'its',\n",
       "  'incomprehensible',\n",
       "  'and',\n",
       "  'not',\n",
       "  'work',\n",
       "  'the',\n",
       "  'aggravation',\n",
       "  'its',\n",
       "  'with',\n",
       "  'regret',\n",
       "  'that',\n",
       "  'i',\n",
       "  'feel',\n",
       "  'that',\n",
       "  'i',\n",
       "  'have',\n",
       "  'to',\n",
       "  'give',\n",
       "  'dr',\n",
       "  'goldberg',\n",
       "  '2',\n",
       "  'stars']]"
      ]
     },
     "execution_count": 13,
     "metadata": {},
     "output_type": "execute_result"
    }
   ],
   "source": [
    "# Create a list of lists containing lowercase words for each tweet\n",
    "words_in_review = [review.lower().split() for review in all_reviews_no_urls]\n",
    "words_in_review[:1]"
   ]
  },
  {
   "cell_type": "code",
   "execution_count": 14,
   "metadata": {},
   "outputs": [],
   "source": [
    "# List of all words across tweets\n",
    "all_words_no_urls = list(itertools.chain(*words_in_review))"
   ]
  },
  {
   "cell_type": "code",
   "execution_count": 15,
   "metadata": {},
   "outputs": [
    {
     "data": {
      "text/plain": [
       "[('the', 3679294),\n",
       " ('and', 2403526),\n",
       " ('i', 1928076),\n",
       " ('to', 1883800),\n",
       " ('a', 1877056),\n",
       " ('was', 1325476),\n",
       " ('of', 1107741),\n",
       " ('it', 950032),\n",
       " ('for', 860446),\n",
       " ('in', 845959),\n",
       " ('is', 827323),\n",
       " ('that', 702757),\n",
       " ('my', 664211),\n",
       " ('we', 597584),\n",
       " ('this', 590778)]"
      ]
     },
     "execution_count": 15,
     "metadata": {},
     "output_type": "execute_result"
    }
   ],
   "source": [
    "# Collections library for python includes the counter function, which we will use here to count the frequency of words\n",
    "counts_no_urls = collections.Counter(all_words_no_urls)\n",
    "counts_no_urls.most_common(15)"
   ]
  },
  {
   "cell_type": "markdown",
   "metadata": {},
   "source": [
    "> Let's remove the stop words and analyze the top words again. This may give us more insight into the text."
   ]
  },
  {
   "cell_type": "code",
   "execution_count": 16,
   "metadata": {
    "scrolled": true
   },
   "outputs": [
    {
     "name": "stderr",
     "output_type": "stream",
     "text": [
      "[nltk_data] Downloading package stopwords to\n",
      "[nltk_data]     /Users/mattmerrill/nltk_data...\n",
      "[nltk_data]   Package stopwords is already up-to-date!\n"
     ]
    },
    {
     "data": {
      "text/plain": [
       "True"
      ]
     },
     "execution_count": 16,
     "metadata": {},
     "output_type": "execute_result"
    }
   ],
   "source": [
    "nltk.download('stopwords')"
   ]
  },
  {
   "cell_type": "code",
   "execution_count": 17,
   "metadata": {},
   "outputs": [],
   "source": [
    "stop_words = set(stopwords.words('english'))"
   ]
  },
  {
   "cell_type": "code",
   "execution_count": 18,
   "metadata": {},
   "outputs": [
    {
     "data": {
      "text/plain": [
       "['unfortunately',\n",
       " 'the',\n",
       " 'frustration',\n",
       " 'of',\n",
       " 'being',\n",
       " 'dr',\n",
       " 'goldbergs',\n",
       " 'patient',\n",
       " 'is',\n",
       " 'a',\n",
       " 'repeat',\n",
       " 'of',\n",
       " 'the',\n",
       " 'experience',\n",
       " 'ive',\n",
       " 'had',\n",
       " 'with',\n",
       " 'so',\n",
       " 'many',\n",
       " 'other',\n",
       " 'doctors',\n",
       " 'in',\n",
       " 'nyc',\n",
       " 'good',\n",
       " 'doctor',\n",
       " 'terrible',\n",
       " 'staff',\n",
       " 'it',\n",
       " 'seems',\n",
       " 'that',\n",
       " 'his',\n",
       " 'staff',\n",
       " 'simply',\n",
       " 'never',\n",
       " 'answers',\n",
       " 'the',\n",
       " 'phone',\n",
       " 'it',\n",
       " 'usually',\n",
       " 'takes',\n",
       " '2',\n",
       " 'hours',\n",
       " 'of',\n",
       " 'repeated',\n",
       " 'calling',\n",
       " 'to',\n",
       " 'get',\n",
       " 'an',\n",
       " 'answer',\n",
       " 'who',\n",
       " 'has',\n",
       " 'time',\n",
       " 'for',\n",
       " 'that',\n",
       " 'or',\n",
       " 'wants',\n",
       " 'to',\n",
       " 'deal',\n",
       " 'with',\n",
       " 'it',\n",
       " 'i',\n",
       " 'have',\n",
       " 'run',\n",
       " 'into',\n",
       " 'this',\n",
       " 'problem',\n",
       " 'with',\n",
       " 'many',\n",
       " 'other',\n",
       " 'doctors',\n",
       " 'and',\n",
       " 'i',\n",
       " 'just',\n",
       " 'dont',\n",
       " 'get',\n",
       " 'it',\n",
       " 'you',\n",
       " 'have',\n",
       " 'office',\n",
       " 'workers',\n",
       " 'you',\n",
       " 'have',\n",
       " 'patients',\n",
       " 'with',\n",
       " 'medical',\n",
       " 'needs',\n",
       " 'why',\n",
       " 'isnt',\n",
       " 'anyone',\n",
       " 'answering',\n",
       " 'the',\n",
       " 'phone',\n",
       " 'its',\n",
       " 'incomprehensible',\n",
       " 'and',\n",
       " 'not',\n",
       " 'work',\n",
       " 'the',\n",
       " 'aggravation',\n",
       " 'its',\n",
       " 'with',\n",
       " 'regret',\n",
       " 'that',\n",
       " 'i',\n",
       " 'feel',\n",
       " 'that',\n",
       " 'i',\n",
       " 'have',\n",
       " 'to',\n",
       " 'give',\n",
       " 'dr',\n",
       " 'goldberg',\n",
       " '2',\n",
       " 'stars']"
      ]
     },
     "execution_count": 18,
     "metadata": {},
     "output_type": "execute_result"
    }
   ],
   "source": [
    "words_in_review[0]"
   ]
  },
  {
   "cell_type": "code",
   "execution_count": 19,
   "metadata": {},
   "outputs": [
    {
     "data": {
      "text/plain": [
       "['unfortunately',\n",
       " 'frustration',\n",
       " 'dr',\n",
       " 'goldbergs',\n",
       " 'patient',\n",
       " 'repeat',\n",
       " 'experience',\n",
       " 'ive',\n",
       " 'many',\n",
       " 'doctors',\n",
       " 'nyc',\n",
       " 'good',\n",
       " 'doctor',\n",
       " 'terrible',\n",
       " 'staff',\n",
       " 'seems',\n",
       " 'staff',\n",
       " 'simply',\n",
       " 'never',\n",
       " 'answers',\n",
       " 'phone',\n",
       " 'usually',\n",
       " 'takes',\n",
       " '2',\n",
       " 'hours',\n",
       " 'repeated',\n",
       " 'calling',\n",
       " 'get',\n",
       " 'answer',\n",
       " 'time',\n",
       " 'wants',\n",
       " 'deal',\n",
       " 'run',\n",
       " 'problem',\n",
       " 'many',\n",
       " 'doctors',\n",
       " 'dont',\n",
       " 'get',\n",
       " 'office',\n",
       " 'workers',\n",
       " 'patients',\n",
       " 'medical',\n",
       " 'needs',\n",
       " 'isnt',\n",
       " 'anyone',\n",
       " 'answering',\n",
       " 'phone',\n",
       " 'incomprehensible',\n",
       " 'work',\n",
       " 'aggravation',\n",
       " 'regret',\n",
       " 'feel',\n",
       " 'give',\n",
       " 'dr',\n",
       " 'goldberg',\n",
       " '2',\n",
       " 'stars']"
      ]
     },
     "execution_count": 19,
     "metadata": {},
     "output_type": "execute_result"
    }
   ],
   "source": [
    "# Remove stop words from each review list of words\n",
    "reviews_nsw = [[word for word in review_words if not word in stop_words]\n",
    "              for review_words in words_in_review]\n",
    "reviews_nsw[0]"
   ]
  },
  {
   "cell_type": "code",
   "execution_count": null,
   "metadata": {},
   "outputs": [],
   "source": [
    "# let's take a look again at the most common words\n",
    "all_words_nsw = list(itertools.chain(*reviews_nsw))\n",
    "\n",
    "counts_nsw = collections.Counter(all_words_nsw)\n",
    "\n",
    "counts_nsw.most_common(15)"
   ]
  },
  {
   "cell_type": "code",
   "execution_count": null,
   "metadata": {},
   "outputs": [],
   "source": [
    "clean_reviews_nsw = pd.DataFrame(counts_nsw.most_common(15),\n",
    "                             columns=['words', 'count'])\n",
    "\n",
    "fig, ax = plt.subplots(figsize=(8, 8))\n",
    "\n",
    "# Plot horizontal bar graph\n",
    "clean_reviews_nsw.sort_values(by='count').plot.barh(x='words',\n",
    "                      y='count',\n",
    "                      ax=ax,\n",
    "                      color=\"purple\")\n",
    "\n",
    "ax.set_title(\"Common Words Found in Reviews (Without Stop Words)\")\n",
    "\n",
    "plt.show()"
   ]
  },
  {
   "cell_type": "code",
   "execution_count": null,
   "metadata": {},
   "outputs": [],
   "source": []
  }
 ],
 "metadata": {
  "kernelspec": {
   "display_name": "Python 3",
   "language": "python",
   "name": "python3"
  },
  "language_info": {
   "codemirror_mode": {
    "name": "ipython",
    "version": 3
   },
   "file_extension": ".py",
   "mimetype": "text/x-python",
   "name": "python",
   "nbconvert_exporter": "python",
   "pygments_lexer": "ipython3",
   "version": "3.7.4"
  }
 },
 "nbformat": 4,
 "nbformat_minor": 2
}
